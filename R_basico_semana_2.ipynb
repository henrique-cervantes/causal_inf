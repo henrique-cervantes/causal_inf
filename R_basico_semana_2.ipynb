{
 "cells": [
  {
   "cell_type": "markdown",
   "metadata": {},
   "source": [
    "# FOUNDATIONS OF INFERENCE"
   ]
  },
  {
   "cell_type": "markdown",
   "metadata": {},
   "source": [
    "Importação das bibliotecas:"
   ]
  },
  {
   "cell_type": "code",
   "execution_count": 1,
   "metadata": {},
   "outputs": [
    {
     "name": "stderr",
     "output_type": "stream",
     "text": [
      "Registered S3 methods overwritten by 'ggplot2':\n",
      "  method         from \n",
      "  [.quosures     rlang\n",
      "  c.quosures     rlang\n",
      "  print.quosures rlang\n",
      "Registered S3 method overwritten by 'rvest':\n",
      "  method            from\n",
      "  read_xml.response xml2\n",
      "-- Attaching packages --------------------------------------- tidyverse 1.2.1 --\n",
      "v ggplot2 3.1.1       v purrr   0.3.2  \n",
      "v tibble  2.1.1       v dplyr   0.8.0.1\n",
      "v tidyr   0.8.3       v stringr 1.4.0  \n",
      "v readr   1.3.1       v forcats 0.4.0  \n",
      "-- Conflicts ------------------------------------------ tidyverse_conflicts() --\n",
      "x dplyr::filter() masks stats::filter()\n",
      "x dplyr::lag()    masks stats::lag()\n",
      "Warning message:\n",
      "\"package 'infer' was built under R version 3.6.3\""
     ]
    }
   ],
   "source": [
    "# Importação das bibliotecas\n",
    "library(tidyverse)\n",
    "library(ggplot2)\n",
    "# Nossa discussão será sobretudo sobre ferramentas da biblioteca infer!\n",
    "library(infer)"
   ]
  },
  {
   "cell_type": "markdown",
   "metadata": {},
   "source": [
    "## CAPÍTULOS 1, 2 e 3:"
   ]
  },
  {
   "cell_type": "markdown",
   "metadata": {},
   "source": [
    "#### INFERÊNCIA ESTATÍSTICA:\n",
    "- **Processo de fazer afirmações sobre uma população baseadas nas informações contidas em uma amostra.**"
   ]
  },
  {
   "cell_type": "markdown",
   "metadata": {},
   "source": [
    "<img src=\"inferecia_JPG.JPG\">"
   ]
  },
  {
   "cell_type": "markdown",
   "metadata": {},
   "source": [
    "**Exemplo 1:** Em 1818, o doutor húngaro Ignaz Semmelweis e seus assistentes buscavam um meio para diminuir a incidência de infecções pós parto no hospital que trabalhavam. \n",
    "\n",
    "- Clínica 1: os estudantes eram **encorajados a lavar suas mãos** após seus estudos e a **taxa de mulheres que apresentavam infecções pós-parto era relativamente baixa**.\n",
    "\n",
    "- Clínica 2: os estudantes **não tinham o hábito de lavar suas mãos** após seus estudos e **a taxa de mulheres que apresentavam infecções pós-parto era bastante elevada**.\n",
    "\n",
    "Para estudar se as mulheres atendidas por médicos que não lavaram as mãos tinham maior tendência a desenvolver infecções, não é necessário comparar toda a população desses dois grupos, apenas amostras razoáveis das duas categorias. \n",
    "\n",
    "O projeto está disponível em https://projects.datacamp.com/projects/49"
   ]
  },
  {
   "cell_type": "markdown",
   "metadata": {},
   "source": [
    "#### TESTE DE HIPÓTESES:\n",
    "O processo de realizar um teste de hipóteses deve partir da **tentativa de rejeitar a hipótese nula**:\n",
    "\n",
    "- **HIPÓTESE NULA (H0)**: a hipótese nula **normalmente parte do princípio que os dois fenômenos observados não possuem relação**, e é aquela cuja falsidade se tenta provar através de um teste de hipóteses.\n",
    "    \n",
    "\n",
    "- **HIPÓTESE ALTERNATIVA (HA)**: a hipótese alternativa corresponde à **hipótese que quer ser testada pelo estudo**.\n"
   ]
  },
  {
   "cell_type": "markdown",
   "metadata": {},
   "source": [
    "#### AMOSTRAS NULAS:\n",
    "- São **amostras permutadas repetidamente e aleatoriamente** por uma quantidade N de vezes de modo que as **variáveis de estudo** podem ser tomadas como **independentes** -> são as amostras observáveis caso a hipótese nula seja verdadeira! \n",
    "    - Ex: das populações de mulheres atendidas por alunos que lavaram as mãos e atendidas por alunos que não as lavaram, a distribuição se dará de modo a **não haver relação entre a higienização das mãos e o nível de infecções!**"
   ]
  },
  {
   "cell_type": "markdown",
   "metadata": {},
   "source": [
    "## EXEMPLO: GENDER INEQUALITY "
   ]
  },
  {
   "cell_type": "markdown",
   "metadata": {},
   "source": [
    "**H0**: Homens e mulheres são promovidos com a mesma probabilidade -> **gênero e promoção são variáveis independentes!**\n",
    "\n",
    "**HA**: Há diferenças significativas (possivelmente advindas de ações descriminatórias) entre a taxa de homens e mulheres promovidos -> **Homens são promovidos a uma taxa maior do que mulheres**."
   ]
  },
  {
   "cell_type": "code",
   "execution_count": 5,
   "metadata": {},
   "outputs": [],
   "source": [
    "# Importação dos dados:\n",
    "discrimination_dataset <- readRDS('C:/Users/lordo/Documents/FEA.dev/R/disc_big.rds')\n",
    "#discrimination_dataset"
   ]
  },
  {
   "cell_type": "code",
   "execution_count": 6,
   "metadata": {},
   "outputs": [
    {
     "data": {
      "text/html": [
       "<table>\n",
       "<thead><tr><th scope=col>sex</th><th scope=col>promote</th><th scope=col>n</th></tr></thead>\n",
       "<tbody>\n",
       "\t<tr><td>female      </td><td>not_promoted</td><td>100         </td></tr>\n",
       "\t<tr><td>female      </td><td>promoted    </td><td>140         </td></tr>\n",
       "\t<tr><td>male        </td><td>not_promoted</td><td> 30         </td></tr>\n",
       "\t<tr><td>male        </td><td>promoted    </td><td>210         </td></tr>\n",
       "</tbody>\n",
       "</table>\n"
      ],
      "text/latex": [
       "\\begin{tabular}{r|lll}\n",
       " sex & promote & n\\\\\n",
       "\\hline\n",
       "\t female         & not\\_promoted & 100           \\\\\n",
       "\t female       & promoted     & 140         \\\\\n",
       "\t male           & not\\_promoted &  30           \\\\\n",
       "\t male         & promoted     & 210         \\\\\n",
       "\\end{tabular}\n"
      ],
      "text/markdown": [
       "\n",
       "| sex | promote | n |\n",
       "|---|---|---|\n",
       "| female       | not_promoted | 100          |\n",
       "| female       | promoted     | 140          |\n",
       "| male         | not_promoted |  30          |\n",
       "| male         | promoted     | 210          |\n",
       "\n"
      ],
      "text/plain": [
       "  sex    promote      n  \n",
       "1 female not_promoted 100\n",
       "2 female promoted     140\n",
       "3 male   not_promoted  30\n",
       "4 male   promoted     210"
      ]
     },
     "metadata": {},
     "output_type": "display_data"
    }
   ],
   "source": [
    "# Quantidade de homens e mulheres promovidos e não promovidos:\n",
    "discrimination_dataset %>%\n",
    "    count(sex, promote)"
   ]
  },
  {
   "cell_type": "code",
   "execution_count": 7,
   "metadata": {},
   "outputs": [
    {
     "data": {
      "image/png": "[encoded data removed]",
      "text/plain": [
       "plot without title"
      ]
     },
     "metadata": {},
     "output_type": "display_data"
    }
   ],
   "source": [
    "# Visualizando a distribuição original:\n",
    "ggplot(discrimination_dataset, aes(x = sex, fill = promote)) + \n",
    "  geom_bar(position = 'fill')"
   ]
  },
  {
   "cell_type": "code",
   "execution_count": 8,
   "metadata": {},
   "outputs": [
    {
     "data": {
      "text/html": [
       "0.291666666666667"
      ],
      "text/latex": [
       "0.291666666666667"
      ],
      "text/markdown": [
       "0.291666666666667"
      ],
      "text/plain": [
       "[1] 0.2916667"
      ]
     },
     "metadata": {},
     "output_type": "display_data"
    }
   ],
   "source": [
    "# Em segundo lugar, vamos comparar a proporção de homens e mulheres que foram promovidos:\n",
    "diff_orig <- discrimination_dataset %>%\n",
    "    group_by(sex) %>%\n",
    "    summarize(promoted_prop = mean(promote == \"promoted\")) %>% \n",
    "    summarize(diff(promoted_prop)) %>%\n",
    "    pull()\n",
    "\n",
    "diff_orig"
   ]
  },
  {
   "cell_type": "markdown",
   "metadata": {},
   "source": [
    "Sabendo da diferença de quase 30% entre a quantidade de homens e mulheres promovidos, a questão que se desenvolve é a seguinte: **seria possível observar tamanha diferença em um cenário em que os dois gêneros possuem a mesma probabilidade de serem promovidos?**\n",
    "- Para responder a questão, primeiro é necessário **permutar** (shuffle) **os dados** de modo a não haver **nenhuma relação entre gênero e promoção.**\n",
    "- O processo de permutação faz com que as duas variáveis não sejam relacionadas, possibilitando a **identificação da variabilidade natural das diferenças** nas taxas de promoção.\n",
    "- Sabendo da variabilidade natural (slide 12), é possível aferir o quão grande a diferença deveria ser para que identifiquemos algo incomum na amostra - hipótese alternativa."
   ]
  },
  {
   "cell_type": "markdown",
   "metadata": {},
   "source": [
    "### Permutando os dados:"
   ]
  },
  {
   "cell_type": "code",
   "execution_count": 9,
   "metadata": {},
   "outputs": [
    {
     "data": {
      "text/html": [
       "<table>\n",
       "<thead><tr><th scope=col>promote</th><th scope=col>sex</th><th scope=col>replicate</th></tr></thead>\n",
       "<tbody>\n",
       "\t<tr><td>promoted    </td><td>male        </td><td>1           </td></tr>\n",
       "\t<tr><td>promoted    </td><td>male        </td><td>1           </td></tr>\n",
       "\t<tr><td>promoted    </td><td>male        </td><td>1           </td></tr>\n",
       "\t<tr><td>not_promoted</td><td>male        </td><td>1           </td></tr>\n",
       "\t<tr><td>promoted    </td><td>male        </td><td>1           </td></tr>\n",
       "\t<tr><td>promoted    </td><td>male        </td><td>1           </td></tr>\n",
       "\t<tr><td>not_promoted</td><td>male        </td><td>1           </td></tr>\n",
       "\t<tr><td>not_promoted</td><td>male        </td><td>1           </td></tr>\n",
       "\t<tr><td>promoted    </td><td>male        </td><td>1           </td></tr>\n",
       "\t<tr><td>promoted    </td><td>male        </td><td>1           </td></tr>\n",
       "\t<tr><td>promoted    </td><td>male        </td><td>1           </td></tr>\n",
       "\t<tr><td>not_promoted</td><td>male        </td><td>1           </td></tr>\n",
       "\t<tr><td>not_promoted</td><td>male        </td><td>1           </td></tr>\n",
       "\t<tr><td>promoted    </td><td>male        </td><td>1           </td></tr>\n",
       "\t<tr><td>not_promoted</td><td>male        </td><td>1           </td></tr>\n",
       "\t<tr><td>promoted    </td><td>male        </td><td>1           </td></tr>\n",
       "\t<tr><td>promoted    </td><td>male        </td><td>1           </td></tr>\n",
       "\t<tr><td>promoted    </td><td>male        </td><td>1           </td></tr>\n",
       "\t<tr><td>promoted    </td><td>male        </td><td>1           </td></tr>\n",
       "\t<tr><td>promoted    </td><td>male        </td><td>1           </td></tr>\n",
       "\t<tr><td>promoted    </td><td>male        </td><td>1           </td></tr>\n",
       "\t<tr><td>promoted    </td><td>male        </td><td>1           </td></tr>\n",
       "\t<tr><td>not_promoted</td><td>male        </td><td>1           </td></tr>\n",
       "\t<tr><td>not_promoted</td><td>male        </td><td>1           </td></tr>\n",
       "\t<tr><td>promoted    </td><td>male        </td><td>1           </td></tr>\n",
       "\t<tr><td>not_promoted</td><td>male        </td><td>1           </td></tr>\n",
       "\t<tr><td>promoted    </td><td>male        </td><td>1           </td></tr>\n",
       "\t<tr><td>promoted    </td><td>male        </td><td>1           </td></tr>\n",
       "\t<tr><td>promoted    </td><td>male        </td><td>1           </td></tr>\n",
       "\t<tr><td>promoted    </td><td>male        </td><td>1           </td></tr>\n",
       "\t<tr><td>...</td><td>...</td><td>...</td></tr>\n",
       "\t<tr><td>promoted    </td><td>female      </td><td>5           </td></tr>\n",
       "\t<tr><td>promoted    </td><td>female      </td><td>5           </td></tr>\n",
       "\t<tr><td>promoted    </td><td>female      </td><td>5           </td></tr>\n",
       "\t<tr><td>promoted    </td><td>female      </td><td>5           </td></tr>\n",
       "\t<tr><td>promoted    </td><td>female      </td><td>5           </td></tr>\n",
       "\t<tr><td>promoted    </td><td>female      </td><td>5           </td></tr>\n",
       "\t<tr><td>promoted    </td><td>female      </td><td>5           </td></tr>\n",
       "\t<tr><td>promoted    </td><td>female      </td><td>5           </td></tr>\n",
       "\t<tr><td>not_promoted</td><td>female      </td><td>5           </td></tr>\n",
       "\t<tr><td>not_promoted</td><td>female      </td><td>5           </td></tr>\n",
       "\t<tr><td>promoted    </td><td>female      </td><td>5           </td></tr>\n",
       "\t<tr><td>promoted    </td><td>female      </td><td>5           </td></tr>\n",
       "\t<tr><td>promoted    </td><td>female      </td><td>5           </td></tr>\n",
       "\t<tr><td>promoted    </td><td>female      </td><td>5           </td></tr>\n",
       "\t<tr><td>promoted    </td><td>female      </td><td>5           </td></tr>\n",
       "\t<tr><td>promoted    </td><td>female      </td><td>5           </td></tr>\n",
       "\t<tr><td>promoted    </td><td>female      </td><td>5           </td></tr>\n",
       "\t<tr><td>not_promoted</td><td>female      </td><td>5           </td></tr>\n",
       "\t<tr><td>not_promoted</td><td>female      </td><td>5           </td></tr>\n",
       "\t<tr><td>promoted    </td><td>female      </td><td>5           </td></tr>\n",
       "\t<tr><td>promoted    </td><td>female      </td><td>5           </td></tr>\n",
       "\t<tr><td>promoted    </td><td>female      </td><td>5           </td></tr>\n",
       "\t<tr><td>promoted    </td><td>female      </td><td>5           </td></tr>\n",
       "\t<tr><td>promoted    </td><td>female      </td><td>5           </td></tr>\n",
       "\t<tr><td>promoted    </td><td>female      </td><td>5           </td></tr>\n",
       "\t<tr><td>promoted    </td><td>female      </td><td>5           </td></tr>\n",
       "\t<tr><td>promoted    </td><td>female      </td><td>5           </td></tr>\n",
       "\t<tr><td>promoted    </td><td>female      </td><td>5           </td></tr>\n",
       "\t<tr><td>not_promoted</td><td>female      </td><td>5           </td></tr>\n",
       "\t<tr><td>promoted    </td><td>female      </td><td>5           </td></tr>\n",
       "</tbody>\n",
       "</table>\n"
      ],
      "text/latex": [
       "\\begin{tabular}{r|lll}\n",
       " promote & sex & replicate\\\\\n",
       "\\hline\n",
       "\t promoted     & male         & 1           \\\\\n",
       "\t promoted     & male         & 1           \\\\\n",
       "\t promoted     & male         & 1           \\\\\n",
       "\t not\\_promoted & male           & 1             \\\\\n",
       "\t promoted     & male         & 1           \\\\\n",
       "\t promoted     & male         & 1           \\\\\n",
       "\t not\\_promoted & male           & 1             \\\\\n",
       "\t not\\_promoted & male           & 1             \\\\\n",
       "\t promoted     & male         & 1           \\\\\n",
       "\t promoted     & male         & 1           \\\\\n",
       "\t promoted     & male         & 1           \\\\\n",
       "\t not\\_promoted & male           & 1             \\\\\n",
       "\t not\\_promoted & male           & 1             \\\\\n",
       "\t promoted     & male         & 1           \\\\\n",
       "\t not\\_promoted & male           & 1             \\\\\n",
       "\t promoted     & male         & 1           \\\\\n",
       "\t promoted     & male         & 1           \\\\\n",
       "\t promoted     & male         & 1           \\\\\n",
       "\t promoted     & male         & 1           \\\\\n",
       "\t promoted     & male         & 1           \\\\\n",
       "\t promoted     & male         & 1           \\\\\n",
       "\t promoted     & male         & 1           \\\\\n",
       "\t not\\_promoted & male           & 1             \\\\\n",
       "\t not\\_promoted & male           & 1             \\\\\n",
       "\t promoted     & male         & 1           \\\\\n",
       "\t not\\_promoted & male           & 1             \\\\\n",
       "\t promoted     & male         & 1           \\\\\n",
       "\t promoted     & male         & 1           \\\\\n",
       "\t promoted     & male         & 1           \\\\\n",
       "\t promoted     & male         & 1           \\\\\n",
       "\t ... & ... & ...\\\\\n",
       "\t promoted     & female       & 5           \\\\\n",
       "\t promoted     & female       & 5           \\\\\n",
       "\t promoted     & female       & 5           \\\\\n",
       "\t promoted     & female       & 5           \\\\\n",
       "\t promoted     & female       & 5           \\\\\n",
       "\t promoted     & female       & 5           \\\\\n",
       "\t promoted     & female       & 5           \\\\\n",
       "\t promoted     & female       & 5           \\\\\n",
       "\t not\\_promoted & female         & 5             \\\\\n",
       "\t not\\_promoted & female         & 5             \\\\\n",
       "\t promoted     & female       & 5           \\\\\n",
       "\t promoted     & female       & 5           \\\\\n",
       "\t promoted     & female       & 5           \\\\\n",
       "\t promoted     & female       & 5           \\\\\n",
       "\t promoted     & female       & 5           \\\\\n",
       "\t promoted     & female       & 5           \\\\\n",
       "\t promoted     & female       & 5           \\\\\n",
       "\t not\\_promoted & female         & 5             \\\\\n",
       "\t not\\_promoted & female         & 5             \\\\\n",
       "\t promoted     & female       & 5           \\\\\n",
       "\t promoted     & female       & 5           \\\\\n",
       "\t promoted     & female       & 5           \\\\\n",
       "\t promoted     & female       & 5           \\\\\n",
       "\t promoted     & female       & 5           \\\\\n",
       "\t promoted     & female       & 5           \\\\\n",
       "\t promoted     & female       & 5           \\\\\n",
       "\t promoted     & female       & 5           \\\\\n",
       "\t promoted     & female       & 5           \\\\\n",
       "\t not\\_promoted & female         & 5             \\\\\n",
       "\t promoted     & female       & 5           \\\\\n",
       "\\end{tabular}\n"
      ],
      "text/markdown": [
       "\n",
       "| promote | sex | replicate |\n",
       "|---|---|---|\n",
       "| promoted     | male         | 1            |\n",
       "| promoted     | male         | 1            |\n",
       "| promoted     | male         | 1            |\n",
       "| not_promoted | male         | 1            |\n",
       "| promoted     | male         | 1            |\n",
       "| promoted     | male         | 1            |\n",
       "| not_promoted | male         | 1            |\n",
       "| not_promoted | male         | 1            |\n",
       "| promoted     | male         | 1            |\n",
       "| promoted     | male         | 1            |\n",
       "| promoted     | male         | 1            |\n",
       "| not_promoted | male         | 1            |\n",
       "| not_promoted | male         | 1            |\n",
       "| promoted     | male         | 1            |\n",
       "| not_promoted | male         | 1            |\n",
       "| promoted     | male         | 1            |\n",
       "| promoted     | male         | 1            |\n",
       "| promoted     | male         | 1            |\n",
       "| promoted     | male         | 1            |\n",
       "| promoted     | male         | 1            |\n",
       "| promoted     | male         | 1            |\n",
       "| promoted     | male         | 1            |\n",
       "| not_promoted | male         | 1            |\n",
       "| not_promoted | male         | 1            |\n",
       "| promoted     | male         | 1            |\n",
       "| not_promoted | male         | 1            |\n",
       "| promoted     | male         | 1            |\n",
       "| promoted     | male         | 1            |\n",
       "| promoted     | male         | 1            |\n",
       "| promoted     | male         | 1            |\n",
       "| ... | ... | ... |\n",
       "| promoted     | female       | 5            |\n",
       "| promoted     | female       | 5            |\n",
       "| promoted     | female       | 5            |\n",
       "| promoted     | female       | 5            |\n",
       "| promoted     | female       | 5            |\n",
       "| promoted     | female       | 5            |\n",
       "| promoted     | female       | 5            |\n",
       "| promoted     | female       | 5            |\n",
       "| not_promoted | female       | 5            |\n",
       "| not_promoted | female       | 5            |\n",
       "| promoted     | female       | 5            |\n",
       "| promoted     | female       | 5            |\n",
       "| promoted     | female       | 5            |\n",
       "| promoted     | female       | 5            |\n",
       "| promoted     | female       | 5            |\n",
       "| promoted     | female       | 5            |\n",
       "| promoted     | female       | 5            |\n",
       "| not_promoted | female       | 5            |\n",
       "| not_promoted | female       | 5            |\n",
       "| promoted     | female       | 5            |\n",
       "| promoted     | female       | 5            |\n",
       "| promoted     | female       | 5            |\n",
       "| promoted     | female       | 5            |\n",
       "| promoted     | female       | 5            |\n",
       "| promoted     | female       | 5            |\n",
       "| promoted     | female       | 5            |\n",
       "| promoted     | female       | 5            |\n",
       "| promoted     | female       | 5            |\n",
       "| not_promoted | female       | 5            |\n",
       "| promoted     | female       | 5            |\n",
       "\n"
      ],
      "text/plain": [
       "     promote      sex    replicate\n",
       "1    promoted     male   1        \n",
       "2    promoted     male   1        \n",
       "3    promoted     male   1        \n",
       "4    not_promoted male   1        \n",
       "5    promoted     male   1        \n",
       "6    promoted     male   1        \n",
       "7    not_promoted male   1        \n",
       "8    not_promoted male   1        \n",
       "9    promoted     male   1        \n",
       "10   promoted     male   1        \n",
       "11   promoted     male   1        \n",
       "12   not_promoted male   1        \n",
       "13   not_promoted male   1        \n",
       "14   promoted     male   1        \n",
       "15   not_promoted male   1        \n",
       "16   promoted     male   1        \n",
       "17   promoted     male   1        \n",
       "18   promoted     male   1        \n",
       "19   promoted     male   1        \n",
       "20   promoted     male   1        \n",
       "21   promoted     male   1        \n",
       "22   promoted     male   1        \n",
       "23   not_promoted male   1        \n",
       "24   not_promoted male   1        \n",
       "25   promoted     male   1        \n",
       "26   not_promoted male   1        \n",
       "27   promoted     male   1        \n",
       "28   promoted     male   1        \n",
       "29   promoted     male   1        \n",
       "30   promoted     male   1        \n",
       "...  ...          ...    ...      \n",
       "2371 promoted     female 5        \n",
       "2372 promoted     female 5        \n",
       "2373 promoted     female 5        \n",
       "2374 promoted     female 5        \n",
       "2375 promoted     female 5        \n",
       "2376 promoted     female 5        \n",
       "2377 promoted     female 5        \n",
       "2378 promoted     female 5        \n",
       "2379 not_promoted female 5        \n",
       "2380 not_promoted female 5        \n",
       "2381 promoted     female 5        \n",
       "2382 promoted     female 5        \n",
       "2383 promoted     female 5        \n",
       "2384 promoted     female 5        \n",
       "2385 promoted     female 5        \n",
       "2386 promoted     female 5        \n",
       "2387 promoted     female 5        \n",
       "2388 not_promoted female 5        \n",
       "2389 not_promoted female 5        \n",
       "2390 promoted     female 5        \n",
       "2391 promoted     female 5        \n",
       "2392 promoted     female 5        \n",
       "2393 promoted     female 5        \n",
       "2394 promoted     female 5        \n",
       "2395 promoted     female 5        \n",
       "2396 promoted     female 5        \n",
       "2397 promoted     female 5        \n",
       "2398 promoted     female 5        \n",
       "2399 not_promoted female 5        \n",
       "2400 promoted     female 5        "
      ]
     },
     "metadata": {},
     "output_type": "display_data"
    }
   ],
   "source": [
    "# disc_perm corresponde ao conjunto de dados repetidos cuja variável promote foi permutada de \n",
    "# modo a não existir nenhuma correlação entre as variáveis!\n",
    "\n",
    "disc_perm <- discrimination_dataset %>%\n",
    "  specify(promote ~ sex, success = \"promoted\") %>%\n",
    "  hypothesize(null = \"independence\") %>%\n",
    "  generate(reps = 5, type = \"permute\")\n",
    "\n",
    "disc_perm"
   ]
  },
  {
   "cell_type": "code",
   "execution_count": 10,
   "metadata": {},
   "outputs": [
    {
     "data": {
      "text/html": [
       "<table>\n",
       "<thead><tr><th scope=col>replicate</th><th scope=col>sex</th><th scope=col>promote</th><th scope=col>n</th></tr></thead>\n",
       "<tbody>\n",
       "\t<tr><td>1           </td><td>female      </td><td>not_promoted</td><td> 58         </td></tr>\n",
       "\t<tr><td>1           </td><td>female      </td><td>promoted    </td><td>182         </td></tr>\n",
       "\t<tr><td>1           </td><td>male        </td><td>not_promoted</td><td> 72         </td></tr>\n",
       "\t<tr><td>1           </td><td>male        </td><td>promoted    </td><td>168         </td></tr>\n",
       "\t<tr><td>2           </td><td>female      </td><td>not_promoted</td><td> 67         </td></tr>\n",
       "\t<tr><td>2           </td><td>female      </td><td>promoted    </td><td>173         </td></tr>\n",
       "\t<tr><td>2           </td><td>male        </td><td>not_promoted</td><td> 63         </td></tr>\n",
       "\t<tr><td>2           </td><td>male        </td><td>promoted    </td><td>177         </td></tr>\n",
       "\t<tr><td>3           </td><td>female      </td><td>not_promoted</td><td> 70         </td></tr>\n",
       "\t<tr><td>3           </td><td>female      </td><td>promoted    </td><td>170         </td></tr>\n",
       "\t<tr><td>3           </td><td>male        </td><td>not_promoted</td><td> 60         </td></tr>\n",
       "\t<tr><td>3           </td><td>male        </td><td>promoted    </td><td>180         </td></tr>\n",
       "\t<tr><td>4           </td><td>female      </td><td>not_promoted</td><td> 74         </td></tr>\n",
       "\t<tr><td>4           </td><td>female      </td><td>promoted    </td><td>166         </td></tr>\n",
       "\t<tr><td>4           </td><td>male        </td><td>not_promoted</td><td> 56         </td></tr>\n",
       "\t<tr><td>4           </td><td>male        </td><td>promoted    </td><td>184         </td></tr>\n",
       "\t<tr><td>5           </td><td>female      </td><td>not_promoted</td><td> 65         </td></tr>\n",
       "\t<tr><td>5           </td><td>female      </td><td>promoted    </td><td>175         </td></tr>\n",
       "\t<tr><td>5           </td><td>male        </td><td>not_promoted</td><td> 65         </td></tr>\n",
       "\t<tr><td>5           </td><td>male        </td><td>promoted    </td><td>175         </td></tr>\n",
       "</tbody>\n",
       "</table>\n"
      ],
      "text/latex": [
       "\\begin{tabular}{r|llll}\n",
       " replicate & sex & promote & n\\\\\n",
       "\\hline\n",
       "\t 1              & female         & not\\_promoted &  58           \\\\\n",
       "\t 1            & female       & promoted     & 182         \\\\\n",
       "\t 1              & male           & not\\_promoted &  72           \\\\\n",
       "\t 1            & male         & promoted     & 168         \\\\\n",
       "\t 2              & female         & not\\_promoted &  67           \\\\\n",
       "\t 2            & female       & promoted     & 173         \\\\\n",
       "\t 2              & male           & not\\_promoted &  63           \\\\\n",
       "\t 2            & male         & promoted     & 177         \\\\\n",
       "\t 3              & female         & not\\_promoted &  70           \\\\\n",
       "\t 3            & female       & promoted     & 170         \\\\\n",
       "\t 3              & male           & not\\_promoted &  60           \\\\\n",
       "\t 3            & male         & promoted     & 180         \\\\\n",
       "\t 4              & female         & not\\_promoted &  74           \\\\\n",
       "\t 4            & female       & promoted     & 166         \\\\\n",
       "\t 4              & male           & not\\_promoted &  56           \\\\\n",
       "\t 4            & male         & promoted     & 184         \\\\\n",
       "\t 5              & female         & not\\_promoted &  65           \\\\\n",
       "\t 5            & female       & promoted     & 175         \\\\\n",
       "\t 5              & male           & not\\_promoted &  65           \\\\\n",
       "\t 5            & male         & promoted     & 175         \\\\\n",
       "\\end{tabular}\n"
      ],
      "text/markdown": [
       "\n",
       "| replicate | sex | promote | n |\n",
       "|---|---|---|---|\n",
       "| 1            | female       | not_promoted |  58          |\n",
       "| 1            | female       | promoted     | 182          |\n",
       "| 1            | male         | not_promoted |  72          |\n",
       "| 1            | male         | promoted     | 168          |\n",
       "| 2            | female       | not_promoted |  67          |\n",
       "| 2            | female       | promoted     | 173          |\n",
       "| 2            | male         | not_promoted |  63          |\n",
       "| 2            | male         | promoted     | 177          |\n",
       "| 3            | female       | not_promoted |  70          |\n",
       "| 3            | female       | promoted     | 170          |\n",
       "| 3            | male         | not_promoted |  60          |\n",
       "| 3            | male         | promoted     | 180          |\n",
       "| 4            | female       | not_promoted |  74          |\n",
       "| 4            | female       | promoted     | 166          |\n",
       "| 4            | male         | not_promoted |  56          |\n",
       "| 4            | male         | promoted     | 184          |\n",
       "| 5            | female       | not_promoted |  65          |\n",
       "| 5            | female       | promoted     | 175          |\n",
       "| 5            | male         | not_promoted |  65          |\n",
       "| 5            | male         | promoted     | 175          |\n",
       "\n"
      ],
      "text/plain": [
       "   replicate sex    promote      n  \n",
       "1  1         female not_promoted  58\n",
       "2  1         female promoted     182\n",
       "3  1         male   not_promoted  72\n",
       "4  1         male   promoted     168\n",
       "5  2         female not_promoted  67\n",
       "6  2         female promoted     173\n",
       "7  2         male   not_promoted  63\n",
       "8  2         male   promoted     177\n",
       "9  3         female not_promoted  70\n",
       "10 3         female promoted     170\n",
       "11 3         male   not_promoted  60\n",
       "12 3         male   promoted     180\n",
       "13 4         female not_promoted  74\n",
       "14 4         female promoted     166\n",
       "15 4         male   not_promoted  56\n",
       "16 4         male   promoted     184\n",
       "17 5         female not_promoted  65\n",
       "18 5         female promoted     175\n",
       "19 5         male   not_promoted  65\n",
       "20 5         male   promoted     175"
      ]
     },
     "metadata": {},
     "output_type": "display_data"
    }
   ],
   "source": [
    "# Observando os dados permutados:\n",
    "disc_perm %>%\n",
    "  group_by(replicate) %>%\n",
    "  count(sex, promote)"
   ]
  },
  {
   "cell_type": "code",
   "execution_count": 11,
   "metadata": {},
   "outputs": [
    {
     "data": {
      "text/html": [
       "<table>\n",
       "<thead><tr><th scope=col>replicate</th><th scope=col>stat</th></tr></thead>\n",
       "<tbody>\n",
       "\t<tr><td>1          </td><td>-0.05833333</td></tr>\n",
       "\t<tr><td>2          </td><td> 0.01666667</td></tr>\n",
       "\t<tr><td>3          </td><td> 0.04166667</td></tr>\n",
       "\t<tr><td>4          </td><td> 0.07500000</td></tr>\n",
       "\t<tr><td>5          </td><td> 0.00000000</td></tr>\n",
       "</tbody>\n",
       "</table>\n"
      ],
      "text/latex": [
       "\\begin{tabular}{r|ll}\n",
       " replicate & stat\\\\\n",
       "\\hline\n",
       "\t 1           & -0.05833333\\\\\n",
       "\t 2           &  0.01666667\\\\\n",
       "\t 3           &  0.04166667\\\\\n",
       "\t 4           &  0.07500000\\\\\n",
       "\t 5           &  0.00000000\\\\\n",
       "\\end{tabular}\n"
      ],
      "text/markdown": [
       "\n",
       "| replicate | stat |\n",
       "|---|---|\n",
       "| 1           | -0.05833333 |\n",
       "| 2           |  0.01666667 |\n",
       "| 3           |  0.04166667 |\n",
       "| 4           |  0.07500000 |\n",
       "| 5           |  0.00000000 |\n",
       "\n"
      ],
      "text/plain": [
       "  replicate stat       \n",
       "1 1         -0.05833333\n",
       "2 2          0.01666667\n",
       "3 3          0.04166667\n",
       "4 4          0.07500000\n",
       "5 5          0.00000000"
      ]
     },
     "metadata": {},
     "output_type": "display_data"
    }
   ],
   "source": [
    "# Calcula-se as diferenças em proporção de homens e mulheres promovidos nas 5 permutações:\n",
    "disc_perm %>%\n",
    "  calculate(stat = \"diff in props\", order = c(\"male\", \"female\"))"
   ]
  },
  {
   "cell_type": "markdown",
   "metadata": {},
   "source": [
    "Agora, vamos extrapolar as 5 permutações para, por exemplo, mil:"
   ]
  },
  {
   "cell_type": "code",
   "execution_count": 12,
   "metadata": {},
   "outputs": [
    {
     "data": {
      "text/html": [
       "<table>\n",
       "<thead><tr><th scope=col>replicate</th><th scope=col>stat</th></tr></thead>\n",
       "<tbody>\n",
       "\t<tr><td> 1          </td><td>-0.025000000</td></tr>\n",
       "\t<tr><td> 2          </td><td> 0.033333333</td></tr>\n",
       "\t<tr><td> 3          </td><td> 0.025000000</td></tr>\n",
       "\t<tr><td> 4          </td><td>-0.033333333</td></tr>\n",
       "\t<tr><td> 5          </td><td>-0.008333333</td></tr>\n",
       "\t<tr><td> 6          </td><td>-0.025000000</td></tr>\n",
       "\t<tr><td> 7          </td><td>-0.041666667</td></tr>\n",
       "\t<tr><td> 8          </td><td> 0.000000000</td></tr>\n",
       "\t<tr><td> 9          </td><td>-0.058333333</td></tr>\n",
       "\t<tr><td>10          </td><td>-0.075000000</td></tr>\n",
       "\t<tr><td>11          </td><td>-0.041666667</td></tr>\n",
       "\t<tr><td>12          </td><td>-0.116666667</td></tr>\n",
       "\t<tr><td>13          </td><td>-0.016666667</td></tr>\n",
       "\t<tr><td>14          </td><td>-0.033333333</td></tr>\n",
       "\t<tr><td>15          </td><td>-0.008333333</td></tr>\n",
       "\t<tr><td>16          </td><td> 0.008333333</td></tr>\n",
       "\t<tr><td>17          </td><td>-0.008333333</td></tr>\n",
       "\t<tr><td>18          </td><td>-0.041666667</td></tr>\n",
       "\t<tr><td>19          </td><td>-0.025000000</td></tr>\n",
       "\t<tr><td>20          </td><td> 0.025000000</td></tr>\n",
       "\t<tr><td>21          </td><td>-0.075000000</td></tr>\n",
       "\t<tr><td>22          </td><td> 0.041666667</td></tr>\n",
       "\t<tr><td>23          </td><td> 0.008333333</td></tr>\n",
       "\t<tr><td>24          </td><td> 0.033333333</td></tr>\n",
       "\t<tr><td>25          </td><td> 0.016666667</td></tr>\n",
       "\t<tr><td>26          </td><td> 0.008333333</td></tr>\n",
       "\t<tr><td>27          </td><td> 0.016666667</td></tr>\n",
       "\t<tr><td>28          </td><td>-0.075000000</td></tr>\n",
       "\t<tr><td>29          </td><td>-0.058333333</td></tr>\n",
       "\t<tr><td>30          </td><td>-0.008333333</td></tr>\n",
       "\t<tr><td>...</td><td>...</td></tr>\n",
       "\t<tr><td> 971        </td><td> 0.016666667</td></tr>\n",
       "\t<tr><td> 972        </td><td>-0.075000000</td></tr>\n",
       "\t<tr><td> 973        </td><td>-0.033333333</td></tr>\n",
       "\t<tr><td> 974        </td><td>-0.016666667</td></tr>\n",
       "\t<tr><td> 975        </td><td> 0.008333333</td></tr>\n",
       "\t<tr><td> 976        </td><td> 0.041666667</td></tr>\n",
       "\t<tr><td> 977        </td><td> 0.000000000</td></tr>\n",
       "\t<tr><td> 978        </td><td>-0.050000000</td></tr>\n",
       "\t<tr><td> 979        </td><td> 0.066666667</td></tr>\n",
       "\t<tr><td> 980        </td><td>-0.083333333</td></tr>\n",
       "\t<tr><td> 981        </td><td> 0.008333333</td></tr>\n",
       "\t<tr><td> 982        </td><td> 0.083333333</td></tr>\n",
       "\t<tr><td> 983        </td><td> 0.008333333</td></tr>\n",
       "\t<tr><td> 984        </td><td>-0.050000000</td></tr>\n",
       "\t<tr><td> 985        </td><td> 0.050000000</td></tr>\n",
       "\t<tr><td> 986        </td><td> 0.041666667</td></tr>\n",
       "\t<tr><td> 987        </td><td> 0.008333333</td></tr>\n",
       "\t<tr><td> 988        </td><td> 0.058333333</td></tr>\n",
       "\t<tr><td> 989        </td><td> 0.025000000</td></tr>\n",
       "\t<tr><td> 990        </td><td>-0.016666667</td></tr>\n",
       "\t<tr><td> 991        </td><td> 0.025000000</td></tr>\n",
       "\t<tr><td> 992        </td><td> 0.008333333</td></tr>\n",
       "\t<tr><td> 993        </td><td>-0.016666667</td></tr>\n",
       "\t<tr><td> 994        </td><td> 0.016666667</td></tr>\n",
       "\t<tr><td> 995        </td><td> 0.058333333</td></tr>\n",
       "\t<tr><td> 996        </td><td>-0.033333333</td></tr>\n",
       "\t<tr><td> 997        </td><td> 0.016666667</td></tr>\n",
       "\t<tr><td> 998        </td><td> 0.041666667</td></tr>\n",
       "\t<tr><td> 999        </td><td> 0.008333333</td></tr>\n",
       "\t<tr><td>1000        </td><td> 0.016666667</td></tr>\n",
       "</tbody>\n",
       "</table>\n"
      ],
      "text/latex": [
       "\\begin{tabular}{r|ll}\n",
       " replicate & stat\\\\\n",
       "\\hline\n",
       "\t  1           & -0.025000000\\\\\n",
       "\t  2           &  0.033333333\\\\\n",
       "\t  3           &  0.025000000\\\\\n",
       "\t  4           & -0.033333333\\\\\n",
       "\t  5           & -0.008333333\\\\\n",
       "\t  6           & -0.025000000\\\\\n",
       "\t  7           & -0.041666667\\\\\n",
       "\t  8           &  0.000000000\\\\\n",
       "\t  9           & -0.058333333\\\\\n",
       "\t 10           & -0.075000000\\\\\n",
       "\t 11           & -0.041666667\\\\\n",
       "\t 12           & -0.116666667\\\\\n",
       "\t 13           & -0.016666667\\\\\n",
       "\t 14           & -0.033333333\\\\\n",
       "\t 15           & -0.008333333\\\\\n",
       "\t 16           &  0.008333333\\\\\n",
       "\t 17           & -0.008333333\\\\\n",
       "\t 18           & -0.041666667\\\\\n",
       "\t 19           & -0.025000000\\\\\n",
       "\t 20           &  0.025000000\\\\\n",
       "\t 21           & -0.075000000\\\\\n",
       "\t 22           &  0.041666667\\\\\n",
       "\t 23           &  0.008333333\\\\\n",
       "\t 24           &  0.033333333\\\\\n",
       "\t 25           &  0.016666667\\\\\n",
       "\t 26           &  0.008333333\\\\\n",
       "\t 27           &  0.016666667\\\\\n",
       "\t 28           & -0.075000000\\\\\n",
       "\t 29           & -0.058333333\\\\\n",
       "\t 30           & -0.008333333\\\\\n",
       "\t ... & ...\\\\\n",
       "\t  971         &  0.016666667\\\\\n",
       "\t  972         & -0.075000000\\\\\n",
       "\t  973         & -0.033333333\\\\\n",
       "\t  974         & -0.016666667\\\\\n",
       "\t  975         &  0.008333333\\\\\n",
       "\t  976         &  0.041666667\\\\\n",
       "\t  977         &  0.000000000\\\\\n",
       "\t  978         & -0.050000000\\\\\n",
       "\t  979         &  0.066666667\\\\\n",
       "\t  980         & -0.083333333\\\\\n",
       "\t  981         &  0.008333333\\\\\n",
       "\t  982         &  0.083333333\\\\\n",
       "\t  983         &  0.008333333\\\\\n",
       "\t  984         & -0.050000000\\\\\n",
       "\t  985         &  0.050000000\\\\\n",
       "\t  986         &  0.041666667\\\\\n",
       "\t  987         &  0.008333333\\\\\n",
       "\t  988         &  0.058333333\\\\\n",
       "\t  989         &  0.025000000\\\\\n",
       "\t  990         & -0.016666667\\\\\n",
       "\t  991         &  0.025000000\\\\\n",
       "\t  992         &  0.008333333\\\\\n",
       "\t  993         & -0.016666667\\\\\n",
       "\t  994         &  0.016666667\\\\\n",
       "\t  995         &  0.058333333\\\\\n",
       "\t  996         & -0.033333333\\\\\n",
       "\t  997         &  0.016666667\\\\\n",
       "\t  998         &  0.041666667\\\\\n",
       "\t  999         &  0.008333333\\\\\n",
       "\t 1000         &  0.016666667\\\\\n",
       "\\end{tabular}\n"
      ],
      "text/markdown": [
       "\n",
       "| replicate | stat |\n",
       "|---|---|\n",
       "|  1           | -0.025000000 |\n",
       "|  2           |  0.033333333 |\n",
       "|  3           |  0.025000000 |\n",
       "|  4           | -0.033333333 |\n",
       "|  5           | -0.008333333 |\n",
       "|  6           | -0.025000000 |\n",
       "|  7           | -0.041666667 |\n",
       "|  8           |  0.000000000 |\n",
       "|  9           | -0.058333333 |\n",
       "| 10           | -0.075000000 |\n",
       "| 11           | -0.041666667 |\n",
       "| 12           | -0.116666667 |\n",
       "| 13           | -0.016666667 |\n",
       "| 14           | -0.033333333 |\n",
       "| 15           | -0.008333333 |\n",
       "| 16           |  0.008333333 |\n",
       "| 17           | -0.008333333 |\n",
       "| 18           | -0.041666667 |\n",
       "| 19           | -0.025000000 |\n",
       "| 20           |  0.025000000 |\n",
       "| 21           | -0.075000000 |\n",
       "| 22           |  0.041666667 |\n",
       "| 23           |  0.008333333 |\n",
       "| 24           |  0.033333333 |\n",
       "| 25           |  0.016666667 |\n",
       "| 26           |  0.008333333 |\n",
       "| 27           |  0.016666667 |\n",
       "| 28           | -0.075000000 |\n",
       "| 29           | -0.058333333 |\n",
       "| 30           | -0.008333333 |\n",
       "| ... | ... |\n",
       "|  971         |  0.016666667 |\n",
       "|  972         | -0.075000000 |\n",
       "|  973         | -0.033333333 |\n",
       "|  974         | -0.016666667 |\n",
       "|  975         |  0.008333333 |\n",
       "|  976         |  0.041666667 |\n",
       "|  977         |  0.000000000 |\n",
       "|  978         | -0.050000000 |\n",
       "|  979         |  0.066666667 |\n",
       "|  980         | -0.083333333 |\n",
       "|  981         |  0.008333333 |\n",
       "|  982         |  0.083333333 |\n",
       "|  983         |  0.008333333 |\n",
       "|  984         | -0.050000000 |\n",
       "|  985         |  0.050000000 |\n",
       "|  986         |  0.041666667 |\n",
       "|  987         |  0.008333333 |\n",
       "|  988         |  0.058333333 |\n",
       "|  989         |  0.025000000 |\n",
       "|  990         | -0.016666667 |\n",
       "|  991         |  0.025000000 |\n",
       "|  992         |  0.008333333 |\n",
       "|  993         | -0.016666667 |\n",
       "|  994         |  0.016666667 |\n",
       "|  995         |  0.058333333 |\n",
       "|  996         | -0.033333333 |\n",
       "|  997         |  0.016666667 |\n",
       "|  998         |  0.041666667 |\n",
       "|  999         |  0.008333333 |\n",
       "| 1000         |  0.016666667 |\n",
       "\n"
      ],
      "text/plain": [
       "     replicate stat        \n",
       "1     1        -0.025000000\n",
       "2     2         0.033333333\n",
       "3     3         0.025000000\n",
       "4     4        -0.033333333\n",
       "5     5        -0.008333333\n",
       "6     6        -0.025000000\n",
       "7     7        -0.041666667\n",
       "8     8         0.000000000\n",
       "9     9        -0.058333333\n",
       "10   10        -0.075000000\n",
       "11   11        -0.041666667\n",
       "12   12        -0.116666667\n",
       "13   13        -0.016666667\n",
       "14   14        -0.033333333\n",
       "15   15        -0.008333333\n",
       "16   16         0.008333333\n",
       "17   17        -0.008333333\n",
       "18   18        -0.041666667\n",
       "19   19        -0.025000000\n",
       "20   20         0.025000000\n",
       "21   21        -0.075000000\n",
       "22   22         0.041666667\n",
       "23   23         0.008333333\n",
       "24   24         0.033333333\n",
       "25   25         0.016666667\n",
       "26   26         0.008333333\n",
       "27   27         0.016666667\n",
       "28   28        -0.075000000\n",
       "29   29        -0.058333333\n",
       "30   30        -0.008333333\n",
       "...  ...       ...         \n",
       "971   971       0.016666667\n",
       "972   972      -0.075000000\n",
       "973   973      -0.033333333\n",
       "974   974      -0.016666667\n",
       "975   975       0.008333333\n",
       "976   976       0.041666667\n",
       "977   977       0.000000000\n",
       "978   978      -0.050000000\n",
       "979   979       0.066666667\n",
       "980   980      -0.083333333\n",
       "981   981       0.008333333\n",
       "982   982       0.083333333\n",
       "983   983       0.008333333\n",
       "984   984      -0.050000000\n",
       "985   985       0.050000000\n",
       "986   986       0.041666667\n",
       "987   987       0.008333333\n",
       "988   988       0.058333333\n",
       "989   989       0.025000000\n",
       "990   990      -0.016666667\n",
       "991   991       0.025000000\n",
       "992   992       0.008333333\n",
       "993   993      -0.016666667\n",
       "994   994       0.016666667\n",
       "995   995       0.058333333\n",
       "996   996      -0.033333333\n",
       "997   997       0.016666667\n",
       "998   998       0.041666667\n",
       "999   999       0.008333333\n",
       "1000 1000       0.016666667"
      ]
     },
     "metadata": {},
     "output_type": "display_data"
    }
   ],
   "source": [
    "disc_perm <- discrimination_dataset %>%\n",
    "  specify(promote ~ sex, success = \"promoted\") %>%\n",
    "  hypothesize(null = \"independence\") %>%\n",
    "  generate(reps = 1000, type = \"permute\") %>%\n",
    "  calculate(stat = \"diff in props\", order = c(\"male\", \"female\"))\n",
    "\n",
    "disc_perm"
   ]
  },
  {
   "cell_type": "code",
   "execution_count": 13,
   "metadata": {},
   "outputs": [
    {
     "data": {
      "text/html": [
       "<table>\n",
       "<thead><tr><th scope=col>q.05</th><th scope=col>q.90</th><th scope=col>q.95</th><th scope=col>q.99</th></tr></thead>\n",
       "<tbody>\n",
       "\t<tr><td>-0.06666667</td><td>0.05       </td><td>0.06666667 </td><td>0.09175    </td></tr>\n",
       "</tbody>\n",
       "</table>\n"
      ],
      "text/latex": [
       "\\begin{tabular}{r|llll}\n",
       " q.05 & q.90 & q.95 & q.99\\\\\n",
       "\\hline\n",
       "\t -0.06666667 & 0.05        & 0.06666667  & 0.09175    \\\\\n",
       "\\end{tabular}\n"
      ],
      "text/markdown": [
       "\n",
       "| q.05 | q.90 | q.95 | q.99 |\n",
       "|---|---|---|---|\n",
       "| -0.06666667 | 0.05        | 0.06666667  | 0.09175     |\n",
       "\n"
      ],
      "text/plain": [
       "  q.05        q.90 q.95       q.99   \n",
       "1 -0.06666667 0.05 0.06666667 0.09175"
      ]
     },
     "metadata": {},
     "output_type": "display_data"
    }
   ],
   "source": [
    "# Observando para os quantis de 5%, 90%, 95% e 99%\n",
    "# Lembre-se, a REGIÃo CRÍTICA corresponde ao intervalo entre os quantis 5% e 95%\n",
    "disc_perm %>% \n",
    "  summarize(\n",
    "    q.05 = quantile(stat, p = .05),\n",
    "    q.90 = quantile(stat, p = .90),\n",
    "    q.95 = quantile(stat, p = .95),\n",
    "    q.99 = quantile(stat, p = .99)\n",
    "  )"
   ]
  },
  {
   "cell_type": "code",
   "execution_count": 14,
   "metadata": {},
   "outputs": [
    {
     "data": {
      "image/png": "[encoded data removed]",
      "text/plain": [
       "plot without title"
      ]
     },
     "metadata": {},
     "output_type": "display_data"
    }
   ],
   "source": [
    "# Plotando a diferença entre a distribuição dos p-hats das amostras permutadas com a diferença da observação original: \n",
    "ggplot(disc_perm, aes(x = stat)) + \n",
    "  geom_histogram(binwidth = 0.004) +\n",
    "  geom_vline(aes(xintercept = diff_orig), color = \"red\")"
   ]
  },
  {
   "cell_type": "markdown",
   "metadata": {},
   "source": [
    "#### Conclusão: a estatística observada está muito distante da distribuição normal que seria visualizada caso a hipótese nula fosse verdadeira - se não houvesse relação entre gênero e promoção."
   ]
  },
  {
   "cell_type": "markdown",
   "metadata": {},
   "source": [
    "## P-VALOR\n",
    "- O P-valor é a **probabilidade de observar dados tão ou mais extremos que o que temos dado que a hipótese nula é verdadeira.**\n",
    "- No caso da disferença entre os gêneros, o p-valor é a probabilidade de observar uma diferença maior ou igual a 0.29 (diff_orig) quando as taxas de promoção não variam de acordo com o gênero.\n",
    "- É a proporção das diferenças permutadas que são menores ou iguais à diferença observada\n",
    "    - Normalmente, assume-se que um **P-valor menor ou igual a 0.05 pode indicar que os dados observados são inconsistentes com a hipótese nula** -> apenas uma a cada 20 \"amostras nulas\" apresentaria um p-hat similar à diferença observada!  "
   ]
  },
  {
   "cell_type": "markdown",
   "metadata": {},
   "source": [
    "Para observar o P-value dos dados, basta usar as funções visualize() e get_p_value() do pacote infer:"
   ]
  },
  {
   "cell_type": "code",
   "execution_count": 15,
   "metadata": {},
   "outputs": [
    {
     "name": "stderr",
     "output_type": "stream",
     "text": [
      "Warning message:\n",
      "\"`visualize()` should no longer be used to plot a p-value. Arguments `obs_stat`, `obs_stat_color`, `pvalue_fill`, and `direction` are deprecated. Use `shade_p_value()` instead.\"Warning message:\n",
      "\"Please be cautious in reporting a p-value of 0. This result is an approximation based on the number of `reps` chosen in the `generate()` step. See `?get_p_value()` for more information.\""
     ]
    },
    {
     "data": {
      "text/html": [
       "<table>\n",
       "<thead><tr><th scope=col>p_value</th></tr></thead>\n",
       "<tbody>\n",
       "\t<tr><td>0</td></tr>\n",
       "</tbody>\n",
       "</table>\n"
      ],
      "text/latex": [
       "\\begin{tabular}{r|l}\n",
       " p\\_value\\\\\n",
       "\\hline\n",
       "\t 0\\\\\n",
       "\\end{tabular}\n"
      ],
      "text/markdown": [
       "\n",
       "| p_value |\n",
       "|---|\n",
       "| 0 |\n",
       "\n"
      ],
      "text/plain": [
       "  p_value\n",
       "1 0      "
      ]
     },
     "metadata": {},
     "output_type": "display_data"
    },
    {
     "data": {
      "image/png": "[encoded data removed]",
      "text/plain": [
       "plot without title"
      ]
     },
     "metadata": {},
     "output_type": "display_data"
    }
   ],
   "source": [
    "disc_perm %>%\n",
    "  visualize(obs_stat = diff_orig, direction = \"greater\")\n",
    "\n",
    "disc_perm %>%\n",
    "  get_p_value(diff_orig, direction = 'greater')"
   ]
  },
  {
   "cell_type": "markdown",
   "metadata": {},
   "source": [
    "Como o P-valor foi zero, é possível concluir que a possibiilidade da hipótese nula ser válida - a de igualdade entre homens e mulheres - é ZERO!"
   ]
  },
  {
   "cell_type": "markdown",
   "metadata": {},
   "source": [
    "## TIPOS DE ERROS"
   ]
  },
  {
   "cell_type": "markdown",
   "metadata": {},
   "source": [
    "<img src=\"erros.JPG\">"
   ]
  },
  {
   "cell_type": "markdown",
   "metadata": {},
   "source": [
    "<img src=\"tipos_erros_meme.jpg\">"
   ]
  },
  {
   "cell_type": "markdown",
   "metadata": {},
   "source": [
    "## CAPÍTULO 4 - INTERVALOS DE CONFIANÇA"
   ]
  },
  {
   "cell_type": "markdown",
   "metadata": {},
   "source": [
    "#### Perguntas de Pesquisa:\n",
    "- **Teste de HIPÓTESES**:\n",
    "    - Questões comparativas -> Qual é a relação entre X e Y?\n",
    "        - Ex: O nível educacional de um indivíduo impacta sua renda per capita?\n",
    "    - Observa como as amostras de uma distribuição nula variam, comparando P-HAT e P:\n",
    "        - P-HAT (estatística) -> proporção da amostra que atende à determinada condição   \n",
    "        - P (parâmetro) -> proporção da população que atende à determinada condição"
   ]
  },
  {
   "cell_type": "markdown",
   "metadata": {},
   "source": [
    "- **Teste de INTERVALOS DE CONFIANÇA**:\n",
    "    - Questões de estimativa -> Qual é o impacto de X em Y? \n",
    "        - Ex: Quanto uma unidade a mais de educação aumenta o nível médio da renda per capita?\n",
    "    - Não explora a distribuição nula, mas quer entender como as amostras da população de interesse variam:\n",
    "        - Tenta medir a distância entre a estatística (P-HAT) e o parâmetro (P)"
   ]
  },
  {
   "cell_type": "markdown",
   "metadata": {},
   "source": [
    "### PARÂMETRO\n",
    "- Valor médio/proporção do conjunto da população que satisfazem à condição X.\n",
    "    - Ex: Renda média de todos os indivíduos da população com determinado nível de educação."
   ]
  },
  {
   "cell_type": "markdown",
   "metadata": {},
   "source": [
    "### INTERVALO DE CONFIANÇA\n",
    "- Intervalo de números que (razoávelmente) captura o verdadeiro valor do parâmetro da população.\n",
    "    - Ex: Temos A% de certeza que indivíduos com um nível de educação B têm de C% a D% de chance de ter uma renda média E. "
   ]
  },
  {
   "cell_type": "markdown",
   "metadata": {},
   "source": [
    "### BOOTSTRAPPING"
   ]
  },
  {
   "cell_type": "markdown",
   "metadata": {},
   "source": [
    "<img src=\"bootstrap.JPG\">"
   ]
  },
  {
   "cell_type": "markdown",
   "metadata": {},
   "source": [
    "### ERRO PADRÃO\n",
    "- Descreve o quanto a estatística da amostra original varia ao redor do parâmetro da população original.\n",
    "    - Para achar a variabilidade da estatística da amostra original, deve-se usar as estatísticas das reamostragens, os chamados p-hat*"
   ]
  },
  {
   "cell_type": "markdown",
   "metadata": {},
   "source": [
    "- Para tentar garantir que a variabilidade do P-HAT* seja o mais fiel possível à variabilidade da amostra original, deve-se repetir a reamostragem com substituição n' = n vezes, sendo n o número de elementos da amostra original.\n",
    "    - Ex: para uma amostra com 100 observações, deve-se fazer 100 reamostragens com repetição\n",
    "    - Se n' < n, o ERRO PADRÃO será MAIOR do que o esperado\n",
    "    - Se n' > n, o ERRO PADRÃO será MENOR do que o esperado"
   ]
  },
  {
   "cell_type": "markdown",
   "metadata": {},
   "source": [
    "#### Exemplo: TAXA DE COMPLICAÇÔES DE SAÚDE POR COVID-19 \n",
    "- Suponhamos que fomos contratados por um laboratório de Wuhan no ínicio de 2020, logo no começo da pandemia, e o nosso objetivo é estimar - dos indivíduos que possuímos dados (amostra da população) - quantos desenvolveram quadros mais graves da doença.  "
   ]
  },
  {
   "cell_type": "code",
   "execution_count": 3,
   "metadata": {},
   "outputs": [
    {
     "data": {
      "text/html": [
       "<table>\n",
       "<thead><tr><th scope=col>stat</th></tr></thead>\n",
       "<tbody>\n",
       "\t<tr><td>0.175</td></tr>\n",
       "</tbody>\n",
       "</table>\n"
      ],
      "text/latex": [
       "\\begin{tabular}{r|l}\n",
       " stat\\\\\n",
       "\\hline\n",
       "\t 0.175\\\\\n",
       "\\end{tabular}\n"
      ],
      "text/markdown": [
       "\n",
       "| stat |\n",
       "|---|\n",
       "| 0.175 |\n",
       "\n"
      ],
      "text/plain": [
       "  stat \n",
       "1 0.175"
      ]
     },
     "metadata": {},
     "output_type": "display_data"
    }
   ],
   "source": [
    "covid_pop_original <- data.frame(doente = c(rep(\"não\", 2475), rep(\"sim\", 525)))\n",
    "\n",
    "# Calculando o parâmetro observada dentro do dataframe da população\n",
    "covid_pop_original_prop <- covid_pop_original %>%\n",
    "    summarize(stat = mean(doente == \"sim\"))\n",
    "\n",
    "covid_pop_original_prop"
   ]
  },
  {
   "cell_type": "code",
   "execution_count": 4,
   "metadata": {},
   "outputs": [],
   "source": [
    "# tamanho da amostra = 300 indivíduos\n",
    "covid_pop_data <- data.frame(\n",
    "    amostra = c(rep(1, 300), rep(2, 300), rep(3, 300), rep(4, 300), rep(5, 300),\n",
    "                rep(6, 300), rep(7, 300), rep(8, 300), rep(9, 300), rep(10, 300)), \n",
    "    doente = c(rep(\"não\", 250), rep(\"sim\", 50), rep(\"não\", 238), rep(\"sim\", 62),\n",
    "             rep(\"não\", 255), rep(\"sim\", 45), rep(\"não\", 242), rep(\"sim\", 58),\n",
    "             rep(\"não\", 253), rep(\"sim\", 47), rep(\"não\", 250), rep(\"sim\", 50), \n",
    "             rep(\"não\", 240), rep(\"sim\", 60), rep(\"não\", 253), rep(\"sim\", 47), \n",
    "             rep(\"não\", 260), rep(\"sim\", 40), rep(\"não\", 234), rep(\"sim\", 66))\n",
    "    )"
   ]
  },
  {
   "cell_type": "code",
   "execution_count": 5,
   "metadata": {},
   "outputs": [
    {
     "data": {
      "text/html": [
       "<table>\n",
       "<thead><tr><th scope=col>amostra</th><th scope=col>stat</th></tr></thead>\n",
       "<tbody>\n",
       "\t<tr><td> 1       </td><td>0.1666667</td></tr>\n",
       "\t<tr><td> 2       </td><td>0.2066667</td></tr>\n",
       "\t<tr><td> 3       </td><td>0.1500000</td></tr>\n",
       "\t<tr><td> 4       </td><td>0.1933333</td></tr>\n",
       "\t<tr><td> 5       </td><td>0.1566667</td></tr>\n",
       "\t<tr><td> 6       </td><td>0.1666667</td></tr>\n",
       "\t<tr><td> 7       </td><td>0.2000000</td></tr>\n",
       "\t<tr><td> 8       </td><td>0.1566667</td></tr>\n",
       "\t<tr><td> 9       </td><td>0.1333333</td></tr>\n",
       "\t<tr><td>10       </td><td>0.2200000</td></tr>\n",
       "</tbody>\n",
       "</table>\n"
      ],
      "text/latex": [
       "\\begin{tabular}{r|ll}\n",
       " amostra & stat\\\\\n",
       "\\hline\n",
       "\t  1        & 0.1666667\\\\\n",
       "\t  2        & 0.2066667\\\\\n",
       "\t  3        & 0.1500000\\\\\n",
       "\t  4        & 0.1933333\\\\\n",
       "\t  5        & 0.1566667\\\\\n",
       "\t  6        & 0.1666667\\\\\n",
       "\t  7        & 0.2000000\\\\\n",
       "\t  8        & 0.1566667\\\\\n",
       "\t  9        & 0.1333333\\\\\n",
       "\t 10        & 0.2200000\\\\\n",
       "\\end{tabular}\n"
      ],
      "text/markdown": [
       "\n",
       "| amostra | stat |\n",
       "|---|---|\n",
       "|  1        | 0.1666667 |\n",
       "|  2        | 0.2066667 |\n",
       "|  3        | 0.1500000 |\n",
       "|  4        | 0.1933333 |\n",
       "|  5        | 0.1566667 |\n",
       "|  6        | 0.1666667 |\n",
       "|  7        | 0.2000000 |\n",
       "|  8        | 0.1566667 |\n",
       "|  9        | 0.1333333 |\n",
       "| 10        | 0.2200000 |\n",
       "\n"
      ],
      "text/plain": [
       "   amostra stat     \n",
       "1   1      0.1666667\n",
       "2   2      0.2066667\n",
       "3   3      0.1500000\n",
       "4   4      0.1933333\n",
       "5   5      0.1566667\n",
       "6   6      0.1666667\n",
       "7   7      0.2000000\n",
       "8   8      0.1566667\n",
       "9   9      0.1333333\n",
       "10 10      0.2200000"
      ]
     },
     "metadata": {},
     "output_type": "display_data"
    }
   ],
   "source": [
    "# Calculando a proporção de doentes por amostra dentro do dataframe da população:\n",
    "# Isso é importante pois irá demonstrar a variabilidade do p-hat! (caso fosse possível visualizá-lo)\n",
    "covid_pop_props <- covid_pop_data %>%\n",
    "    group_by(amostra) %>%\n",
    "    summarize(stat = mean(doente == \"sim\"))\n",
    "\n",
    "covid_pop_props"
   ]
  },
  {
   "cell_type": "code",
   "execution_count": 6,
   "metadata": {},
   "outputs": [
    {
     "data": {
      "text/html": [
       "<table>\n",
       "<thead><tr><th scope=col>doente</th><th scope=col>n</th></tr></thead>\n",
       "<tbody>\n",
       "\t<tr><td>não</td><td>242</td></tr>\n",
       "\t<tr><td>sim</td><td> 58</td></tr>\n",
       "</tbody>\n",
       "</table>\n"
      ],
      "text/latex": [
       "\\begin{tabular}{r|ll}\n",
       " doente & n\\\\\n",
       "\\hline\n",
       "\t não & 242\\\\\n",
       "\t sim &  58\\\\\n",
       "\\end{tabular}\n"
      ],
      "text/markdown": [
       "\n",
       "| doente | n |\n",
       "|---|---|\n",
       "| não | 242 |\n",
       "| sim |  58 |\n",
       "\n"
      ],
      "text/plain": [
       "  doente n  \n",
       "1 não    242\n",
       "2 sim     58"
      ]
     },
     "metadata": {},
     "output_type": "display_data"
    }
   ],
   "source": [
    "# Para fazer o bootstrapping, vamos selecionar uma amostra aleatória, aqui denotada por covid_sample\n",
    "covid_sample <- covid_pop_data %>%\n",
    "    filter(amostra == 4) %>%\n",
    "    select(doente)\n",
    "\n",
    "covid_sample %>%\n",
    "    count(doente)"
   ]
  },
  {
   "cell_type": "code",
   "execution_count": 7,
   "metadata": {},
   "outputs": [
    {
     "data": {
      "text/html": [
       "<table>\n",
       "<thead><tr><th scope=col>replicate</th><th scope=col>stat</th></tr></thead>\n",
       "<tbody>\n",
       "\t<tr><td> 1       </td><td>0.1800000</td></tr>\n",
       "\t<tr><td> 2       </td><td>0.2133333</td></tr>\n",
       "\t<tr><td> 3       </td><td>0.1833333</td></tr>\n",
       "\t<tr><td> 4       </td><td>0.1900000</td></tr>\n",
       "\t<tr><td> 5       </td><td>0.1733333</td></tr>\n",
       "\t<tr><td> 6       </td><td>0.1700000</td></tr>\n",
       "\t<tr><td> 7       </td><td>0.1500000</td></tr>\n",
       "\t<tr><td> 8       </td><td>0.2200000</td></tr>\n",
       "\t<tr><td> 9       </td><td>0.1933333</td></tr>\n",
       "\t<tr><td>10       </td><td>0.1766667</td></tr>\n",
       "\t<tr><td>11       </td><td>0.2000000</td></tr>\n",
       "\t<tr><td>12       </td><td>0.1766667</td></tr>\n",
       "\t<tr><td>13       </td><td>0.1633333</td></tr>\n",
       "\t<tr><td>14       </td><td>0.1866667</td></tr>\n",
       "\t<tr><td>15       </td><td>0.1933333</td></tr>\n",
       "\t<tr><td>16       </td><td>0.1833333</td></tr>\n",
       "\t<tr><td>17       </td><td>0.2033333</td></tr>\n",
       "\t<tr><td>18       </td><td>0.2033333</td></tr>\n",
       "\t<tr><td>19       </td><td>0.1966667</td></tr>\n",
       "\t<tr><td>20       </td><td>0.2066667</td></tr>\n",
       "\t<tr><td>21       </td><td>0.2300000</td></tr>\n",
       "\t<tr><td>22       </td><td>0.2066667</td></tr>\n",
       "\t<tr><td>23       </td><td>0.1733333</td></tr>\n",
       "\t<tr><td>24       </td><td>0.1933333</td></tr>\n",
       "\t<tr><td>25       </td><td>0.1966667</td></tr>\n",
       "\t<tr><td>26       </td><td>0.1733333</td></tr>\n",
       "\t<tr><td>27       </td><td>0.1800000</td></tr>\n",
       "\t<tr><td>28       </td><td>0.1833333</td></tr>\n",
       "\t<tr><td>29       </td><td>0.1866667</td></tr>\n",
       "\t<tr><td>30       </td><td>0.1933333</td></tr>\n",
       "\t<tr><td>...</td><td>...</td></tr>\n",
       "\t<tr><td>271      </td><td>0.1800000</td></tr>\n",
       "\t<tr><td>272      </td><td>0.1800000</td></tr>\n",
       "\t<tr><td>273      </td><td>0.2166667</td></tr>\n",
       "\t<tr><td>274      </td><td>0.2233333</td></tr>\n",
       "\t<tr><td>275      </td><td>0.2133333</td></tr>\n",
       "\t<tr><td>276      </td><td>0.2033333</td></tr>\n",
       "\t<tr><td>277      </td><td>0.1633333</td></tr>\n",
       "\t<tr><td>278      </td><td>0.2366667</td></tr>\n",
       "\t<tr><td>279      </td><td>0.2300000</td></tr>\n",
       "\t<tr><td>280      </td><td>0.1933333</td></tr>\n",
       "\t<tr><td>281      </td><td>0.1866667</td></tr>\n",
       "\t<tr><td>282      </td><td>0.2300000</td></tr>\n",
       "\t<tr><td>283      </td><td>0.1700000</td></tr>\n",
       "\t<tr><td>284      </td><td>0.1733333</td></tr>\n",
       "\t<tr><td>285      </td><td>0.2066667</td></tr>\n",
       "\t<tr><td>286      </td><td>0.2133333</td></tr>\n",
       "\t<tr><td>287      </td><td>0.2100000</td></tr>\n",
       "\t<tr><td>288      </td><td>0.1600000</td></tr>\n",
       "\t<tr><td>289      </td><td>0.2000000</td></tr>\n",
       "\t<tr><td>290      </td><td>0.1566667</td></tr>\n",
       "\t<tr><td>291      </td><td>0.2066667</td></tr>\n",
       "\t<tr><td>292      </td><td>0.2066667</td></tr>\n",
       "\t<tr><td>293      </td><td>0.1933333</td></tr>\n",
       "\t<tr><td>294      </td><td>0.2033333</td></tr>\n",
       "\t<tr><td>295      </td><td>0.1933333</td></tr>\n",
       "\t<tr><td>296      </td><td>0.1666667</td></tr>\n",
       "\t<tr><td>297      </td><td>0.1933333</td></tr>\n",
       "\t<tr><td>298      </td><td>0.2166667</td></tr>\n",
       "\t<tr><td>299      </td><td>0.2000000</td></tr>\n",
       "\t<tr><td>300      </td><td>0.2300000</td></tr>\n",
       "</tbody>\n",
       "</table>\n"
      ],
      "text/latex": [
       "\\begin{tabular}{r|ll}\n",
       " replicate & stat\\\\\n",
       "\\hline\n",
       "\t  1        & 0.1800000\\\\\n",
       "\t  2        & 0.2133333\\\\\n",
       "\t  3        & 0.1833333\\\\\n",
       "\t  4        & 0.1900000\\\\\n",
       "\t  5        & 0.1733333\\\\\n",
       "\t  6        & 0.1700000\\\\\n",
       "\t  7        & 0.1500000\\\\\n",
       "\t  8        & 0.2200000\\\\\n",
       "\t  9        & 0.1933333\\\\\n",
       "\t 10        & 0.1766667\\\\\n",
       "\t 11        & 0.2000000\\\\\n",
       "\t 12        & 0.1766667\\\\\n",
       "\t 13        & 0.1633333\\\\\n",
       "\t 14        & 0.1866667\\\\\n",
       "\t 15        & 0.1933333\\\\\n",
       "\t 16        & 0.1833333\\\\\n",
       "\t 17        & 0.2033333\\\\\n",
       "\t 18        & 0.2033333\\\\\n",
       "\t 19        & 0.1966667\\\\\n",
       "\t 20        & 0.2066667\\\\\n",
       "\t 21        & 0.2300000\\\\\n",
       "\t 22        & 0.2066667\\\\\n",
       "\t 23        & 0.1733333\\\\\n",
       "\t 24        & 0.1933333\\\\\n",
       "\t 25        & 0.1966667\\\\\n",
       "\t 26        & 0.1733333\\\\\n",
       "\t 27        & 0.1800000\\\\\n",
       "\t 28        & 0.1833333\\\\\n",
       "\t 29        & 0.1866667\\\\\n",
       "\t 30        & 0.1933333\\\\\n",
       "\t ... & ...\\\\\n",
       "\t 271       & 0.1800000\\\\\n",
       "\t 272       & 0.1800000\\\\\n",
       "\t 273       & 0.2166667\\\\\n",
       "\t 274       & 0.2233333\\\\\n",
       "\t 275       & 0.2133333\\\\\n",
       "\t 276       & 0.2033333\\\\\n",
       "\t 277       & 0.1633333\\\\\n",
       "\t 278       & 0.2366667\\\\\n",
       "\t 279       & 0.2300000\\\\\n",
       "\t 280       & 0.1933333\\\\\n",
       "\t 281       & 0.1866667\\\\\n",
       "\t 282       & 0.2300000\\\\\n",
       "\t 283       & 0.1700000\\\\\n",
       "\t 284       & 0.1733333\\\\\n",
       "\t 285       & 0.2066667\\\\\n",
       "\t 286       & 0.2133333\\\\\n",
       "\t 287       & 0.2100000\\\\\n",
       "\t 288       & 0.1600000\\\\\n",
       "\t 289       & 0.2000000\\\\\n",
       "\t 290       & 0.1566667\\\\\n",
       "\t 291       & 0.2066667\\\\\n",
       "\t 292       & 0.2066667\\\\\n",
       "\t 293       & 0.1933333\\\\\n",
       "\t 294       & 0.2033333\\\\\n",
       "\t 295       & 0.1933333\\\\\n",
       "\t 296       & 0.1666667\\\\\n",
       "\t 297       & 0.1933333\\\\\n",
       "\t 298       & 0.2166667\\\\\n",
       "\t 299       & 0.2000000\\\\\n",
       "\t 300       & 0.2300000\\\\\n",
       "\\end{tabular}\n"
      ],
      "text/markdown": [
       "\n",
       "| replicate | stat |\n",
       "|---|---|\n",
       "|  1        | 0.1800000 |\n",
       "|  2        | 0.2133333 |\n",
       "|  3        | 0.1833333 |\n",
       "|  4        | 0.1900000 |\n",
       "|  5        | 0.1733333 |\n",
       "|  6        | 0.1700000 |\n",
       "|  7        | 0.1500000 |\n",
       "|  8        | 0.2200000 |\n",
       "|  9        | 0.1933333 |\n",
       "| 10        | 0.1766667 |\n",
       "| 11        | 0.2000000 |\n",
       "| 12        | 0.1766667 |\n",
       "| 13        | 0.1633333 |\n",
       "| 14        | 0.1866667 |\n",
       "| 15        | 0.1933333 |\n",
       "| 16        | 0.1833333 |\n",
       "| 17        | 0.2033333 |\n",
       "| 18        | 0.2033333 |\n",
       "| 19        | 0.1966667 |\n",
       "| 20        | 0.2066667 |\n",
       "| 21        | 0.2300000 |\n",
       "| 22        | 0.2066667 |\n",
       "| 23        | 0.1733333 |\n",
       "| 24        | 0.1933333 |\n",
       "| 25        | 0.1966667 |\n",
       "| 26        | 0.1733333 |\n",
       "| 27        | 0.1800000 |\n",
       "| 28        | 0.1833333 |\n",
       "| 29        | 0.1866667 |\n",
       "| 30        | 0.1933333 |\n",
       "| ... | ... |\n",
       "| 271       | 0.1800000 |\n",
       "| 272       | 0.1800000 |\n",
       "| 273       | 0.2166667 |\n",
       "| 274       | 0.2233333 |\n",
       "| 275       | 0.2133333 |\n",
       "| 276       | 0.2033333 |\n",
       "| 277       | 0.1633333 |\n",
       "| 278       | 0.2366667 |\n",
       "| 279       | 0.2300000 |\n",
       "| 280       | 0.1933333 |\n",
       "| 281       | 0.1866667 |\n",
       "| 282       | 0.2300000 |\n",
       "| 283       | 0.1700000 |\n",
       "| 284       | 0.1733333 |\n",
       "| 285       | 0.2066667 |\n",
       "| 286       | 0.2133333 |\n",
       "| 287       | 0.2100000 |\n",
       "| 288       | 0.1600000 |\n",
       "| 289       | 0.2000000 |\n",
       "| 290       | 0.1566667 |\n",
       "| 291       | 0.2066667 |\n",
       "| 292       | 0.2066667 |\n",
       "| 293       | 0.1933333 |\n",
       "| 294       | 0.2033333 |\n",
       "| 295       | 0.1933333 |\n",
       "| 296       | 0.1666667 |\n",
       "| 297       | 0.1933333 |\n",
       "| 298       | 0.2166667 |\n",
       "| 299       | 0.2000000 |\n",
       "| 300       | 0.2300000 |\n",
       "\n"
      ],
      "text/plain": [
       "    replicate stat     \n",
       "1    1        0.1800000\n",
       "2    2        0.2133333\n",
       "3    3        0.1833333\n",
       "4    4        0.1900000\n",
       "5    5        0.1733333\n",
       "6    6        0.1700000\n",
       "7    7        0.1500000\n",
       "8    8        0.2200000\n",
       "9    9        0.1933333\n",
       "10  10        0.1766667\n",
       "11  11        0.2000000\n",
       "12  12        0.1766667\n",
       "13  13        0.1633333\n",
       "14  14        0.1866667\n",
       "15  15        0.1933333\n",
       "16  16        0.1833333\n",
       "17  17        0.2033333\n",
       "18  18        0.2033333\n",
       "19  19        0.1966667\n",
       "20  20        0.2066667\n",
       "21  21        0.2300000\n",
       "22  22        0.2066667\n",
       "23  23        0.1733333\n",
       "24  24        0.1933333\n",
       "25  25        0.1966667\n",
       "26  26        0.1733333\n",
       "27  27        0.1800000\n",
       "28  28        0.1833333\n",
       "29  29        0.1866667\n",
       "30  30        0.1933333\n",
       "... ...       ...      \n",
       "271 271       0.1800000\n",
       "272 272       0.1800000\n",
       "273 273       0.2166667\n",
       "274 274       0.2233333\n",
       "275 275       0.2133333\n",
       "276 276       0.2033333\n",
       "277 277       0.1633333\n",
       "278 278       0.2366667\n",
       "279 279       0.2300000\n",
       "280 280       0.1933333\n",
       "281 281       0.1866667\n",
       "282 282       0.2300000\n",
       "283 283       0.1700000\n",
       "284 284       0.1733333\n",
       "285 285       0.2066667\n",
       "286 286       0.2133333\n",
       "287 287       0.2100000\n",
       "288 288       0.1600000\n",
       "289 289       0.2000000\n",
       "290 290       0.1566667\n",
       "291 291       0.2066667\n",
       "292 292       0.2066667\n",
       "293 293       0.1933333\n",
       "294 294       0.2033333\n",
       "295 295       0.1933333\n",
       "296 296       0.1666667\n",
       "297 297       0.1933333\n",
       "298 298       0.2166667\n",
       "299 299       0.2000000\n",
       "300 300       0.2300000"
      ]
     },
     "metadata": {},
     "output_type": "display_data"
    }
   ],
   "source": [
    "# Fazendo o bootstrapping e extraindo o p-hat* das reamostragens: \n",
    "covid_sample_props <- covid_sample %>%\n",
    "  specify(response = doente, success = 'sim') %>%\n",
    "# Note que o valor de reps é igual ao valor de observações da amostra selecionada! \n",
    "  generate(reps = 300, type = 'bootstrap') %>% \n",
    "  calculate(stat = 'prop')\n",
    "\n",
    "covid_sample_props"
   ]
  },
  {
   "cell_type": "markdown",
   "metadata": {},
   "source": [
    "### VARIABILIDADE DO P-HAT"
   ]
  },
  {
   "cell_type": "markdown",
   "metadata": {},
   "source": [
    "O objetivo do de criar um intervalo de confiança é de encontrar uma faixa de valores razoáveis para o parâmetro da população.\n",
    "\n",
    "- Problema: A estatística observada (p-hat) é uma boa estimativa, mas não é possível saber a distância do p-hat para a estatística p apenas observando a amostra de dados.\n",
    "    - Solução: Calcular a variabilidade das estatísticas p-hat* fornece uma medida da distância entre o p-hat observado e o parâmetro p.\n",
    "\n",
    "\n",
    "- OBS: os slides do Datacamp demonstram que se tomarmos uma distribuição via bootstrap e compararmos com a distribuição feita com toda a população, será possível observar forte convergência entre os dados da variabilidade do p-hat.\n"
   ]
  },
  {
   "cell_type": "code",
   "execution_count": 21,
   "metadata": {},
   "outputs": [
    {
     "data": {
      "text/html": [
       "<table>\n",
       "<thead><tr><th scope=col>variability</th></tr></thead>\n",
       "<tbody>\n",
       "\t<tr><td>0.02211456</td></tr>\n",
       "</tbody>\n",
       "</table>\n"
      ],
      "text/latex": [
       "\\begin{tabular}{r|l}\n",
       " variability\\\\\n",
       "\\hline\n",
       "\t 0.02211456\\\\\n",
       "\\end{tabular}\n"
      ],
      "text/markdown": [
       "\n",
       "| variability |\n",
       "|---|\n",
       "| 0.02211456 |\n",
       "\n"
      ],
      "text/plain": [
       "  variability\n",
       "1 0.02211456 "
      ]
     },
     "metadata": {},
     "output_type": "display_data"
    }
   ],
   "source": [
    "# Calculando a variabilidade da estatística das ***amostras do bootstrap*** -> ERRO PADRÃO:\n",
    "covid_sample_props %>% \n",
    "  summarize(variability = sd(stat))"
   ]
  },
  {
   "cell_type": "code",
   "execution_count": 22,
   "metadata": {},
   "outputs": [
    {
     "data": {
      "text/html": [
       "<table>\n",
       "<thead><tr><th scope=col>variability</th></tr></thead>\n",
       "<tbody>\n",
       "\t<tr><td>0.02820778</td></tr>\n",
       "</tbody>\n",
       "</table>\n"
      ],
      "text/latex": [
       "\\begin{tabular}{r|l}\n",
       " variability\\\\\n",
       "\\hline\n",
       "\t 0.02820778\\\\\n",
       "\\end{tabular}\n"
      ],
      "text/markdown": [
       "\n",
       "| variability |\n",
       "|---|\n",
       "| 0.02820778 |\n",
       "\n"
      ],
      "text/plain": [
       "  variability\n",
       "1 0.02820778 "
      ]
     },
     "metadata": {},
     "output_type": "display_data"
    }
   ],
   "source": [
    "# Calculando a variabilidade do p-hat das amostras da ***população original***:\n",
    "covid_pop_props %>% \n",
    "  summarize(variability = sd(stat))"
   ]
  },
  {
   "cell_type": "code",
   "execution_count": 23,
   "metadata": {},
   "outputs": [
    {
     "data": {
      "text/html": [
       "0.193333333333333"
      ],
      "text/latex": [
       "0.193333333333333"
      ],
      "text/markdown": [
       "0.193333333333333"
      ],
      "text/plain": [
       "[1] 0.1933333"
      ]
     },
     "metadata": {},
     "output_type": "display_data"
    }
   ],
   "source": [
    "# Calculando o p-hat da ***amostra original***:\n",
    "p_hat <- covid_sample %>%\n",
    "  summarize(stat = mean(doente == 'sim')) %>%\n",
    "  pull()\n",
    "\n",
    "p_hat"
   ]
  },
  {
   "cell_type": "markdown",
   "metadata": {},
   "source": [
    "Agora que já encontramos a variabilidade do p-hat da amostra original (impossível, dado que temos apenas uma amostra), vamos encontrar o intervalo de confiança dos dados fornecidos pelas reamostragens!"
   ]
  },
  {
   "cell_type": "code",
   "execution_count": 24,
   "metadata": {},
   "outputs": [
    {
     "data": {
      "text/html": [
       "<table>\n",
       "<thead><tr><th scope=col>lower</th><th scope=col>upper</th></tr></thead>\n",
       "<tbody>\n",
       "\t<tr><td>0.1491042</td><td>0.2375625</td></tr>\n",
       "</tbody>\n",
       "</table>\n"
      ],
      "text/latex": [
       "\\begin{tabular}{r|ll}\n",
       " lower & upper\\\\\n",
       "\\hline\n",
       "\t 0.1491042 & 0.2375625\\\\\n",
       "\\end{tabular}\n"
      ],
      "text/markdown": [
       "\n",
       "| lower | upper |\n",
       "|---|---|\n",
       "| 0.1491042 | 0.2375625 |\n",
       "\n"
      ],
      "text/plain": [
       "  lower     upper    \n",
       "1 0.1491042 0.2375625"
      ]
     },
     "metadata": {},
     "output_type": "display_data"
    }
   ],
   "source": [
    "# Pela Regra Empírica (intervalo t) - aprox. 95% das reamostragens vão produzir p-hat* dentro de um intervalo de 2\n",
    "# erros padrão do p-hat da amostra original:\n",
    "covid_sample_props %>%\n",
    "  summarize(\n",
    "    lower = p_hat - 2 * sd(stat),\n",
    "    upper = p_hat + 2 * sd(stat)\n",
    "  )"
   ]
  },
  {
   "cell_type": "code",
   "execution_count": 25,
   "metadata": {},
   "outputs": [
    {
     "data": {
      "text/html": [
       "<table>\n",
       "<thead><tr><th scope=col>lower_ci</th><th scope=col>upper_ci</th></tr></thead>\n",
       "<tbody>\n",
       "\t<tr><td>0.15     </td><td>0.2350833</td></tr>\n",
       "</tbody>\n",
       "</table>\n"
      ],
      "text/latex": [
       "\\begin{tabular}{r|ll}\n",
       " lower\\_ci & upper\\_ci\\\\\n",
       "\\hline\n",
       "\t 0.15      & 0.2350833\\\\\n",
       "\\end{tabular}\n"
      ],
      "text/markdown": [
       "\n",
       "| lower_ci | upper_ci |\n",
       "|---|---|\n",
       "| 0.15      | 0.2350833 |\n",
       "\n"
      ],
      "text/plain": [
       "  lower_ci upper_ci \n",
       "1 0.15     0.2350833"
      ]
     },
     "metadata": {},
     "output_type": "display_data"
    }
   ],
   "source": [
    "# Pelo cálculo dentro do quantil estabelecido:\n",
    "percentile_ci <- covid_sample_props %>% \n",
    "  get_confidence_interval(level = 0.95)\n",
    "\n",
    "percentile_ci"
   ]
  },
  {
   "cell_type": "code",
   "execution_count": 26,
   "metadata": {},
   "outputs": [
    {
     "name": "stderr",
     "output_type": "stream",
     "text": [
      "Warning message:\n",
      "\"`visualize()` should no longer be used to plot a confidence interval. Arguments `endpoints`, `endpoints_color`, and `ci_fill` are deprecated. Use `shade_confidence_interval()` instead.\""
     ]
    },
    {
     "data": {
      "image/png": "[encoded data removed]",
      "text/plain": [
       "plot without title"
      ]
     },
     "metadata": {},
     "output_type": "display_data"
    }
   ],
   "source": [
    "covid_sample_props %>% \n",
    "  visualize(endpoints = percentile_ci, direction = 'between')"
   ]
  },
  {
   "cell_type": "code",
   "execution_count": null,
   "metadata": {},
   "outputs": [],
   "source": []
  },
  {
   "cell_type": "code",
   "execution_count": null,
   "metadata": {},
   "outputs": [],
   "source": []
  },
  {
   "cell_type": "code",
   "execution_count": null,
   "metadata": {},
   "outputs": [],
   "source": []
  },
  {
   "cell_type": "code",
   "execution_count": 19,
   "metadata": {},
   "outputs": [],
   "source": [
    "data <- read.csv(\"C:/Users/lordo/Documents/FEA.dev/R/causal_inference/online_classroom.csv\")"
   ]
  },
  {
   "cell_type": "code",
   "execution_count": 20,
   "metadata": {},
   "outputs": [
    {
     "data": {
      "text/html": [
       "<table>\n",
       "<thead><tr><th scope=col>X</th><th scope=col>gpa</th><th scope=col>cum_total_crds</th><th scope=col>gender</th><th scope=col>asian</th><th scope=col>black</th><th scope=col>hawaiian</th><th scope=col>hispanic</th><th scope=col>unknown</th><th scope=col>white</th><th scope=col>...</th><th scope=col>format_ol</th><th scope=col>format_blended</th><th scope=col>sat_math_NEW</th><th scope=col>sat_verbal_NEW</th><th scope=col>enroll_count</th><th scope=col>format_f2f_v_ol</th><th scope=col>format_f2f_v_blended</th><th scope=col>format_combined_v_f2f</th><th scope=col>falsexam</th><th scope=col>experiment1</th></tr></thead>\n",
       "<tbody>\n",
       "\t<tr><td>0    </td><td>2.014</td><td>63   </td><td>1    </td><td> 0   </td><td> 0   </td><td> 0   </td><td> 0   </td><td> 0   </td><td> 1   </td><td>...  </td><td>0    </td><td>0    </td><td>540  </td><td>540  </td><td>NA   </td><td>0    </td><td>0    </td><td>1    </td><td>0    </td><td>0    </td></tr>\n",
       "\t<tr><td>1    </td><td>3.720</td><td>33   </td><td>1    </td><td> 0   </td><td> 0   </td><td> 0   </td><td> 0   </td><td> 0   </td><td> 1   </td><td>...  </td><td>0    </td><td>0    </td><td>590  </td><td>630  </td><td>NA   </td><td>0    </td><td>0    </td><td>1    </td><td>0    </td><td>0    </td></tr>\n",
       "\t<tr><td>2    </td><td>   NA</td><td> 4   </td><td>0    </td><td> 0   </td><td> 0   </td><td> 0   </td><td> 0   </td><td> 0   </td><td> 1   </td><td>...  </td><td>0    </td><td>0    </td><td>650  </td><td>570  </td><td>NA   </td><td>0    </td><td>0    </td><td>1    </td><td>0    </td><td>0    </td></tr>\n",
       "\t<tr><td>3    </td><td>   NA</td><td>10   </td><td>1    </td><td>NA   </td><td>NA   </td><td>NA   </td><td>NA   </td><td>NA   </td><td>NA   </td><td>...  </td><td>0    </td><td>0    </td><td>690  </td><td>690  </td><td>NA   </td><td>0    </td><td>0    </td><td>1    </td><td>0    </td><td>0    </td></tr>\n",
       "\t<tr><td>4    </td><td>   NA</td><td> 0   </td><td>0    </td><td> 0   </td><td> 1   </td><td> 0   </td><td> 0   </td><td> 0   </td><td> 0   </td><td>...  </td><td>0    </td><td>0    </td><td>480  </td><td>420  </td><td>NA   </td><td>0    </td><td>0    </td><td>1    </td><td>0    </td><td>0    </td></tr>\n",
       "\t<tr><td>5    </td><td>   NA</td><td>14   </td><td>1    </td><td> 0   </td><td> 0   </td><td> 0   </td><td> 0   </td><td> 0   </td><td> 1   </td><td>...  </td><td>0    </td><td>0    </td><td>670  </td><td>640  </td><td>NA   </td><td>0    </td><td>0    </td><td>1    </td><td>0    </td><td>0    </td></tr>\n",
       "</tbody>\n",
       "</table>\n"
      ],
      "text/latex": [
       "\\begin{tabular}{r|lllllllllllllllllllll}\n",
       " X & gpa & cum\\_total\\_crds & gender & asian & black & hawaiian & hispanic & unknown & white & ... & format\\_ol & format\\_blended & sat\\_math\\_NEW & sat\\_verbal\\_NEW & enroll\\_count & format\\_f2f\\_v\\_ol & format\\_f2f\\_v\\_blended & format\\_combined\\_v\\_f2f & falsexam & experiment1\\\\\n",
       "\\hline\n",
       "\t 0     & 2.014 & 63    & 1     &  0    &  0    &  0    &  0    &  0    &  1    & ...   & 0     & 0     & 540   & 540   & NA    & 0     & 0     & 1     & 0     & 0    \\\\\n",
       "\t 1     & 3.720 & 33    & 1     &  0    &  0    &  0    &  0    &  0    &  1    & ...   & 0     & 0     & 590   & 630   & NA    & 0     & 0     & 1     & 0     & 0    \\\\\n",
       "\t 2     &    NA &  4    & 0     &  0    &  0    &  0    &  0    &  0    &  1    & ...   & 0     & 0     & 650   & 570   & NA    & 0     & 0     & 1     & 0     & 0    \\\\\n",
       "\t 3     &    NA & 10    & 1     & NA    & NA    & NA    & NA    & NA    & NA    & ...   & 0     & 0     & 690   & 690   & NA    & 0     & 0     & 1     & 0     & 0    \\\\\n",
       "\t 4     &    NA &  0    & 0     &  0    &  1    &  0    &  0    &  0    &  0    & ...   & 0     & 0     & 480   & 420   & NA    & 0     & 0     & 1     & 0     & 0    \\\\\n",
       "\t 5     &    NA & 14    & 1     &  0    &  0    &  0    &  0    &  0    &  1    & ...   & 0     & 0     & 670   & 640   & NA    & 0     & 0     & 1     & 0     & 0    \\\\\n",
       "\\end{tabular}\n"
      ],
      "text/markdown": [
       "\n",
       "| X | gpa | cum_total_crds | gender | asian | black | hawaiian | hispanic | unknown | white | ... | format_ol | format_blended | sat_math_NEW | sat_verbal_NEW | enroll_count | format_f2f_v_ol | format_f2f_v_blended | format_combined_v_f2f | falsexam | experiment1 |\n",
       "|---|---|---|---|---|---|---|---|---|---|---|---|---|---|---|---|---|---|---|---|---|\n",
       "| 0     | 2.014 | 63    | 1     |  0    |  0    |  0    |  0    |  0    |  1    | ...   | 0     | 0     | 540   | 540   | NA    | 0     | 0     | 1     | 0     | 0     |\n",
       "| 1     | 3.720 | 33    | 1     |  0    |  0    |  0    |  0    |  0    |  1    | ...   | 0     | 0     | 590   | 630   | NA    | 0     | 0     | 1     | 0     | 0     |\n",
       "| 2     |    NA |  4    | 0     |  0    |  0    |  0    |  0    |  0    |  1    | ...   | 0     | 0     | 650   | 570   | NA    | 0     | 0     | 1     | 0     | 0     |\n",
       "| 3     |    NA | 10    | 1     | NA    | NA    | NA    | NA    | NA    | NA    | ...   | 0     | 0     | 690   | 690   | NA    | 0     | 0     | 1     | 0     | 0     |\n",
       "| 4     |    NA |  0    | 0     |  0    |  1    |  0    |  0    |  0    |  0    | ...   | 0     | 0     | 480   | 420   | NA    | 0     | 0     | 1     | 0     | 0     |\n",
       "| 5     |    NA | 14    | 1     |  0    |  0    |  0    |  0    |  0    |  1    | ...   | 0     | 0     | 670   | 640   | NA    | 0     | 0     | 1     | 0     | 0     |\n",
       "\n"
      ],
      "text/plain": [
       "  X gpa   cum_total_crds gender asian black hawaiian hispanic unknown white ...\n",
       "1 0 2.014 63             1       0     0     0        0        0       1    ...\n",
       "2 1 3.720 33             1       0     0     0        0        0       1    ...\n",
       "3 2    NA  4             0       0     0     0        0        0       1    ...\n",
       "4 3    NA 10             1      NA    NA    NA       NA       NA      NA    ...\n",
       "5 4    NA  0             0       0     1     0        0        0       0    ...\n",
       "6 5    NA 14             1       0     0     0        0        0       1    ...\n",
       "  format_ol format_blended sat_math_NEW sat_verbal_NEW enroll_count\n",
       "1 0         0              540          540            NA          \n",
       "2 0         0              590          630            NA          \n",
       "3 0         0              650          570            NA          \n",
       "4 0         0              690          690            NA          \n",
       "5 0         0              480          420            NA          \n",
       "6 0         0              670          640            NA          \n",
       "  format_f2f_v_ol format_f2f_v_blended format_combined_v_f2f falsexam\n",
       "1 0               0                    1                     0       \n",
       "2 0               0                    1                     0       \n",
       "3 0               0                    1                     0       \n",
       "4 0               0                    1                     0       \n",
       "5 0               0                    1                     0       \n",
       "6 0               0                    1                     0       \n",
       "  experiment1\n",
       "1 0          \n",
       "2 0          \n",
       "3 0          \n",
       "4 0          \n",
       "5 0          \n",
       "6 0          "
      ]
     },
     "metadata": {},
     "output_type": "display_data"
    }
   ],
   "source": [
    "head(data)"
   ]
  },
  {
   "cell_type": "code",
   "execution_count": 53,
   "metadata": {},
   "outputs": [],
   "source": [
    "online <- data %>%\n",
    "    filter(format_ol == 1) %>%\n",
    "    select(falsexam)"
   ]
  },
  {
   "cell_type": "code",
   "execution_count": 54,
   "metadata": {},
   "outputs": [],
   "source": [
    "face_to_face <- data %>%\n",
    "    filter(format_ol == 0) %>%\n",
    "    filter(format_blended == 0) %>%\n",
    "    select(falsexam)"
   ]
  },
  {
   "cell_type": "code",
   "execution_count": 55,
   "metadata": {},
   "outputs": [
    {
     "data": {
      "text/html": [
       "<table>\n",
       "<thead><tr><th scope=col>falsexam</th></tr></thead>\n",
       "<tbody>\n",
       "\t<tr><td>83.30000</td></tr>\n",
       "\t<tr><td> 0.00000</td></tr>\n",
       "\t<tr><td>88.34996</td></tr>\n",
       "\t<tr><td>73.37000</td></tr>\n",
       "\t<tr><td>83.30000</td></tr>\n",
       "\t<tr><td>80.05000</td></tr>\n",
       "</tbody>\n",
       "</table>\n"
      ],
      "text/latex": [
       "\\begin{tabular}{r|l}\n",
       " falsexam\\\\\n",
       "\\hline\n",
       "\t 83.30000\\\\\n",
       "\t  0.00000\\\\\n",
       "\t 88.34996\\\\\n",
       "\t 73.37000\\\\\n",
       "\t 83.30000\\\\\n",
       "\t 80.05000\\\\\n",
       "\\end{tabular}\n"
      ],
      "text/markdown": [
       "\n",
       "| falsexam |\n",
       "|---|\n",
       "| 83.30000 |\n",
       "|  0.00000 |\n",
       "| 88.34996 |\n",
       "| 73.37000 |\n",
       "| 83.30000 |\n",
       "| 80.05000 |\n",
       "\n"
      ],
      "text/plain": [
       "  falsexam\n",
       "1 83.30000\n",
       "2  0.00000\n",
       "3 88.34996\n",
       "4 73.37000\n",
       "5 83.30000\n",
       "6 80.05000"
      ]
     },
     "metadata": {},
     "output_type": "display_data"
    }
   ],
   "source": [
    "head(online)"
   ]
  },
  {
   "cell_type": "code",
   "execution_count": 70,
   "metadata": {},
   "outputs": [
    {
     "data": {
      "text/html": [
       "'SE for Online: 2.91964766769501'"
      ],
      "text/latex": [
       "'SE for Online: 2.91964766769501'"
      ],
      "text/markdown": [
       "'SE for Online: 2.91964766769501'"
      ],
      "text/plain": [
       "[1] \"SE for Online: 2.91964766769501\""
      ]
     },
     "metadata": {},
     "output_type": "display_data"
    },
    {
     "data": {
      "text/html": [
       "'SE for Face to Face: 2.12808961042319'"
      ],
      "text/latex": [
       "'SE for Face to Face: 2.12808961042319'"
      ],
      "text/markdown": [
       "'SE for Face to Face: 2.12808961042319'"
      ],
      "text/plain": [
       "[1] \"SE for Face to Face: 2.12808961042319\""
      ]
     },
     "metadata": {},
     "output_type": "display_data"
    }
   ],
   "source": [
    "se <- function(y){\n",
    "    return (sd(as.numeric(unlist(y))) / sqrt(length(as.numeric(unlist(y)))))\n",
    "}\n",
    "\n",
    "paste(\"SE for Online:\", se(online))\n",
    "paste(\"SE for Face to Face:\", se(face_to_face))"
   ]
  },
  {
   "cell_type": "code",
   "execution_count": 74,
   "metadata": {},
   "outputs": [
    {
     "ename": "ERROR",
     "evalue": "Error in eval(lhs, parent, parent): objeto 'discrimination_dataset' não encontrado\n",
     "output_type": "error",
     "traceback": [
      "Error in eval(lhs, parent, parent): objeto 'discrimination_dataset' não encontrado\nTraceback:\n",
      "1. discrimination_dataset %>% specify(falsexam ~ format_ol) %>% \n .     hypothesize(null = \"independence\") %>% generate(reps = 5, \n .     type = \"permute\")",
      "2. eval(lhs, parent, parent)",
      "3. eval(lhs, parent, parent)"
     ]
    }
   ],
   "source": [
    "disc_perm <- discrimination_dataset %>%\n",
    "  specify(falsexam ~ format_ol) %>%\n",
    "  hypothesize(null = \"independence\") %>%\n",
    "  generate(reps = 5, type = \"permute\")\n",
    "\n",
    "disc_perm"
   ]
  },
  {
   "cell_type": "code",
   "execution_count": 76,
   "metadata": {},
   "outputs": [
    {
     "data": {
      "text/html": [
       "<table>\n",
       "<thead><tr><th scope=col>falsexam</th><th scope=col>format_ol</th><th scope=col>replicate</th></tr></thead>\n",
       "<tbody>\n",
       "\t<tr><td> 0.00</td><td>0    </td><td>1    </td></tr>\n",
       "\t<tr><td> 0.00</td><td>0    </td><td>1    </td></tr>\n",
       "\t<tr><td>76.64</td><td>0    </td><td>1    </td></tr>\n",
       "\t<tr><td>86.64</td><td>0    </td><td>1    </td></tr>\n",
       "\t<tr><td>81.70</td><td>0    </td><td>1    </td></tr>\n",
       "\t<tr><td> 0.00</td><td>0    </td><td>1    </td></tr>\n",
       "</tbody>\n",
       "</table>\n"
      ],
      "text/latex": [
       "\\begin{tabular}{r|lll}\n",
       " falsexam & format\\_ol & replicate\\\\\n",
       "\\hline\n",
       "\t  0.00 & 0     & 1    \\\\\n",
       "\t  0.00 & 0     & 1    \\\\\n",
       "\t 76.64 & 0     & 1    \\\\\n",
       "\t 86.64 & 0     & 1    \\\\\n",
       "\t 81.70 & 0     & 1    \\\\\n",
       "\t  0.00 & 0     & 1    \\\\\n",
       "\\end{tabular}\n"
      ],
      "text/markdown": [
       "\n",
       "| falsexam | format_ol | replicate |\n",
       "|---|---|---|\n",
       "|  0.00 | 0     | 1     |\n",
       "|  0.00 | 0     | 1     |\n",
       "| 76.64 | 0     | 1     |\n",
       "| 86.64 | 0     | 1     |\n",
       "| 81.70 | 0     | 1     |\n",
       "|  0.00 | 0     | 1     |\n",
       "\n"
      ],
      "text/plain": [
       "  falsexam format_ol replicate\n",
       "1  0.00    0         1        \n",
       "2  0.00    0         1        \n",
       "3 76.64    0         1        \n",
       "4 86.64    0         1        \n",
       "5 81.70    0         1        \n",
       "6  0.00    0         1        "
      ]
     },
     "metadata": {},
     "output_type": "display_data"
    }
   ],
   "source": [
    "disc_perm <- data %>%\n",
    "  specify(falsexam ~ format_ol) %>%\n",
    "  hypothesize(null = \"independence\") %>%\n",
    "  generate(reps = 5, type = \"permute\")\n",
    "\n",
    "head(disc_perm)"
   ]
  },
  {
   "cell_type": "code",
   "execution_count": null,
   "metadata": {},
   "outputs": [],
   "source": [
    "disc_perm %>%\n",
    "  calculate(stat = \"diff in props\", order = c(\"male\", \"female\"))"
   ]
  },
  {
   "cell_type": "code",
   "execution_count": 73,
   "metadata": {},
   "outputs": [
    {
     "data": {
      "text/html": [
       "<pre class=language-r><code>function () \n",
       "{\n",
       "<span style=white-space:pre-wrap>    return(rnorm(true_mean, true_std, n))</span>\n",
       "}</code></pre>"
      ],
      "text/latex": [
       "\\begin{minted}{r}\n",
       "function () \n",
       "\\{\n",
       "    return(rnorm(true\\_mean, true\\_std, n))\n",
       "\\}\n",
       "\\end{minted}"
      ],
      "text/markdown": [
       "```r\n",
       "function () \n",
       "{\n",
       "    return(rnorm(true_mean, true_std, n))\n",
       "}\n",
       "```"
      ],
      "text/plain": [
       "function(){\n",
       "    return (rnorm(true_mean, true_std, n))\n",
       "}"
      ]
     },
     "metadata": {},
     "output_type": "display_data"
    }
   ],
   "source": [
    "true_std = 2\n",
    "true_mean = 74\n",
    "n = 500\n",
    "\n",
    "set.seed(42)\n",
    "function(){\n",
    "    return (rnorm(true_mean, true_std, n))\n",
    "}"
   ]
  },
  {
   "cell_type": "code",
   "execution_count": null,
   "metadata": {},
   "outputs": [],
   "source": [
    "n = 500\n",
    "set.seed(42)\n",
    "def run_experiment(): \n",
    "    return np.random.normal(true_mean,true_std, n)"
   ]
  },
  {
   "cell_type": "code",
   "execution_count": 71,
   "metadata": {},
   "outputs": [],
   "source": [
    "set.seed(1234)"
   ]
  },
  {
   "cell_type": "code",
   "execution_count": 79,
   "metadata": {},
   "outputs": [],
   "source": [
    "data <- data %>%\n",
    "    mutate(tipo = ifelse(str_detect(format_ol, \"0\"), \"face_to_face\", \"online\"))"
   ]
  },
  {
   "cell_type": "code",
   "execution_count": 80,
   "metadata": {},
   "outputs": [
    {
     "data": {
      "text/html": [
       "<table>\n",
       "<thead><tr><th scope=col>X</th><th scope=col>gpa</th><th scope=col>cum_total_crds</th><th scope=col>gender</th><th scope=col>asian</th><th scope=col>black</th><th scope=col>hawaiian</th><th scope=col>hispanic</th><th scope=col>unknown</th><th scope=col>white</th><th scope=col>...</th><th scope=col>format_blended</th><th scope=col>sat_math_NEW</th><th scope=col>sat_verbal_NEW</th><th scope=col>enroll_count</th><th scope=col>format_f2f_v_ol</th><th scope=col>format_f2f_v_blended</th><th scope=col>format_combined_v_f2f</th><th scope=col>falsexam</th><th scope=col>experiment1</th><th scope=col>tipo</th></tr></thead>\n",
       "<tbody>\n",
       "\t<tr><td> 0          </td><td>2.014       </td><td>63          </td><td>1           </td><td> 0          </td><td> 0          </td><td> 0          </td><td> 0          </td><td> 0          </td><td> 1          </td><td>...         </td><td>0           </td><td>540         </td><td>540         </td><td>NA          </td><td>0           </td><td>0           </td><td>1           </td><td>0           </td><td>0           </td><td>face_to_face</td></tr>\n",
       "\t<tr><td> 1          </td><td>3.720       </td><td>33          </td><td>1           </td><td> 0          </td><td> 0          </td><td> 0          </td><td> 0          </td><td> 0          </td><td> 1          </td><td>...         </td><td>0           </td><td>590         </td><td>630         </td><td>NA          </td><td>0           </td><td>0           </td><td>1           </td><td>0           </td><td>0           </td><td>face_to_face</td></tr>\n",
       "\t<tr><td> 2          </td><td>   NA       </td><td> 4          </td><td>0           </td><td> 0          </td><td> 0          </td><td> 0          </td><td> 0          </td><td> 0          </td><td> 1          </td><td>...         </td><td>0           </td><td>650         </td><td>570         </td><td>NA          </td><td>0           </td><td>0           </td><td>1           </td><td>0           </td><td>0           </td><td>face_to_face</td></tr>\n",
       "\t<tr><td> 3          </td><td>   NA       </td><td>10          </td><td>1           </td><td>NA          </td><td>NA          </td><td>NA          </td><td>NA          </td><td>NA          </td><td>NA          </td><td>...         </td><td>0           </td><td>690         </td><td>690         </td><td>NA          </td><td>0           </td><td>0           </td><td>1           </td><td>0           </td><td>0           </td><td>face_to_face</td></tr>\n",
       "\t<tr><td> 4          </td><td>   NA       </td><td> 0          </td><td>0           </td><td> 0          </td><td> 1          </td><td> 0          </td><td> 0          </td><td> 0          </td><td> 0          </td><td>...         </td><td>0           </td><td>480         </td><td>420         </td><td>NA          </td><td>0           </td><td>0           </td><td>1           </td><td>0           </td><td>0           </td><td>face_to_face</td></tr>\n",
       "\t<tr><td> 5          </td><td>   NA       </td><td>14          </td><td>1           </td><td> 0          </td><td> 0          </td><td> 0          </td><td> 0          </td><td> 0          </td><td> 1          </td><td>...         </td><td>0           </td><td>670         </td><td>640         </td><td>NA          </td><td>0           </td><td>0           </td><td>1           </td><td>0           </td><td>0           </td><td>face_to_face</td></tr>\n",
       "\t<tr><td> 6          </td><td>   NA       </td><td>19          </td><td>1           </td><td> 0          </td><td> 0          </td><td> 0          </td><td> 0          </td><td> 0          </td><td> 1          </td><td>...         </td><td>0           </td><td>740         </td><td>620         </td><td>NA          </td><td>0           </td><td>0           </td><td>1           </td><td>0           </td><td>0           </td><td>face_to_face</td></tr>\n",
       "\t<tr><td> 7          </td><td>   NA       </td><td> 0          </td><td>0           </td><td> 1          </td><td> 0          </td><td> 0          </td><td> 0          </td><td> 0          </td><td> 0          </td><td>...         </td><td>0           </td><td>710         </td><td>440         </td><td>NA          </td><td>0           </td><td>0           </td><td>1           </td><td>0           </td><td>0           </td><td>face_to_face</td></tr>\n",
       "\t<tr><td> 8          </td><td>3.143       </td><td>51          </td><td>1           </td><td> 0          </td><td> 0          </td><td> 0          </td><td> 1          </td><td> 0          </td><td> 0          </td><td>...         </td><td>0           </td><td>510         </td><td>620         </td><td>NA          </td><td>0           </td><td>0           </td><td>1           </td><td>0           </td><td>0           </td><td>face_to_face</td></tr>\n",
       "\t<tr><td> 9          </td><td>   NA       </td><td> 0          </td><td>1           </td><td> 0          </td><td> 0          </td><td> 0          </td><td> 0          </td><td> 0          </td><td> 1          </td><td>...         </td><td>0           </td><td>630         </td><td>570         </td><td>NA          </td><td>0           </td><td>0           </td><td>1           </td><td>0           </td><td>0           </td><td>face_to_face</td></tr>\n",
       "\t<tr><td>10          </td><td>3.070       </td><td>30          </td><td>0           </td><td>NA          </td><td>NA          </td><td>NA          </td><td>NA          </td><td>NA          </td><td>NA          </td><td>...         </td><td>0           </td><td>660         </td><td>720         </td><td>NA          </td><td>0           </td><td>0           </td><td>1           </td><td>0           </td><td>0           </td><td>face_to_face</td></tr>\n",
       "\t<tr><td>11          </td><td>   NA       </td><td> 4          </td><td>0           </td><td> 0          </td><td> 0          </td><td> 0          </td><td> 0          </td><td> 0          </td><td> 1          </td><td>...         </td><td>0           </td><td>660         </td><td>550         </td><td>NA          </td><td>0           </td><td>0           </td><td>1           </td><td>0           </td><td>0           </td><td>face_to_face</td></tr>\n",
       "\t<tr><td>12          </td><td>3.644       </td><td>63          </td><td>1           </td><td> 0          </td><td> 0          </td><td> 0          </td><td> 0          </td><td> 0          </td><td> 1          </td><td>...         </td><td>0           </td><td>760         </td><td>630         </td><td>NA          </td><td>0           </td><td>0           </td><td>1           </td><td>0           </td><td>0           </td><td>face_to_face</td></tr>\n",
       "\t<tr><td>13          </td><td>2.687       </td><td>31          </td><td>0           </td><td> 0          </td><td> 0          </td><td> 0          </td><td> 0          </td><td> 0          </td><td> 1          </td><td>...         </td><td>0           </td><td>570         </td><td>540         </td><td>NA          </td><td>0           </td><td>0           </td><td>1           </td><td>0           </td><td>0           </td><td>face_to_face</td></tr>\n",
       "\t<tr><td>14          </td><td>   NA       </td><td> 0          </td><td>1           </td><td> 1          </td><td> 0          </td><td> 0          </td><td> 0          </td><td> 0          </td><td> 0          </td><td>...         </td><td>0           </td><td>720         </td><td>460         </td><td>NA          </td><td>0           </td><td>0           </td><td>1           </td><td>0           </td><td>0           </td><td>face_to_face</td></tr>\n",
       "\t<tr><td>15          </td><td>2.939       </td><td>36          </td><td>1           </td><td>NA          </td><td>NA          </td><td>NA          </td><td>NA          </td><td>NA          </td><td>NA          </td><td>...         </td><td>0           </td><td>610         </td><td>500         </td><td>NA          </td><td>0           </td><td>0           </td><td>1           </td><td>0           </td><td>0           </td><td>face_to_face</td></tr>\n",
       "\t<tr><td>16          </td><td>3.679       </td><td>42          </td><td>0           </td><td> 0          </td><td> 0          </td><td> 0          </td><td> 0          </td><td> 0          </td><td> 1          </td><td>...         </td><td>0           </td><td>650         </td><td>650         </td><td>NA          </td><td>0           </td><td>0           </td><td>1           </td><td>0           </td><td>0           </td><td>face_to_face</td></tr>\n",
       "\t<tr><td>17          </td><td>3.894       </td><td>53          </td><td>0           </td><td>NA          </td><td>NA          </td><td>NA          </td><td>NA          </td><td>NA          </td><td>NA          </td><td>...         </td><td>0           </td><td>750         </td><td>660         </td><td>NA          </td><td>0           </td><td>0           </td><td>1           </td><td>0           </td><td>0           </td><td>face_to_face</td></tr>\n",
       "\t<tr><td>18          </td><td>   NA       </td><td>96          </td><td>1           </td><td> 0          </td><td> 0          </td><td> 0          </td><td> 0          </td><td> 0          </td><td> 1          </td><td>...         </td><td>0           </td><td>520         </td><td>570         </td><td>NA          </td><td>0           </td><td>0           </td><td>1           </td><td>0           </td><td>0           </td><td>face_to_face</td></tr>\n",
       "\t<tr><td>19          </td><td>3.623       </td><td>40          </td><td>1           </td><td> 0          </td><td> 0          </td><td> 0          </td><td> 0          </td><td> 0          </td><td> 1          </td><td>...         </td><td>0           </td><td>770         </td><td>800         </td><td>NA          </td><td>0           </td><td>0           </td><td>1           </td><td>0           </td><td>0           </td><td>face_to_face</td></tr>\n",
       "\t<tr><td>20          </td><td>2.263       </td><td>28          </td><td>0           </td><td> 0          </td><td> 1          </td><td> 0          </td><td> 0          </td><td> 0          </td><td> 0          </td><td>...         </td><td>0           </td><td>570         </td><td>560         </td><td>NA          </td><td>0           </td><td>0           </td><td>1           </td><td>0           </td><td>0           </td><td>face_to_face</td></tr>\n",
       "\t<tr><td>21          </td><td>   NA       </td><td>31          </td><td>1           </td><td> 0          </td><td> 0          </td><td> 0          </td><td> 0          </td><td> 0          </td><td> 1          </td><td>...         </td><td>0           </td><td>590         </td><td>590         </td><td>NA          </td><td>0           </td><td>0           </td><td>1           </td><td>0           </td><td>0           </td><td>face_to_face</td></tr>\n",
       "\t<tr><td>22          </td><td>2.814       </td><td>35          </td><td>1           </td><td> 0          </td><td> 0          </td><td> 0          </td><td> 0          </td><td> 0          </td><td> 1          </td><td>...         </td><td>0           </td><td>600         </td><td>710         </td><td>NA          </td><td>0           </td><td>0           </td><td>1           </td><td>0           </td><td>0           </td><td>face_to_face</td></tr>\n",
       "\t<tr><td>23          </td><td>2.486       </td><td>34          </td><td>1           </td><td> 0          </td><td> 0          </td><td> 0          </td><td> 0          </td><td> 0          </td><td> 1          </td><td>...         </td><td>0           </td><td>640         </td><td>620         </td><td>NA          </td><td>0           </td><td>0           </td><td>1           </td><td>0           </td><td>0           </td><td>face_to_face</td></tr>\n",
       "\t<tr><td>24          </td><td>   NA       </td><td>32          </td><td>1           </td><td> 0          </td><td> 0          </td><td> 0          </td><td> 0          </td><td> 0          </td><td> 1          </td><td>...         </td><td>0           </td><td> NA         </td><td> NA         </td><td>NA          </td><td>0           </td><td>0           </td><td>1           </td><td>0           </td><td>0           </td><td>face_to_face</td></tr>\n",
       "\t<tr><td>25          </td><td>3.480       </td><td>30          </td><td>0           </td><td> 0          </td><td> 0          </td><td> 0          </td><td> 0          </td><td> 0          </td><td> 1          </td><td>...         </td><td>0           </td><td>640         </td><td>580         </td><td>NA          </td><td>0           </td><td>0           </td><td>1           </td><td>0           </td><td>0           </td><td>face_to_face</td></tr>\n",
       "\t<tr><td>26          </td><td>   NA       </td><td>15          </td><td>1           </td><td>NA          </td><td>NA          </td><td>NA          </td><td>NA          </td><td>NA          </td><td>NA          </td><td>...         </td><td>0           </td><td>690         </td><td>570         </td><td>NA          </td><td>0           </td><td>0           </td><td>1           </td><td>0           </td><td>0           </td><td>face_to_face</td></tr>\n",
       "\t<tr><td>27          </td><td>   NA       </td><td> 4          </td><td>0           </td><td> 0          </td><td> 0          </td><td> 0          </td><td> 0          </td><td> 0          </td><td> 1          </td><td>...         </td><td>0           </td><td>650         </td><td>570         </td><td>NA          </td><td>0           </td><td>0           </td><td>1           </td><td>0           </td><td>0           </td><td>face_to_face</td></tr>\n",
       "\t<tr><td>28          </td><td>   NA       </td><td>40          </td><td>0           </td><td> 0          </td><td> 0          </td><td> 0          </td><td> 0          </td><td> 0          </td><td> 1          </td><td>...         </td><td>0           </td><td>510         </td><td>600         </td><td>NA          </td><td>0           </td><td>0           </td><td>1           </td><td>0           </td><td>0           </td><td>face_to_face</td></tr>\n",
       "\t<tr><td>29          </td><td>2.260       </td><td>54          </td><td>1           </td><td> 0          </td><td> 1          </td><td> 0          </td><td> 0          </td><td> 0          </td><td> 0          </td><td>...         </td><td>0           </td><td>620         </td><td>610         </td><td>NA          </td><td>0           </td><td>0           </td><td>1           </td><td>0           </td><td>0           </td><td>face_to_face</td></tr>\n",
       "\t<tr><td>...</td><td>...</td><td>...</td><td>...</td><td>...</td><td>...</td><td>...</td><td>...</td><td>...</td><td>...</td><td>   </td><td>...</td><td>...</td><td>...</td><td>...</td><td>...</td><td>...</td><td>...</td><td>...</td><td>...</td><td>...</td></tr>\n",
       "\t<tr><td>640         </td><td>   NA       </td><td> NA         </td><td>1           </td><td>NA          </td><td>NA          </td><td>NA          </td><td>NA          </td><td>NA          </td><td>NA          </td><td>...         </td><td>1           </td><td> NA         </td><td> NA         </td><td>1           </td><td>NA          </td><td> 1          </td><td>0           </td><td>0           </td><td>NA          </td><td>face_to_face</td></tr>\n",
       "\t<tr><td>641         </td><td>0.743       </td><td>  7         </td><td>1           </td><td> 0          </td><td> 0          </td><td> 0          </td><td> 0          </td><td> 0          </td><td> 1          </td><td>...         </td><td>1           </td><td>660         </td><td>560         </td><td>1           </td><td>NA          </td><td> 1          </td><td>0           </td><td>0           </td><td>NA          </td><td>face_to_face</td></tr>\n",
       "\t<tr><td>642         </td><td>3.514       </td><td> 14         </td><td>1           </td><td>NA          </td><td>NA          </td><td>NA          </td><td>NA          </td><td>NA          </td><td>NA          </td><td>...         </td><td>1           </td><td> NA         </td><td> NA         </td><td>1           </td><td>NA          </td><td> 1          </td><td>0           </td><td>0           </td><td>NA          </td><td>face_to_face</td></tr>\n",
       "\t<tr><td>643         </td><td>3.927       </td><td> 40         </td><td>0           </td><td> 1          </td><td> 0          </td><td> 0          </td><td> 0          </td><td> 0          </td><td> 0          </td><td>...         </td><td>1           </td><td>660         </td><td>540         </td><td>1           </td><td>NA          </td><td> 1          </td><td>0           </td><td>0           </td><td>NA          </td><td>face_to_face</td></tr>\n",
       "\t<tr><td>644         </td><td>3.240       </td><td> 30         </td><td>0           </td><td> 0          </td><td> 0          </td><td> 0          </td><td> 0          </td><td> 0          </td><td> 1          </td><td>...         </td><td>1           </td><td>590         </td><td>635         </td><td>1           </td><td>NA          </td><td> 1          </td><td>0           </td><td>0           </td><td>NA          </td><td>face_to_face</td></tr>\n",
       "\t<tr><td>645         </td><td>2.969       </td><td> 36         </td><td>1           </td><td>NA          </td><td>NA          </td><td>NA          </td><td>NA          </td><td>NA          </td><td>NA          </td><td>...         </td><td>1           </td><td>690         </td><td>640         </td><td>1           </td><td>NA          </td><td> 1          </td><td>0           </td><td>0           </td><td>NA          </td><td>face_to_face</td></tr>\n",
       "\t<tr><td>646         </td><td>2.222       </td><td> 36         </td><td>1           </td><td> 0          </td><td> 1          </td><td> 0          </td><td> 0          </td><td> 0          </td><td> 0          </td><td>...         </td><td>1           </td><td>460         </td><td>470         </td><td>1           </td><td>NA          </td><td> 1          </td><td>0           </td><td>0           </td><td>NA          </td><td>face_to_face</td></tr>\n",
       "\t<tr><td>647         </td><td>2.906       </td><td> 16         </td><td>0           </td><td> 0          </td><td> 1          </td><td> 0          </td><td> 0          </td><td> 0          </td><td> 0          </td><td>...         </td><td>0           </td><td>480         </td><td>420         </td><td>1           </td><td> 1          </td><td>NA          </td><td>0           </td><td>0           </td><td>NA          </td><td>online      </td></tr>\n",
       "\t<tr><td>648         </td><td>3.700       </td><td> 49         </td><td>1           </td><td> 0          </td><td> 1          </td><td> 0          </td><td> 0          </td><td> 0          </td><td> 0          </td><td>...         </td><td>0           </td><td>610         </td><td>600         </td><td>1           </td><td> 1          </td><td>NA          </td><td>0           </td><td>0           </td><td>NA          </td><td>online      </td></tr>\n",
       "\t<tr><td>649         </td><td>2.331       </td><td> 81         </td><td>0           </td><td> 0          </td><td> 0          </td><td> 0          </td><td> 0          </td><td> 0          </td><td> 1          </td><td>...         </td><td>1           </td><td>610         </td><td>580         </td><td>1           </td><td>NA          </td><td> 1          </td><td>0           </td><td>0           </td><td>NA          </td><td>face_to_face</td></tr>\n",
       "\t<tr><td>650         </td><td>2.945       </td><td> 50         </td><td>1           </td><td> 0          </td><td> 0          </td><td> 0          </td><td> 0          </td><td> 0          </td><td> 1          </td><td>...         </td><td>0           </td><td>600         </td><td>710         </td><td>1           </td><td> 1          </td><td>NA          </td><td>0           </td><td>0           </td><td>NA          </td><td>online      </td></tr>\n",
       "\t<tr><td>651         </td><td>3.647       </td><td> 22         </td><td>1           </td><td> 0          </td><td> 0          </td><td> 0          </td><td> 0          </td><td> 0          </td><td> 1          </td><td>...         </td><td>0           </td><td>610         </td><td>760         </td><td>1           </td><td> 1          </td><td>NA          </td><td>0           </td><td>0           </td><td>NA          </td><td>online      </td></tr>\n",
       "\t<tr><td>652         </td><td>3.479       </td><td> 23         </td><td>0           </td><td> 1          </td><td> 0          </td><td> 0          </td><td> 0          </td><td> 0          </td><td> 0          </td><td>...         </td><td>0           </td><td>650         </td><td>700         </td><td>1           </td><td> 0          </td><td> 0          </td><td>1           </td><td>0           </td><td>NA          </td><td>face_to_face</td></tr>\n",
       "\t<tr><td>653         </td><td>3.545       </td><td> 29         </td><td>0           </td><td> 0          </td><td> 0          </td><td> 0          </td><td> 0          </td><td> 0          </td><td> 1          </td><td>...         </td><td>0           </td><td>650         </td><td>600         </td><td>1           </td><td> 1          </td><td>NA          </td><td>0           </td><td>0           </td><td>NA          </td><td>online      </td></tr>\n",
       "\t<tr><td>654         </td><td>   NA       </td><td> NA         </td><td>1           </td><td>NA          </td><td>NA          </td><td>NA          </td><td>NA          </td><td>NA          </td><td>NA          </td><td>...         </td><td>1           </td><td> NA         </td><td> NA         </td><td>1           </td><td>NA          </td><td> 1          </td><td>0           </td><td>0           </td><td>NA          </td><td>face_to_face</td></tr>\n",
       "\t<tr><td>655         </td><td>3.959       </td><td> 43         </td><td>0           </td><td>NA          </td><td>NA          </td><td>NA          </td><td>NA          </td><td>NA          </td><td>NA          </td><td>...         </td><td>1           </td><td>720         </td><td>640         </td><td>1           </td><td>NA          </td><td> 1          </td><td>0           </td><td>0           </td><td>NA          </td><td>face_to_face</td></tr>\n",
       "\t<tr><td>656         </td><td>   NA       </td><td> NA         </td><td>1           </td><td>NA          </td><td>NA          </td><td>NA          </td><td>NA          </td><td>NA          </td><td>NA          </td><td>...         </td><td>1           </td><td> NA         </td><td> NA         </td><td>1           </td><td>NA          </td><td> 1          </td><td>0           </td><td>0           </td><td>NA          </td><td>face_to_face</td></tr>\n",
       "\t<tr><td>657         </td><td>   NA       </td><td> 41         </td><td>1           </td><td>NA          </td><td>NA          </td><td>NA          </td><td>NA          </td><td>NA          </td><td>NA          </td><td>...         </td><td>0           </td><td>600         </td><td>590         </td><td>1           </td><td> 1          </td><td>NA          </td><td>0           </td><td>0           </td><td>NA          </td><td>online      </td></tr>\n",
       "\t<tr><td>658         </td><td>2.860       </td><td> 29         </td><td>0           </td><td> 1          </td><td> 0          </td><td> 0          </td><td> 0          </td><td> 0          </td><td> 0          </td><td>...         </td><td>1           </td><td>790         </td><td>360         </td><td>1           </td><td>NA          </td><td> 1          </td><td>0           </td><td>0           </td><td>NA          </td><td>face_to_face</td></tr>\n",
       "\t<tr><td>659         </td><td>3.095       </td><td>111         </td><td>1           </td><td> 0          </td><td> 1          </td><td> 0          </td><td> 0          </td><td> 0          </td><td> 0          </td><td>...         </td><td>0           </td><td>420         </td><td>440         </td><td>1           </td><td> 1          </td><td>NA          </td><td>0           </td><td>0           </td><td>NA          </td><td>online      </td></tr>\n",
       "\t<tr><td>660         </td><td>3.333       </td><td> 15         </td><td>0           </td><td> 0          </td><td> 1          </td><td> 0          </td><td> 0          </td><td> 0          </td><td> 0          </td><td>...         </td><td>0           </td><td>540         </td><td>480         </td><td>1           </td><td> 0          </td><td> 0          </td><td>1           </td><td>0           </td><td>NA          </td><td>face_to_face</td></tr>\n",
       "\t<tr><td>661         </td><td>2.963       </td><td> 24         </td><td>0           </td><td> 0          </td><td> 1          </td><td> 0          </td><td> 0          </td><td> 0          </td><td> 0          </td><td>...         </td><td>1           </td><td>560         </td><td>630         </td><td>1           </td><td>NA          </td><td> 1          </td><td>0           </td><td>0           </td><td>NA          </td><td>face_to_face</td></tr>\n",
       "\t<tr><td>662         </td><td>2.778       </td><td> 25         </td><td>1           </td><td> 0          </td><td> 0          </td><td> 0          </td><td> 0          </td><td> 0          </td><td> 1          </td><td>...         </td><td>1           </td><td> NA         </td><td> NA         </td><td>1           </td><td>NA          </td><td> 1          </td><td>0           </td><td>0           </td><td>NA          </td><td>face_to_face</td></tr>\n",
       "\t<tr><td>663         </td><td>3.580       </td><td> 59         </td><td>0           </td><td>NA          </td><td>NA          </td><td>NA          </td><td>NA          </td><td>NA          </td><td>NA          </td><td>...         </td><td>1           </td><td>560         </td><td>560         </td><td>1           </td><td>NA          </td><td> 1          </td><td>0           </td><td>0           </td><td>NA          </td><td>face_to_face</td></tr>\n",
       "\t<tr><td>664         </td><td>   NA       </td><td> NA         </td><td>1           </td><td>NA          </td><td>NA          </td><td>NA          </td><td>NA          </td><td>NA          </td><td>NA          </td><td>...         </td><td>0           </td><td> NA         </td><td> NA         </td><td>1           </td><td> 0          </td><td> 0          </td><td>1           </td><td>0           </td><td>NA          </td><td>face_to_face</td></tr>\n",
       "\t<tr><td>665         </td><td>3.557       </td><td> 75         </td><td>0           </td><td> 0          </td><td> 0          </td><td> 0          </td><td> 0          </td><td> 0          </td><td> 1          </td><td>...         </td><td>1           </td><td>530         </td><td>540         </td><td>1           </td><td>NA          </td><td> 1          </td><td>0           </td><td>0           </td><td>NA          </td><td>face_to_face</td></tr>\n",
       "\t<tr><td>666         </td><td>3.013       </td><td> 34         </td><td>0           </td><td> 1          </td><td> 0          </td><td> 0          </td><td> 0          </td><td> 0          </td><td> 0          </td><td>...         </td><td>1           </td><td>540         </td><td>510         </td><td>1           </td><td>NA          </td><td> 1          </td><td>0           </td><td>0           </td><td>NA          </td><td>face_to_face</td></tr>\n",
       "\t<tr><td>667         </td><td>3.548       </td><td> 42         </td><td>0           </td><td> 0          </td><td> 1          </td><td> 0          </td><td> 0          </td><td> 0          </td><td> 0          </td><td>...         </td><td>0           </td><td>570         </td><td>610         </td><td>1           </td><td> 0          </td><td> 0          </td><td>1           </td><td>0           </td><td>NA          </td><td>face_to_face</td></tr>\n",
       "\t<tr><td>668         </td><td>2.895       </td><td> 44         </td><td>0           </td><td> 1          </td><td> 0          </td><td> 0          </td><td> 0          </td><td> 0          </td><td> 0          </td><td>...         </td><td>1           </td><td> NA         </td><td> NA         </td><td>1           </td><td>NA          </td><td> 1          </td><td>0           </td><td>0           </td><td>NA          </td><td>face_to_face</td></tr>\n",
       "\t<tr><td>669         </td><td>3.790       </td><td> 45         </td><td>0           </td><td>NA          </td><td>NA          </td><td>NA          </td><td>NA          </td><td>NA          </td><td>NA          </td><td>...         </td><td>1           </td><td>620         </td><td>800         </td><td>1           </td><td>NA          </td><td> 1          </td><td>0           </td><td>0           </td><td>NA          </td><td>face_to_face</td></tr>\n",
       "</tbody>\n",
       "</table>\n"
      ],
      "text/latex": [
       "\\begin{tabular}{r|llllllllllllllllllllll}\n",
       " X & gpa & cum\\_total\\_crds & gender & asian & black & hawaiian & hispanic & unknown & white & ... & format\\_blended & sat\\_math\\_NEW & sat\\_verbal\\_NEW & enroll\\_count & format\\_f2f\\_v\\_ol & format\\_f2f\\_v\\_blended & format\\_combined\\_v\\_f2f & falsexam & experiment1 & tipo\\\\\n",
       "\\hline\n",
       "\t  0               & 2.014            & 63               & 1                &  0               &  0               &  0               &  0               &  0               &  1               & ...              & 0                & 540              & 540              & NA               & 0                & 0                & 1                & 0                & 0                & face\\_to\\_face\\\\\n",
       "\t  1               & 3.720            & 33               & 1                &  0               &  0               &  0               &  0               &  0               &  1               & ...              & 0                & 590              & 630              & NA               & 0                & 0                & 1                & 0                & 0                & face\\_to\\_face\\\\\n",
       "\t  2               &    NA            &  4               & 0                &  0               &  0               &  0               &  0               &  0               &  1               & ...              & 0                & 650              & 570              & NA               & 0                & 0                & 1                & 0                & 0                & face\\_to\\_face\\\\\n",
       "\t  3               &    NA            & 10               & 1                & NA               & NA               & NA               & NA               & NA               & NA               & ...              & 0                & 690              & 690              & NA               & 0                & 0                & 1                & 0                & 0                & face\\_to\\_face\\\\\n",
       "\t  4               &    NA            &  0               & 0                &  0               &  1               &  0               &  0               &  0               &  0               & ...              & 0                & 480              & 420              & NA               & 0                & 0                & 1                & 0                & 0                & face\\_to\\_face\\\\\n",
       "\t  5               &    NA            & 14               & 1                &  0               &  0               &  0               &  0               &  0               &  1               & ...              & 0                & 670              & 640              & NA               & 0                & 0                & 1                & 0                & 0                & face\\_to\\_face\\\\\n",
       "\t  6               &    NA            & 19               & 1                &  0               &  0               &  0               &  0               &  0               &  1               & ...              & 0                & 740              & 620              & NA               & 0                & 0                & 1                & 0                & 0                & face\\_to\\_face\\\\\n",
       "\t  7               &    NA            &  0               & 0                &  1               &  0               &  0               &  0               &  0               &  0               & ...              & 0                & 710              & 440              & NA               & 0                & 0                & 1                & 0                & 0                & face\\_to\\_face\\\\\n",
       "\t  8               & 3.143            & 51               & 1                &  0               &  0               &  0               &  1               &  0               &  0               & ...              & 0                & 510              & 620              & NA               & 0                & 0                & 1                & 0                & 0                & face\\_to\\_face\\\\\n",
       "\t  9               &    NA            &  0               & 1                &  0               &  0               &  0               &  0               &  0               &  1               & ...              & 0                & 630              & 570              & NA               & 0                & 0                & 1                & 0                & 0                & face\\_to\\_face\\\\\n",
       "\t 10               & 3.070            & 30               & 0                & NA               & NA               & NA               & NA               & NA               & NA               & ...              & 0                & 660              & 720              & NA               & 0                & 0                & 1                & 0                & 0                & face\\_to\\_face\\\\\n",
       "\t 11               &    NA            &  4               & 0                &  0               &  0               &  0               &  0               &  0               &  1               & ...              & 0                & 660              & 550              & NA               & 0                & 0                & 1                & 0                & 0                & face\\_to\\_face\\\\\n",
       "\t 12               & 3.644            & 63               & 1                &  0               &  0               &  0               &  0               &  0               &  1               & ...              & 0                & 760              & 630              & NA               & 0                & 0                & 1                & 0                & 0                & face\\_to\\_face\\\\\n",
       "\t 13               & 2.687            & 31               & 0                &  0               &  0               &  0               &  0               &  0               &  1               & ...              & 0                & 570              & 540              & NA               & 0                & 0                & 1                & 0                & 0                & face\\_to\\_face\\\\\n",
       "\t 14               &    NA            &  0               & 1                &  1               &  0               &  0               &  0               &  0               &  0               & ...              & 0                & 720              & 460              & NA               & 0                & 0                & 1                & 0                & 0                & face\\_to\\_face\\\\\n",
       "\t 15               & 2.939            & 36               & 1                & NA               & NA               & NA               & NA               & NA               & NA               & ...              & 0                & 610              & 500              & NA               & 0                & 0                & 1                & 0                & 0                & face\\_to\\_face\\\\\n",
       "\t 16               & 3.679            & 42               & 0                &  0               &  0               &  0               &  0               &  0               &  1               & ...              & 0                & 650              & 650              & NA               & 0                & 0                & 1                & 0                & 0                & face\\_to\\_face\\\\\n",
       "\t 17               & 3.894            & 53               & 0                & NA               & NA               & NA               & NA               & NA               & NA               & ...              & 0                & 750              & 660              & NA               & 0                & 0                & 1                & 0                & 0                & face\\_to\\_face\\\\\n",
       "\t 18               &    NA            & 96               & 1                &  0               &  0               &  0               &  0               &  0               &  1               & ...              & 0                & 520              & 570              & NA               & 0                & 0                & 1                & 0                & 0                & face\\_to\\_face\\\\\n",
       "\t 19               & 3.623            & 40               & 1                &  0               &  0               &  0               &  0               &  0               &  1               & ...              & 0                & 770              & 800              & NA               & 0                & 0                & 1                & 0                & 0                & face\\_to\\_face\\\\\n",
       "\t 20               & 2.263            & 28               & 0                &  0               &  1               &  0               &  0               &  0               &  0               & ...              & 0                & 570              & 560              & NA               & 0                & 0                & 1                & 0                & 0                & face\\_to\\_face\\\\\n",
       "\t 21               &    NA            & 31               & 1                &  0               &  0               &  0               &  0               &  0               &  1               & ...              & 0                & 590              & 590              & NA               & 0                & 0                & 1                & 0                & 0                & face\\_to\\_face\\\\\n",
       "\t 22               & 2.814            & 35               & 1                &  0               &  0               &  0               &  0               &  0               &  1               & ...              & 0                & 600              & 710              & NA               & 0                & 0                & 1                & 0                & 0                & face\\_to\\_face\\\\\n",
       "\t 23               & 2.486            & 34               & 1                &  0               &  0               &  0               &  0               &  0               &  1               & ...              & 0                & 640              & 620              & NA               & 0                & 0                & 1                & 0                & 0                & face\\_to\\_face\\\\\n",
       "\t 24               &    NA            & 32               & 1                &  0               &  0               &  0               &  0               &  0               &  1               & ...              & 0                &  NA              &  NA              & NA               & 0                & 0                & 1                & 0                & 0                & face\\_to\\_face\\\\\n",
       "\t 25               & 3.480            & 30               & 0                &  0               &  0               &  0               &  0               &  0               &  1               & ...              & 0                & 640              & 580              & NA               & 0                & 0                & 1                & 0                & 0                & face\\_to\\_face\\\\\n",
       "\t 26               &    NA            & 15               & 1                & NA               & NA               & NA               & NA               & NA               & NA               & ...              & 0                & 690              & 570              & NA               & 0                & 0                & 1                & 0                & 0                & face\\_to\\_face\\\\\n",
       "\t 27               &    NA            &  4               & 0                &  0               &  0               &  0               &  0               &  0               &  1               & ...              & 0                & 650              & 570              & NA               & 0                & 0                & 1                & 0                & 0                & face\\_to\\_face\\\\\n",
       "\t 28               &    NA            & 40               & 0                &  0               &  0               &  0               &  0               &  0               &  1               & ...              & 0                & 510              & 600              & NA               & 0                & 0                & 1                & 0                & 0                & face\\_to\\_face\\\\\n",
       "\t 29               & 2.260            & 54               & 1                &  0               &  1               &  0               &  0               &  0               &  0               & ...              & 0                & 620              & 610              & NA               & 0                & 0                & 1                & 0                & 0                & face\\_to\\_face\\\\\n",
       "\t ... & ... & ... & ... & ... & ... & ... & ... & ... & ... &     & ... & ... & ... & ... & ... & ... & ... & ... & ... & ...\\\\\n",
       "\t 640              &    NA            &  NA              & 1                & NA               & NA               & NA               & NA               & NA               & NA               & ...              & 1                &  NA              &  NA              & 1                & NA               &  1               & 0                & 0                & NA               & face\\_to\\_face\\\\\n",
       "\t 641              & 0.743            &   7              & 1                &  0               &  0               &  0               &  0               &  0               &  1               & ...              & 1                & 660              & 560              & 1                & NA               &  1               & 0                & 0                & NA               & face\\_to\\_face\\\\\n",
       "\t 642              & 3.514            &  14              & 1                & NA               & NA               & NA               & NA               & NA               & NA               & ...              & 1                &  NA              &  NA              & 1                & NA               &  1               & 0                & 0                & NA               & face\\_to\\_face\\\\\n",
       "\t 643              & 3.927            &  40              & 0                &  1               &  0               &  0               &  0               &  0               &  0               & ...              & 1                & 660              & 540              & 1                & NA               &  1               & 0                & 0                & NA               & face\\_to\\_face\\\\\n",
       "\t 644              & 3.240            &  30              & 0                &  0               &  0               &  0               &  0               &  0               &  1               & ...              & 1                & 590              & 635              & 1                & NA               &  1               & 0                & 0                & NA               & face\\_to\\_face\\\\\n",
       "\t 645              & 2.969            &  36              & 1                & NA               & NA               & NA               & NA               & NA               & NA               & ...              & 1                & 690              & 640              & 1                & NA               &  1               & 0                & 0                & NA               & face\\_to\\_face\\\\\n",
       "\t 646              & 2.222            &  36              & 1                &  0               &  1               &  0               &  0               &  0               &  0               & ...              & 1                & 460              & 470              & 1                & NA               &  1               & 0                & 0                & NA               & face\\_to\\_face\\\\\n",
       "\t 647          & 2.906        &  16          & 0            &  0           &  1           &  0           &  0           &  0           &  0           & ...          & 0            & 480          & 420          & 1            &  1           & NA           & 0            & 0            & NA           & online      \\\\\n",
       "\t 648          & 3.700        &  49          & 1            &  0           &  1           &  0           &  0           &  0           &  0           & ...          & 0            & 610          & 600          & 1            &  1           & NA           & 0            & 0            & NA           & online      \\\\\n",
       "\t 649              & 2.331            &  81              & 0                &  0               &  0               &  0               &  0               &  0               &  1               & ...              & 1                & 610              & 580              & 1                & NA               &  1               & 0                & 0                & NA               & face\\_to\\_face\\\\\n",
       "\t 650          & 2.945        &  50          & 1            &  0           &  0           &  0           &  0           &  0           &  1           & ...          & 0            & 600          & 710          & 1            &  1           & NA           & 0            & 0            & NA           & online      \\\\\n",
       "\t 651          & 3.647        &  22          & 1            &  0           &  0           &  0           &  0           &  0           &  1           & ...          & 0            & 610          & 760          & 1            &  1           & NA           & 0            & 0            & NA           & online      \\\\\n",
       "\t 652              & 3.479            &  23              & 0                &  1               &  0               &  0               &  0               &  0               &  0               & ...              & 0                & 650              & 700              & 1                &  0               &  0               & 1                & 0                & NA               & face\\_to\\_face\\\\\n",
       "\t 653          & 3.545        &  29          & 0            &  0           &  0           &  0           &  0           &  0           &  1           & ...          & 0            & 650          & 600          & 1            &  1           & NA           & 0            & 0            & NA           & online      \\\\\n",
       "\t 654              &    NA            &  NA              & 1                & NA               & NA               & NA               & NA               & NA               & NA               & ...              & 1                &  NA              &  NA              & 1                & NA               &  1               & 0                & 0                & NA               & face\\_to\\_face\\\\\n",
       "\t 655              & 3.959            &  43              & 0                & NA               & NA               & NA               & NA               & NA               & NA               & ...              & 1                & 720              & 640              & 1                & NA               &  1               & 0                & 0                & NA               & face\\_to\\_face\\\\\n",
       "\t 656              &    NA            &  NA              & 1                & NA               & NA               & NA               & NA               & NA               & NA               & ...              & 1                &  NA              &  NA              & 1                & NA               &  1               & 0                & 0                & NA               & face\\_to\\_face\\\\\n",
       "\t 657          &    NA        &  41          & 1            & NA           & NA           & NA           & NA           & NA           & NA           & ...          & 0            & 600          & 590          & 1            &  1           & NA           & 0            & 0            & NA           & online      \\\\\n",
       "\t 658              & 2.860            &  29              & 0                &  1               &  0               &  0               &  0               &  0               &  0               & ...              & 1                & 790              & 360              & 1                & NA               &  1               & 0                & 0                & NA               & face\\_to\\_face\\\\\n",
       "\t 659          & 3.095        & 111          & 1            &  0           &  1           &  0           &  0           &  0           &  0           & ...          & 0            & 420          & 440          & 1            &  1           & NA           & 0            & 0            & NA           & online      \\\\\n",
       "\t 660              & 3.333            &  15              & 0                &  0               &  1               &  0               &  0               &  0               &  0               & ...              & 0                & 540              & 480              & 1                &  0               &  0               & 1                & 0                & NA               & face\\_to\\_face\\\\\n",
       "\t 661              & 2.963            &  24              & 0                &  0               &  1               &  0               &  0               &  0               &  0               & ...              & 1                & 560              & 630              & 1                & NA               &  1               & 0                & 0                & NA               & face\\_to\\_face\\\\\n",
       "\t 662              & 2.778            &  25              & 1                &  0               &  0               &  0               &  0               &  0               &  1               & ...              & 1                &  NA              &  NA              & 1                & NA               &  1               & 0                & 0                & NA               & face\\_to\\_face\\\\\n",
       "\t 663              & 3.580            &  59              & 0                & NA               & NA               & NA               & NA               & NA               & NA               & ...              & 1                & 560              & 560              & 1                & NA               &  1               & 0                & 0                & NA               & face\\_to\\_face\\\\\n",
       "\t 664              &    NA            &  NA              & 1                & NA               & NA               & NA               & NA               & NA               & NA               & ...              & 0                &  NA              &  NA              & 1                &  0               &  0               & 1                & 0                & NA               & face\\_to\\_face\\\\\n",
       "\t 665              & 3.557            &  75              & 0                &  0               &  0               &  0               &  0               &  0               &  1               & ...              & 1                & 530              & 540              & 1                & NA               &  1               & 0                & 0                & NA               & face\\_to\\_face\\\\\n",
       "\t 666              & 3.013            &  34              & 0                &  1               &  0               &  0               &  0               &  0               &  0               & ...              & 1                & 540              & 510              & 1                & NA               &  1               & 0                & 0                & NA               & face\\_to\\_face\\\\\n",
       "\t 667              & 3.548            &  42              & 0                &  0               &  1               &  0               &  0               &  0               &  0               & ...              & 0                & 570              & 610              & 1                &  0               &  0               & 1                & 0                & NA               & face\\_to\\_face\\\\\n",
       "\t 668              & 2.895            &  44              & 0                &  1               &  0               &  0               &  0               &  0               &  0               & ...              & 1                &  NA              &  NA              & 1                & NA               &  1               & 0                & 0                & NA               & face\\_to\\_face\\\\\n",
       "\t 669              & 3.790            &  45              & 0                & NA               & NA               & NA               & NA               & NA               & NA               & ...              & 1                & 620              & 800              & 1                & NA               &  1               & 0                & 0                & NA               & face\\_to\\_face\\\\\n",
       "\\end{tabular}\n"
      ],
      "text/markdown": [
       "\n",
       "| X | gpa | cum_total_crds | gender | asian | black | hawaiian | hispanic | unknown | white | ... | format_blended | sat_math_NEW | sat_verbal_NEW | enroll_count | format_f2f_v_ol | format_f2f_v_blended | format_combined_v_f2f | falsexam | experiment1 | tipo |\n",
       "|---|---|---|---|---|---|---|---|---|---|---|---|---|---|---|---|---|---|---|---|---|\n",
       "|  0           | 2.014        | 63           | 1            |  0           |  0           |  0           |  0           |  0           |  1           | ...          | 0            | 540          | 540          | NA           | 0            | 0            | 1            | 0            | 0            | face_to_face |\n",
       "|  1           | 3.720        | 33           | 1            |  0           |  0           |  0           |  0           |  0           |  1           | ...          | 0            | 590          | 630          | NA           | 0            | 0            | 1            | 0            | 0            | face_to_face |\n",
       "|  2           |    NA        |  4           | 0            |  0           |  0           |  0           |  0           |  0           |  1           | ...          | 0            | 650          | 570          | NA           | 0            | 0            | 1            | 0            | 0            | face_to_face |\n",
       "|  3           |    NA        | 10           | 1            | NA           | NA           | NA           | NA           | NA           | NA           | ...          | 0            | 690          | 690          | NA           | 0            | 0            | 1            | 0            | 0            | face_to_face |\n",
       "|  4           |    NA        |  0           | 0            |  0           |  1           |  0           |  0           |  0           |  0           | ...          | 0            | 480          | 420          | NA           | 0            | 0            | 1            | 0            | 0            | face_to_face |\n",
       "|  5           |    NA        | 14           | 1            |  0           |  0           |  0           |  0           |  0           |  1           | ...          | 0            | 670          | 640          | NA           | 0            | 0            | 1            | 0            | 0            | face_to_face |\n",
       "|  6           |    NA        | 19           | 1            |  0           |  0           |  0           |  0           |  0           |  1           | ...          | 0            | 740          | 620          | NA           | 0            | 0            | 1            | 0            | 0            | face_to_face |\n",
       "|  7           |    NA        |  0           | 0            |  1           |  0           |  0           |  0           |  0           |  0           | ...          | 0            | 710          | 440          | NA           | 0            | 0            | 1            | 0            | 0            | face_to_face |\n",
       "|  8           | 3.143        | 51           | 1            |  0           |  0           |  0           |  1           |  0           |  0           | ...          | 0            | 510          | 620          | NA           | 0            | 0            | 1            | 0            | 0            | face_to_face |\n",
       "|  9           |    NA        |  0           | 1            |  0           |  0           |  0           |  0           |  0           |  1           | ...          | 0            | 630          | 570          | NA           | 0            | 0            | 1            | 0            | 0            | face_to_face |\n",
       "| 10           | 3.070        | 30           | 0            | NA           | NA           | NA           | NA           | NA           | NA           | ...          | 0            | 660          | 720          | NA           | 0            | 0            | 1            | 0            | 0            | face_to_face |\n",
       "| 11           |    NA        |  4           | 0            |  0           |  0           |  0           |  0           |  0           |  1           | ...          | 0            | 660          | 550          | NA           | 0            | 0            | 1            | 0            | 0            | face_to_face |\n",
       "| 12           | 3.644        | 63           | 1            |  0           |  0           |  0           |  0           |  0           |  1           | ...          | 0            | 760          | 630          | NA           | 0            | 0            | 1            | 0            | 0            | face_to_face |\n",
       "| 13           | 2.687        | 31           | 0            |  0           |  0           |  0           |  0           |  0           |  1           | ...          | 0            | 570          | 540          | NA           | 0            | 0            | 1            | 0            | 0            | face_to_face |\n",
       "| 14           |    NA        |  0           | 1            |  1           |  0           |  0           |  0           |  0           |  0           | ...          | 0            | 720          | 460          | NA           | 0            | 0            | 1            | 0            | 0            | face_to_face |\n",
       "| 15           | 2.939        | 36           | 1            | NA           | NA           | NA           | NA           | NA           | NA           | ...          | 0            | 610          | 500          | NA           | 0            | 0            | 1            | 0            | 0            | face_to_face |\n",
       "| 16           | 3.679        | 42           | 0            |  0           |  0           |  0           |  0           |  0           |  1           | ...          | 0            | 650          | 650          | NA           | 0            | 0            | 1            | 0            | 0            | face_to_face |\n",
       "| 17           | 3.894        | 53           | 0            | NA           | NA           | NA           | NA           | NA           | NA           | ...          | 0            | 750          | 660          | NA           | 0            | 0            | 1            | 0            | 0            | face_to_face |\n",
       "| 18           |    NA        | 96           | 1            |  0           |  0           |  0           |  0           |  0           |  1           | ...          | 0            | 520          | 570          | NA           | 0            | 0            | 1            | 0            | 0            | face_to_face |\n",
       "| 19           | 3.623        | 40           | 1            |  0           |  0           |  0           |  0           |  0           |  1           | ...          | 0            | 770          | 800          | NA           | 0            | 0            | 1            | 0            | 0            | face_to_face |\n",
       "| 20           | 2.263        | 28           | 0            |  0           |  1           |  0           |  0           |  0           |  0           | ...          | 0            | 570          | 560          | NA           | 0            | 0            | 1            | 0            | 0            | face_to_face |\n",
       "| 21           |    NA        | 31           | 1            |  0           |  0           |  0           |  0           |  0           |  1           | ...          | 0            | 590          | 590          | NA           | 0            | 0            | 1            | 0            | 0            | face_to_face |\n",
       "| 22           | 2.814        | 35           | 1            |  0           |  0           |  0           |  0           |  0           |  1           | ...          | 0            | 600          | 710          | NA           | 0            | 0            | 1            | 0            | 0            | face_to_face |\n",
       "| 23           | 2.486        | 34           | 1            |  0           |  0           |  0           |  0           |  0           |  1           | ...          | 0            | 640          | 620          | NA           | 0            | 0            | 1            | 0            | 0            | face_to_face |\n",
       "| 24           |    NA        | 32           | 1            |  0           |  0           |  0           |  0           |  0           |  1           | ...          | 0            |  NA          |  NA          | NA           | 0            | 0            | 1            | 0            | 0            | face_to_face |\n",
       "| 25           | 3.480        | 30           | 0            |  0           |  0           |  0           |  0           |  0           |  1           | ...          | 0            | 640          | 580          | NA           | 0            | 0            | 1            | 0            | 0            | face_to_face |\n",
       "| 26           |    NA        | 15           | 1            | NA           | NA           | NA           | NA           | NA           | NA           | ...          | 0            | 690          | 570          | NA           | 0            | 0            | 1            | 0            | 0            | face_to_face |\n",
       "| 27           |    NA        |  4           | 0            |  0           |  0           |  0           |  0           |  0           |  1           | ...          | 0            | 650          | 570          | NA           | 0            | 0            | 1            | 0            | 0            | face_to_face |\n",
       "| 28           |    NA        | 40           | 0            |  0           |  0           |  0           |  0           |  0           |  1           | ...          | 0            | 510          | 600          | NA           | 0            | 0            | 1            | 0            | 0            | face_to_face |\n",
       "| 29           | 2.260        | 54           | 1            |  0           |  1           |  0           |  0           |  0           |  0           | ...          | 0            | 620          | 610          | NA           | 0            | 0            | 1            | 0            | 0            | face_to_face |\n",
       "| ... | ... | ... | ... | ... | ... | ... | ... | ... | ... |     | ... | ... | ... | ... | ... | ... | ... | ... | ... | ... |\n",
       "| 640          |    NA        |  NA          | 1            | NA           | NA           | NA           | NA           | NA           | NA           | ...          | 1            |  NA          |  NA          | 1            | NA           |  1           | 0            | 0            | NA           | face_to_face |\n",
       "| 641          | 0.743        |   7          | 1            |  0           |  0           |  0           |  0           |  0           |  1           | ...          | 1            | 660          | 560          | 1            | NA           |  1           | 0            | 0            | NA           | face_to_face |\n",
       "| 642          | 3.514        |  14          | 1            | NA           | NA           | NA           | NA           | NA           | NA           | ...          | 1            |  NA          |  NA          | 1            | NA           |  1           | 0            | 0            | NA           | face_to_face |\n",
       "| 643          | 3.927        |  40          | 0            |  1           |  0           |  0           |  0           |  0           |  0           | ...          | 1            | 660          | 540          | 1            | NA           |  1           | 0            | 0            | NA           | face_to_face |\n",
       "| 644          | 3.240        |  30          | 0            |  0           |  0           |  0           |  0           |  0           |  1           | ...          | 1            | 590          | 635          | 1            | NA           |  1           | 0            | 0            | NA           | face_to_face |\n",
       "| 645          | 2.969        |  36          | 1            | NA           | NA           | NA           | NA           | NA           | NA           | ...          | 1            | 690          | 640          | 1            | NA           |  1           | 0            | 0            | NA           | face_to_face |\n",
       "| 646          | 2.222        |  36          | 1            |  0           |  1           |  0           |  0           |  0           |  0           | ...          | 1            | 460          | 470          | 1            | NA           |  1           | 0            | 0            | NA           | face_to_face |\n",
       "| 647          | 2.906        |  16          | 0            |  0           |  1           |  0           |  0           |  0           |  0           | ...          | 0            | 480          | 420          | 1            |  1           | NA           | 0            | 0            | NA           | online       |\n",
       "| 648          | 3.700        |  49          | 1            |  0           |  1           |  0           |  0           |  0           |  0           | ...          | 0            | 610          | 600          | 1            |  1           | NA           | 0            | 0            | NA           | online       |\n",
       "| 649          | 2.331        |  81          | 0            |  0           |  0           |  0           |  0           |  0           |  1           | ...          | 1            | 610          | 580          | 1            | NA           |  1           | 0            | 0            | NA           | face_to_face |\n",
       "| 650          | 2.945        |  50          | 1            |  0           |  0           |  0           |  0           |  0           |  1           | ...          | 0            | 600          | 710          | 1            |  1           | NA           | 0            | 0            | NA           | online       |\n",
       "| 651          | 3.647        |  22          | 1            |  0           |  0           |  0           |  0           |  0           |  1           | ...          | 0            | 610          | 760          | 1            |  1           | NA           | 0            | 0            | NA           | online       |\n",
       "| 652          | 3.479        |  23          | 0            |  1           |  0           |  0           |  0           |  0           |  0           | ...          | 0            | 650          | 700          | 1            |  0           |  0           | 1            | 0            | NA           | face_to_face |\n",
       "| 653          | 3.545        |  29          | 0            |  0           |  0           |  0           |  0           |  0           |  1           | ...          | 0            | 650          | 600          | 1            |  1           | NA           | 0            | 0            | NA           | online       |\n",
       "| 654          |    NA        |  NA          | 1            | NA           | NA           | NA           | NA           | NA           | NA           | ...          | 1            |  NA          |  NA          | 1            | NA           |  1           | 0            | 0            | NA           | face_to_face |\n",
       "| 655          | 3.959        |  43          | 0            | NA           | NA           | NA           | NA           | NA           | NA           | ...          | 1            | 720          | 640          | 1            | NA           |  1           | 0            | 0            | NA           | face_to_face |\n",
       "| 656          |    NA        |  NA          | 1            | NA           | NA           | NA           | NA           | NA           | NA           | ...          | 1            |  NA          |  NA          | 1            | NA           |  1           | 0            | 0            | NA           | face_to_face |\n",
       "| 657          |    NA        |  41          | 1            | NA           | NA           | NA           | NA           | NA           | NA           | ...          | 0            | 600          | 590          | 1            |  1           | NA           | 0            | 0            | NA           | online       |\n",
       "| 658          | 2.860        |  29          | 0            |  1           |  0           |  0           |  0           |  0           |  0           | ...          | 1            | 790          | 360          | 1            | NA           |  1           | 0            | 0            | NA           | face_to_face |\n",
       "| 659          | 3.095        | 111          | 1            |  0           |  1           |  0           |  0           |  0           |  0           | ...          | 0            | 420          | 440          | 1            |  1           | NA           | 0            | 0            | NA           | online       |\n",
       "| 660          | 3.333        |  15          | 0            |  0           |  1           |  0           |  0           |  0           |  0           | ...          | 0            | 540          | 480          | 1            |  0           |  0           | 1            | 0            | NA           | face_to_face |\n",
       "| 661          | 2.963        |  24          | 0            |  0           |  1           |  0           |  0           |  0           |  0           | ...          | 1            | 560          | 630          | 1            | NA           |  1           | 0            | 0            | NA           | face_to_face |\n",
       "| 662          | 2.778        |  25          | 1            |  0           |  0           |  0           |  0           |  0           |  1           | ...          | 1            |  NA          |  NA          | 1            | NA           |  1           | 0            | 0            | NA           | face_to_face |\n",
       "| 663          | 3.580        |  59          | 0            | NA           | NA           | NA           | NA           | NA           | NA           | ...          | 1            | 560          | 560          | 1            | NA           |  1           | 0            | 0            | NA           | face_to_face |\n",
       "| 664          |    NA        |  NA          | 1            | NA           | NA           | NA           | NA           | NA           | NA           | ...          | 0            |  NA          |  NA          | 1            |  0           |  0           | 1            | 0            | NA           | face_to_face |\n",
       "| 665          | 3.557        |  75          | 0            |  0           |  0           |  0           |  0           |  0           |  1           | ...          | 1            | 530          | 540          | 1            | NA           |  1           | 0            | 0            | NA           | face_to_face |\n",
       "| 666          | 3.013        |  34          | 0            |  1           |  0           |  0           |  0           |  0           |  0           | ...          | 1            | 540          | 510          | 1            | NA           |  1           | 0            | 0            | NA           | face_to_face |\n",
       "| 667          | 3.548        |  42          | 0            |  0           |  1           |  0           |  0           |  0           |  0           | ...          | 0            | 570          | 610          | 1            |  0           |  0           | 1            | 0            | NA           | face_to_face |\n",
       "| 668          | 2.895        |  44          | 0            |  1           |  0           |  0           |  0           |  0           |  0           | ...          | 1            |  NA          |  NA          | 1            | NA           |  1           | 0            | 0            | NA           | face_to_face |\n",
       "| 669          | 3.790        |  45          | 0            | NA           | NA           | NA           | NA           | NA           | NA           | ...          | 1            | 620          | 800          | 1            | NA           |  1           | 0            | 0            | NA           | face_to_face |\n",
       "\n"
      ],
      "text/plain": [
       "    X   gpa   cum_total_crds gender asian black hawaiian hispanic unknown white\n",
       "1    0  2.014 63             1       0     0     0        0        0       1   \n",
       "2    1  3.720 33             1       0     0     0        0        0       1   \n",
       "3    2     NA  4             0       0     0     0        0        0       1   \n",
       "4    3     NA 10             1      NA    NA    NA       NA       NA      NA   \n",
       "5    4     NA  0             0       0     1     0        0        0       0   \n",
       "6    5     NA 14             1       0     0     0        0        0       1   \n",
       "7    6     NA 19             1       0     0     0        0        0       1   \n",
       "8    7     NA  0             0       1     0     0        0        0       0   \n",
       "9    8  3.143 51             1       0     0     0        1        0       0   \n",
       "10   9     NA  0             1       0     0     0        0        0       1   \n",
       "11  10  3.070 30             0      NA    NA    NA       NA       NA      NA   \n",
       "12  11     NA  4             0       0     0     0        0        0       1   \n",
       "13  12  3.644 63             1       0     0     0        0        0       1   \n",
       "14  13  2.687 31             0       0     0     0        0        0       1   \n",
       "15  14     NA  0             1       1     0     0        0        0       0   \n",
       "16  15  2.939 36             1      NA    NA    NA       NA       NA      NA   \n",
       "17  16  3.679 42             0       0     0     0        0        0       1   \n",
       "18  17  3.894 53             0      NA    NA    NA       NA       NA      NA   \n",
       "19  18     NA 96             1       0     0     0        0        0       1   \n",
       "20  19  3.623 40             1       0     0     0        0        0       1   \n",
       "21  20  2.263 28             0       0     1     0        0        0       0   \n",
       "22  21     NA 31             1       0     0     0        0        0       1   \n",
       "23  22  2.814 35             1       0     0     0        0        0       1   \n",
       "24  23  2.486 34             1       0     0     0        0        0       1   \n",
       "25  24     NA 32             1       0     0     0        0        0       1   \n",
       "26  25  3.480 30             0       0     0     0        0        0       1   \n",
       "27  26     NA 15             1      NA    NA    NA       NA       NA      NA   \n",
       "28  27     NA  4             0       0     0     0        0        0       1   \n",
       "29  28     NA 40             0       0     0     0        0        0       1   \n",
       "30  29  2.260 54             1       0     1     0        0        0       0   \n",
       "... ... ...   ...            ...    ...   ...   ...      ...      ...     ...  \n",
       "641 640    NA  NA            1      NA    NA    NA       NA       NA      NA   \n",
       "642 641 0.743   7            1       0     0     0        0        0       1   \n",
       "643 642 3.514  14            1      NA    NA    NA       NA       NA      NA   \n",
       "644 643 3.927  40            0       1     0     0        0        0       0   \n",
       "645 644 3.240  30            0       0     0     0        0        0       1   \n",
       "646 645 2.969  36            1      NA    NA    NA       NA       NA      NA   \n",
       "647 646 2.222  36            1       0     1     0        0        0       0   \n",
       "648 647 2.906  16            0       0     1     0        0        0       0   \n",
       "649 648 3.700  49            1       0     1     0        0        0       0   \n",
       "650 649 2.331  81            0       0     0     0        0        0       1   \n",
       "651 650 2.945  50            1       0     0     0        0        0       1   \n",
       "652 651 3.647  22            1       0     0     0        0        0       1   \n",
       "653 652 3.479  23            0       1     0     0        0        0       0   \n",
       "654 653 3.545  29            0       0     0     0        0        0       1   \n",
       "655 654    NA  NA            1      NA    NA    NA       NA       NA      NA   \n",
       "656 655 3.959  43            0      NA    NA    NA       NA       NA      NA   \n",
       "657 656    NA  NA            1      NA    NA    NA       NA       NA      NA   \n",
       "658 657    NA  41            1      NA    NA    NA       NA       NA      NA   \n",
       "659 658 2.860  29            0       1     0     0        0        0       0   \n",
       "660 659 3.095 111            1       0     1     0        0        0       0   \n",
       "661 660 3.333  15            0       0     1     0        0        0       0   \n",
       "662 661 2.963  24            0       0     1     0        0        0       0   \n",
       "663 662 2.778  25            1       0     0     0        0        0       1   \n",
       "664 663 3.580  59            0      NA    NA    NA       NA       NA      NA   \n",
       "665 664    NA  NA            1      NA    NA    NA       NA       NA      NA   \n",
       "666 665 3.557  75            0       0     0     0        0        0       1   \n",
       "667 666 3.013  34            0       1     0     0        0        0       0   \n",
       "668 667 3.548  42            0       0     1     0        0        0       0   \n",
       "669 668 2.895  44            0       1     0     0        0        0       0   \n",
       "670 669 3.790  45            0      NA    NA    NA       NA       NA      NA   \n",
       "    ... format_blended sat_math_NEW sat_verbal_NEW enroll_count format_f2f_v_ol\n",
       "1   ... 0              540          540            NA           0              \n",
       "2   ... 0              590          630            NA           0              \n",
       "3   ... 0              650          570            NA           0              \n",
       "4   ... 0              690          690            NA           0              \n",
       "5   ... 0              480          420            NA           0              \n",
       "6   ... 0              670          640            NA           0              \n",
       "7   ... 0              740          620            NA           0              \n",
       "8   ... 0              710          440            NA           0              \n",
       "9   ... 0              510          620            NA           0              \n",
       "10  ... 0              630          570            NA           0              \n",
       "11  ... 0              660          720            NA           0              \n",
       "12  ... 0              660          550            NA           0              \n",
       "13  ... 0              760          630            NA           0              \n",
       "14  ... 0              570          540            NA           0              \n",
       "15  ... 0              720          460            NA           0              \n",
       "16  ... 0              610          500            NA           0              \n",
       "17  ... 0              650          650            NA           0              \n",
       "18  ... 0              750          660            NA           0              \n",
       "19  ... 0              520          570            NA           0              \n",
       "20  ... 0              770          800            NA           0              \n",
       "21  ... 0              570          560            NA           0              \n",
       "22  ... 0              590          590            NA           0              \n",
       "23  ... 0              600          710            NA           0              \n",
       "24  ... 0              640          620            NA           0              \n",
       "25  ... 0               NA           NA            NA           0              \n",
       "26  ... 0              640          580            NA           0              \n",
       "27  ... 0              690          570            NA           0              \n",
       "28  ... 0              650          570            NA           0              \n",
       "29  ... 0              510          600            NA           0              \n",
       "30  ... 0              620          610            NA           0              \n",
       "...     ...            ...          ...            ...          ...            \n",
       "641 ... 1               NA           NA            1            NA             \n",
       "642 ... 1              660          560            1            NA             \n",
       "643 ... 1               NA           NA            1            NA             \n",
       "644 ... 1              660          540            1            NA             \n",
       "645 ... 1              590          635            1            NA             \n",
       "646 ... 1              690          640            1            NA             \n",
       "647 ... 1              460          470            1            NA             \n",
       "648 ... 0              480          420            1             1             \n",
       "649 ... 0              610          600            1             1             \n",
       "650 ... 1              610          580            1            NA             \n",
       "651 ... 0              600          710            1             1             \n",
       "652 ... 0              610          760            1             1             \n",
       "653 ... 0              650          700            1             0             \n",
       "654 ... 0              650          600            1             1             \n",
       "655 ... 1               NA           NA            1            NA             \n",
       "656 ... 1              720          640            1            NA             \n",
       "657 ... 1               NA           NA            1            NA             \n",
       "658 ... 0              600          590            1             1             \n",
       "659 ... 1              790          360            1            NA             \n",
       "660 ... 0              420          440            1             1             \n",
       "661 ... 0              540          480            1             0             \n",
       "662 ... 1              560          630            1            NA             \n",
       "663 ... 1               NA           NA            1            NA             \n",
       "664 ... 1              560          560            1            NA             \n",
       "665 ... 0               NA           NA            1             0             \n",
       "666 ... 1              530          540            1            NA             \n",
       "667 ... 1              540          510            1            NA             \n",
       "668 ... 0              570          610            1             0             \n",
       "669 ... 1               NA           NA            1            NA             \n",
       "670 ... 1              620          800            1            NA             \n",
       "    format_f2f_v_blended format_combined_v_f2f falsexam experiment1\n",
       "1   0                    1                     0        0          \n",
       "2   0                    1                     0        0          \n",
       "3   0                    1                     0        0          \n",
       "4   0                    1                     0        0          \n",
       "5   0                    1                     0        0          \n",
       "6   0                    1                     0        0          \n",
       "7   0                    1                     0        0          \n",
       "8   0                    1                     0        0          \n",
       "9   0                    1                     0        0          \n",
       "10  0                    1                     0        0          \n",
       "11  0                    1                     0        0          \n",
       "12  0                    1                     0        0          \n",
       "13  0                    1                     0        0          \n",
       "14  0                    1                     0        0          \n",
       "15  0                    1                     0        0          \n",
       "16  0                    1                     0        0          \n",
       "17  0                    1                     0        0          \n",
       "18  0                    1                     0        0          \n",
       "19  0                    1                     0        0          \n",
       "20  0                    1                     0        0          \n",
       "21  0                    1                     0        0          \n",
       "22  0                    1                     0        0          \n",
       "23  0                    1                     0        0          \n",
       "24  0                    1                     0        0          \n",
       "25  0                    1                     0        0          \n",
       "26  0                    1                     0        0          \n",
       "27  0                    1                     0        0          \n",
       "28  0                    1                     0        0          \n",
       "29  0                    1                     0        0          \n",
       "30  0                    1                     0        0          \n",
       "... ...                  ...                   ...      ...        \n",
       "641  1                   0                     0        NA         \n",
       "642  1                   0                     0        NA         \n",
       "643  1                   0                     0        NA         \n",
       "644  1                   0                     0        NA         \n",
       "645  1                   0                     0        NA         \n",
       "646  1                   0                     0        NA         \n",
       "647  1                   0                     0        NA         \n",
       "648 NA                   0                     0        NA         \n",
       "649 NA                   0                     0        NA         \n",
       "650  1                   0                     0        NA         \n",
       "651 NA                   0                     0        NA         \n",
       "652 NA                   0                     0        NA         \n",
       "653  0                   1                     0        NA         \n",
       "654 NA                   0                     0        NA         \n",
       "655  1                   0                     0        NA         \n",
       "656  1                   0                     0        NA         \n",
       "657  1                   0                     0        NA         \n",
       "658 NA                   0                     0        NA         \n",
       "659  1                   0                     0        NA         \n",
       "660 NA                   0                     0        NA         \n",
       "661  0                   1                     0        NA         \n",
       "662  1                   0                     0        NA         \n",
       "663  1                   0                     0        NA         \n",
       "664  1                   0                     0        NA         \n",
       "665  0                   1                     0        NA         \n",
       "666  1                   0                     0        NA         \n",
       "667  1                   0                     0        NA         \n",
       "668  0                   1                     0        NA         \n",
       "669  1                   0                     0        NA         \n",
       "670  1                   0                     0        NA         \n",
       "    tipo        \n",
       "1   face_to_face\n",
       "2   face_to_face\n",
       "3   face_to_face\n",
       "4   face_to_face\n",
       "5   face_to_face\n",
       "6   face_to_face\n",
       "7   face_to_face\n",
       "8   face_to_face\n",
       "9   face_to_face\n",
       "10  face_to_face\n",
       "11  face_to_face\n",
       "12  face_to_face\n",
       "13  face_to_face\n",
       "14  face_to_face\n",
       "15  face_to_face\n",
       "16  face_to_face\n",
       "17  face_to_face\n",
       "18  face_to_face\n",
       "19  face_to_face\n",
       "20  face_to_face\n",
       "21  face_to_face\n",
       "22  face_to_face\n",
       "23  face_to_face\n",
       "24  face_to_face\n",
       "25  face_to_face\n",
       "26  face_to_face\n",
       "27  face_to_face\n",
       "28  face_to_face\n",
       "29  face_to_face\n",
       "30  face_to_face\n",
       "... ...         \n",
       "641 face_to_face\n",
       "642 face_to_face\n",
       "643 face_to_face\n",
       "644 face_to_face\n",
       "645 face_to_face\n",
       "646 face_to_face\n",
       "647 face_to_face\n",
       "648 online      \n",
       "649 online      \n",
       "650 face_to_face\n",
       "651 online      \n",
       "652 online      \n",
       "653 face_to_face\n",
       "654 online      \n",
       "655 face_to_face\n",
       "656 face_to_face\n",
       "657 face_to_face\n",
       "658 online      \n",
       "659 face_to_face\n",
       "660 online      \n",
       "661 face_to_face\n",
       "662 face_to_face\n",
       "663 face_to_face\n",
       "664 face_to_face\n",
       "665 face_to_face\n",
       "666 face_to_face\n",
       "667 face_to_face\n",
       "668 face_to_face\n",
       "669 face_to_face\n",
       "670 face_to_face"
      ]
     },
     "metadata": {},
     "output_type": "display_data"
    }
   ],
   "source": [
    "data"
   ]
  },
  {
   "cell_type": "code",
   "execution_count": null,
   "metadata": {},
   "outputs": [],
   "source": []
  }
 ],
 "metadata": {
  "kernelspec": {
   "display_name": "R",
   "language": "R",
   "name": "ir"
  },
  "language_info": {
   "codemirror_mode": "r",
   "file_extension": ".r",
   "mimetype": "text/x-r-source",
   "name": "R",
   "pygments_lexer": "r",
   "version": "3.6.1"
  }
 },
 "nbformat": 4,
 "nbformat_minor": 4
}
