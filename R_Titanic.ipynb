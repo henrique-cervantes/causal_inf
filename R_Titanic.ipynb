{
 "cells": [
  {
   "cell_type": "markdown",
   "id": "2b5235de-1175-47a0-88ff-f44a7db8abee",
   "metadata": {},
   "source": [
    "# INFERÊNCIA CAUSAL - SEMANA 5\n",
    "\n",
    "## ANÁLISE DA BASE DE DADOS DO TITANIC"
   ]
  },
  {
   "cell_type": "markdown",
   "id": "f31e6a7c-c867-4b50-b70e-2fe7ea3fd4f6",
   "metadata": {},
   "source": [
    "<img src=\"titanic (1).JPG\">"
   ]
  },
  {
   "cell_type": "markdown",
   "id": "bc3213a6-5a6d-4f82-9cee-ab6d3fcd1711",
   "metadata": {},
   "source": [
    "### OBJETIVOS:\n",
    "- Compreender e visualizar a base de dados do Titanic usando o R (desculpa kk);\n",
    "- Identificar relações causais à luz dos princípios abordados nos últimos encontros do grupo;\n",
    "- Compartilhar insights e diferentes formas para resolver os problemas encontrados"
   ]
  },
  {
   "cell_type": "markdown",
   "id": "db77a7ce-c23a-4b87-8a33-87fda83947ec",
   "metadata": {},
   "source": [
    "#### Inferência causal != Machine Learning\n",
    "- Se no desafio original (ML) o objetivo é construir modelos para prever as chances de sobrevivência de um indivíduo, nosso objetivo será o de compreender como as diferentes variáveis estão relacionadas!\n",
    "\n",
    "<img src=\"Sobrevivência.png\" style=\"width: 400px;\"/>"
   ]
  },
  {
   "cell_type": "markdown",
   "id": "c0f69892-525b-4261-b906-d2438cd728e5",
   "metadata": {},
   "source": [
    "### Importação dos pacotes "
   ]
  },
  {
   "cell_type": "code",
   "execution_count": 4,
   "id": "8f680b46-09a6-4243-a943-3077a4599824",
   "metadata": {},
   "outputs": [
    {
     "name": "stderr",
     "output_type": "stream",
     "text": [
      "Warning message:\n",
      "\"package 'tidyr' was built under R version 3.6.3\""
     ]
    },
    {
     "ename": "ERROR",
     "evalue": "Error: package or namespace load failed for 'tidyr' in loadNamespace(i, c(lib.loc, .libPaths()), versionCheck = vI[[i]]):\n namespace 'rlang' 0.3.4 is already loaded, but >= 0.4.10 is required\n",
     "output_type": "error",
     "traceback": [
      "Error: package or namespace load failed for 'tidyr' in loadNamespace(i, c(lib.loc, .libPaths()), versionCheck = vI[[i]]):\n namespace 'rlang' 0.3.4 is already loaded, but >= 0.4.10 is required\nTraceback:\n",
      "1. library(tidyr)",
      "2. tryCatch({\n .     attr(package, \"LibPath\") <- which.lib.loc\n .     ns <- loadNamespace(package, lib.loc)\n .     env <- attachNamespace(ns, pos = pos, deps, exclude, include.only)\n . }, error = function(e) {\n .     P <- if (!is.null(cc <- conditionCall(e))) \n .         paste(\" in\", deparse(cc)[1L])\n .     else \"\"\n .     msg <- gettextf(\"package or namespace load failed for %s%s:\\n %s\", \n .         sQuote(package), P, conditionMessage(e))\n .     if (logical.return) \n .         message(paste(\"Error:\", msg), domain = NA)\n .     else stop(msg, call. = FALSE, domain = NA)\n . })",
      "3. tryCatchList(expr, classes, parentenv, handlers)",
      "4. tryCatchOne(expr, names, parentenv, handlers[[1L]])",
      "5. value[[3L]](cond)",
      "6. stop(msg, call. = FALSE, domain = NA)"
     ]
    }
   ],
   "source": [
    "# ggplot2 -> Visualização de dados\n",
    "library(ggplot2)\n",
    "\n",
    "# dplyr -> Tratamento de dados\n",
    "library(dplyr)\n",
    "\n",
    "# tidyr -> Limpeza/tratamento de dados\n",
    "library(tidyr)"
   ]
  },
  {
   "cell_type": "markdown",
   "id": "bd1d9615-7324-4df9-82fb-593091f1ac60",
   "metadata": {},
   "source": [
    "#### Pacote infer"
   ]
  },
  {
   "cell_type": "code",
   "execution_count": 6,
   "id": "57ea7d9b-42bd-4353-a764-0d59ff51be4a",
   "metadata": {},
   "outputs": [
    {
     "name": "stderr",
     "output_type": "stream",
     "text": [
      "Warning message:\n",
      "\"package 'infer' was built under R version 3.6.3\""
     ]
    }
   ],
   "source": [
    "# O brabo\n",
    "library(infer)"
   ]
  },
  {
   "cell_type": "markdown",
   "id": "d0533233-a358-43de-8222-5c1e36138091",
   "metadata": {},
   "source": [
    "### Importação do dataset"
   ]
  },
  {
   "cell_type": "code",
   "execution_count": 7,
   "id": "8ff712df-3ea7-42ee-b4d5-038119116fb0",
   "metadata": {},
   "outputs": [],
   "source": [
    "data <- read.csv('G:/FEA.dev/R/causal_inference/train.csv')"
   ]
  },
  {
   "cell_type": "markdown",
   "id": "f52481e2-6197-41d3-bb1f-830b35576273",
   "metadata": {},
   "source": [
    "### Descrição do Dataset"
   ]
  },
  {
   "cell_type": "code",
   "execution_count": 8,
   "id": "d2a59783-ac24-4fc7-8972-cab2c4b83eab",
   "metadata": {},
   "outputs": [
    {
     "data": {
      "text/html": [
       "<table>\n",
       "<thead><tr><th scope=col>PassengerId</th><th scope=col>Survived</th><th scope=col>Pclass</th><th scope=col>Name</th><th scope=col>Sex</th><th scope=col>Age</th><th scope=col>SibSp</th><th scope=col>Parch</th><th scope=col>Ticket</th><th scope=col>Fare</th><th scope=col>Cabin</th><th scope=col>Embarked</th></tr></thead>\n",
       "<tbody>\n",
       "\t<tr><td> 1                                                 </td><td>0                                                  </td><td>3                                                  </td><td>Braund, Mr. Owen Harris                            </td><td>male                                               </td><td>22                                                 </td><td>1                                                  </td><td>0                                                  </td><td>A/5 21171                                          </td><td> 7.2500                                            </td><td>                                                   </td><td>S                                                  </td></tr>\n",
       "\t<tr><td> 2                                                 </td><td>1                                                  </td><td>1                                                  </td><td>Cumings, Mrs. John Bradley (Florence Briggs Thayer)</td><td>female                                             </td><td>38                                                 </td><td>1                                                  </td><td>0                                                  </td><td>PC 17599                                           </td><td>71.2833                                            </td><td>C85                                                </td><td>C                                                  </td></tr>\n",
       "\t<tr><td> 3                                                 </td><td>1                                                  </td><td>3                                                  </td><td>Heikkinen, Miss. Laina                             </td><td>female                                             </td><td>26                                                 </td><td>0                                                  </td><td>0                                                  </td><td>STON/O2. 3101282                                   </td><td> 7.9250                                            </td><td>                                                   </td><td>S                                                  </td></tr>\n",
       "\t<tr><td> 4                                                 </td><td>1                                                  </td><td>1                                                  </td><td>Futrelle, Mrs. Jacques Heath (Lily May Peel)       </td><td>female                                             </td><td>35                                                 </td><td>1                                                  </td><td>0                                                  </td><td>113803                                             </td><td>53.1000                                            </td><td>C123                                               </td><td>S                                                  </td></tr>\n",
       "\t<tr><td> 5                                                 </td><td>0                                                  </td><td>3                                                  </td><td>Allen, Mr. William Henry                           </td><td>male                                               </td><td>35                                                 </td><td>0                                                  </td><td>0                                                  </td><td>373450                                             </td><td> 8.0500                                            </td><td>                                                   </td><td>S                                                  </td></tr>\n",
       "\t<tr><td> 6                                                 </td><td>0                                                  </td><td>3                                                  </td><td>Moran, Mr. James                                   </td><td>male                                               </td><td>NA                                                 </td><td>0                                                  </td><td>0                                                  </td><td>330877                                             </td><td> 8.4583                                            </td><td>                                                   </td><td>Q                                                  </td></tr>\n",
       "\t<tr><td> 7                                                 </td><td>0                                                  </td><td>1                                                  </td><td>McCarthy, Mr. Timothy J                            </td><td>male                                               </td><td>54                                                 </td><td>0                                                  </td><td>0                                                  </td><td>17463                                              </td><td>51.8625                                            </td><td>E46                                                </td><td>S                                                  </td></tr>\n",
       "\t<tr><td> 8                                                 </td><td>0                                                  </td><td>3                                                  </td><td>Palsson, Master. Gosta Leonard                     </td><td>male                                               </td><td> 2                                                 </td><td>3                                                  </td><td>1                                                  </td><td>349909                                             </td><td>21.0750                                            </td><td>                                                   </td><td>S                                                  </td></tr>\n",
       "\t<tr><td> 9                                                 </td><td>1                                                  </td><td>3                                                  </td><td>Johnson, Mrs. Oscar W (Elisabeth Vilhelmina Berg)  </td><td>female                                             </td><td>27                                                 </td><td>0                                                  </td><td>2                                                  </td><td>347742                                             </td><td>11.1333                                            </td><td>                                                   </td><td>S                                                  </td></tr>\n",
       "\t<tr><td>10                                                 </td><td>1                                                  </td><td>2                                                  </td><td>Nasser, Mrs. Nicholas (Adele Achem)                </td><td>female                                             </td><td>14                                                 </td><td>1                                                  </td><td>0                                                  </td><td>237736                                             </td><td>30.0708                                            </td><td>                                                   </td><td>C                                                  </td></tr>\n",
       "</tbody>\n",
       "</table>\n"
      ],
      "text/latex": [
       "\\begin{tabular}{r|llllllllllll}\n",
       " PassengerId & Survived & Pclass & Name & Sex & Age & SibSp & Parch & Ticket & Fare & Cabin & Embarked\\\\\n",
       "\\hline\n",
       "\t  1                                                  & 0                                                   & 3                                                   & Braund, Mr. Owen Harris                             & male                                                & 22                                                  & 1                                                   & 0                                                   & A/5 21171                                           &  7.2500                                             &                                                     & S                                                  \\\\\n",
       "\t  2                                                  & 1                                                   & 1                                                   & Cumings, Mrs. John Bradley (Florence Briggs Thayer) & female                                              & 38                                                  & 1                                                   & 0                                                   & PC 17599                                            & 71.2833                                             & C85                                                 & C                                                  \\\\\n",
       "\t  3                                                  & 1                                                   & 3                                                   & Heikkinen, Miss. Laina                              & female                                              & 26                                                  & 0                                                   & 0                                                   & STON/O2. 3101282                                    &  7.9250                                             &                                                     & S                                                  \\\\\n",
       "\t  4                                                  & 1                                                   & 1                                                   & Futrelle, Mrs. Jacques Heath (Lily May Peel)        & female                                              & 35                                                  & 1                                                   & 0                                                   & 113803                                              & 53.1000                                             & C123                                                & S                                                  \\\\\n",
       "\t  5                                                  & 0                                                   & 3                                                   & Allen, Mr. William Henry                            & male                                                & 35                                                  & 0                                                   & 0                                                   & 373450                                              &  8.0500                                             &                                                     & S                                                  \\\\\n",
       "\t  6                                                  & 0                                                   & 3                                                   & Moran, Mr. James                                    & male                                                & NA                                                  & 0                                                   & 0                                                   & 330877                                              &  8.4583                                             &                                                     & Q                                                  \\\\\n",
       "\t  7                                                  & 0                                                   & 1                                                   & McCarthy, Mr. Timothy J                             & male                                                & 54                                                  & 0                                                   & 0                                                   & 17463                                               & 51.8625                                             & E46                                                 & S                                                  \\\\\n",
       "\t  8                                                  & 0                                                   & 3                                                   & Palsson, Master. Gosta Leonard                      & male                                                &  2                                                  & 3                                                   & 1                                                   & 349909                                              & 21.0750                                             &                                                     & S                                                  \\\\\n",
       "\t  9                                                  & 1                                                   & 3                                                   & Johnson, Mrs. Oscar W (Elisabeth Vilhelmina Berg)   & female                                              & 27                                                  & 0                                                   & 2                                                   & 347742                                              & 11.1333                                             &                                                     & S                                                  \\\\\n",
       "\t 10                                                  & 1                                                   & 2                                                   & Nasser, Mrs. Nicholas (Adele Achem)                 & female                                              & 14                                                  & 1                                                   & 0                                                   & 237736                                              & 30.0708                                             &                                                     & C                                                  \\\\\n",
       "\\end{tabular}\n"
      ],
      "text/markdown": [
       "\n",
       "| PassengerId | Survived | Pclass | Name | Sex | Age | SibSp | Parch | Ticket | Fare | Cabin | Embarked |\n",
       "|---|---|---|---|---|---|---|---|---|---|---|---|\n",
       "|  1                                                  | 0                                                   | 3                                                   | Braund, Mr. Owen Harris                             | male                                                | 22                                                  | 1                                                   | 0                                                   | A/5 21171                                           |  7.2500                                             |                                                     | S                                                   |\n",
       "|  2                                                  | 1                                                   | 1                                                   | Cumings, Mrs. John Bradley (Florence Briggs Thayer) | female                                              | 38                                                  | 1                                                   | 0                                                   | PC 17599                                            | 71.2833                                             | C85                                                 | C                                                   |\n",
       "|  3                                                  | 1                                                   | 3                                                   | Heikkinen, Miss. Laina                              | female                                              | 26                                                  | 0                                                   | 0                                                   | STON/O2. 3101282                                    |  7.9250                                             |                                                     | S                                                   |\n",
       "|  4                                                  | 1                                                   | 1                                                   | Futrelle, Mrs. Jacques Heath (Lily May Peel)        | female                                              | 35                                                  | 1                                                   | 0                                                   | 113803                                              | 53.1000                                             | C123                                                | S                                                   |\n",
       "|  5                                                  | 0                                                   | 3                                                   | Allen, Mr. William Henry                            | male                                                | 35                                                  | 0                                                   | 0                                                   | 373450                                              |  8.0500                                             |                                                     | S                                                   |\n",
       "|  6                                                  | 0                                                   | 3                                                   | Moran, Mr. James                                    | male                                                | NA                                                  | 0                                                   | 0                                                   | 330877                                              |  8.4583                                             |                                                     | Q                                                   |\n",
       "|  7                                                  | 0                                                   | 1                                                   | McCarthy, Mr. Timothy J                             | male                                                | 54                                                  | 0                                                   | 0                                                   | 17463                                               | 51.8625                                             | E46                                                 | S                                                   |\n",
       "|  8                                                  | 0                                                   | 3                                                   | Palsson, Master. Gosta Leonard                      | male                                                |  2                                                  | 3                                                   | 1                                                   | 349909                                              | 21.0750                                             |                                                     | S                                                   |\n",
       "|  9                                                  | 1                                                   | 3                                                   | Johnson, Mrs. Oscar W (Elisabeth Vilhelmina Berg)   | female                                              | 27                                                  | 0                                                   | 2                                                   | 347742                                              | 11.1333                                             |                                                     | S                                                   |\n",
       "| 10                                                  | 1                                                   | 2                                                   | Nasser, Mrs. Nicholas (Adele Achem)                 | female                                              | 14                                                  | 1                                                   | 0                                                   | 237736                                              | 30.0708                                             |                                                     | C                                                   |\n",
       "\n"
      ],
      "text/plain": [
       "   PassengerId Survived Pclass\n",
       "1   1          0        3     \n",
       "2   2          1        1     \n",
       "3   3          1        3     \n",
       "4   4          1        1     \n",
       "5   5          0        3     \n",
       "6   6          0        3     \n",
       "7   7          0        1     \n",
       "8   8          0        3     \n",
       "9   9          1        3     \n",
       "10 10          1        2     \n",
       "   Name                                                Sex    Age SibSp Parch\n",
       "1  Braund, Mr. Owen Harris                             male   22  1     0    \n",
       "2  Cumings, Mrs. John Bradley (Florence Briggs Thayer) female 38  1     0    \n",
       "3  Heikkinen, Miss. Laina                              female 26  0     0    \n",
       "4  Futrelle, Mrs. Jacques Heath (Lily May Peel)        female 35  1     0    \n",
       "5  Allen, Mr. William Henry                            male   35  0     0    \n",
       "6  Moran, Mr. James                                    male   NA  0     0    \n",
       "7  McCarthy, Mr. Timothy J                             male   54  0     0    \n",
       "8  Palsson, Master. Gosta Leonard                      male    2  3     1    \n",
       "9  Johnson, Mrs. Oscar W (Elisabeth Vilhelmina Berg)   female 27  0     2    \n",
       "10 Nasser, Mrs. Nicholas (Adele Achem)                 female 14  1     0    \n",
       "   Ticket           Fare    Cabin Embarked\n",
       "1  A/5 21171         7.2500       S       \n",
       "2  PC 17599         71.2833 C85   C       \n",
       "3  STON/O2. 3101282  7.9250       S       \n",
       "4  113803           53.1000 C123  S       \n",
       "5  373450            8.0500       S       \n",
       "6  330877            8.4583       Q       \n",
       "7  17463            51.8625 E46   S       \n",
       "8  349909           21.0750       S       \n",
       "9  347742           11.1333       S       \n",
       "10 237736           30.0708       C       "
      ]
     },
     "metadata": {},
     "output_type": "display_data"
    }
   ],
   "source": [
    "head(data, 10)"
   ]
  },
  {
   "cell_type": "markdown",
   "id": "4a1e754f-ba56-45af-a1f6-4013ba5875ad",
   "metadata": {},
   "source": [
    "#### Descrição das variáveis\n",
    "- PassengerID : ID of the Passenger.\n",
    "- Survived : No (0) Yes (1).\n",
    "- Pclass : Passenger’s class.\n",
    "- Name : Name of the Passenger.\n",
    "- Sex : Gender of the Passenger.\n",
    "- SibSp : Number of Siblings / Spouses aboard.\n",
    "- Parch : Number of Parents / Children aboard.\n",
    "- Ticket : Ticket number.\n",
    "- Fare : Fare of the Ticket.\n",
    "- Cabin : Cabin number.\n",
    "- Embarked : Port of embarkation."
   ]
  },
  {
   "cell_type": "code",
   "execution_count": 9,
   "id": "c6e547ec-4179-4b72-8f39-7e9aa3a45e65",
   "metadata": {},
   "outputs": [
    {
     "data": {
      "text/plain": [
       "  PassengerId       Survived          Pclass     \n",
       " Min.   :  1.0   Min.   :0.0000   Min.   :1.000  \n",
       " 1st Qu.:223.5   1st Qu.:0.0000   1st Qu.:2.000  \n",
       " Median :446.0   Median :0.0000   Median :3.000  \n",
       " Mean   :446.0   Mean   :0.3838   Mean   :2.309  \n",
       " 3rd Qu.:668.5   3rd Qu.:1.0000   3rd Qu.:3.000  \n",
       " Max.   :891.0   Max.   :1.0000   Max.   :3.000  \n",
       "                                                 \n",
       "                                    Name         Sex           Age       \n",
       " Abbing, Mr. Anthony                  :  1   female:314   Min.   : 0.42  \n",
       " Abbott, Mr. Rossmore Edward          :  1   male  :577   1st Qu.:20.12  \n",
       " Abbott, Mrs. Stanton (Rosa Hunt)     :  1                Median :28.00  \n",
       " Abelson, Mr. Samuel                  :  1                Mean   :29.70  \n",
       " Abelson, Mrs. Samuel (Hannah Wizosky):  1                3rd Qu.:38.00  \n",
       " Adahl, Mr. Mauritz Nils Martin       :  1                Max.   :80.00  \n",
       " (Other)                              :885                NA's   :177    \n",
       "     SibSp           Parch             Ticket         Fare       \n",
       " Min.   :0.000   Min.   :0.0000   1601    :  7   Min.   :  0.00  \n",
       " 1st Qu.:0.000   1st Qu.:0.0000   347082  :  7   1st Qu.:  7.91  \n",
       " Median :0.000   Median :0.0000   CA. 2343:  7   Median : 14.45  \n",
       " Mean   :0.523   Mean   :0.3816   3101295 :  6   Mean   : 32.20  \n",
       " 3rd Qu.:1.000   3rd Qu.:0.0000   347088  :  6   3rd Qu.: 31.00  \n",
       " Max.   :8.000   Max.   :6.0000   CA 2144 :  6   Max.   :512.33  \n",
       "                                  (Other) :852                   \n",
       "         Cabin     Embarked\n",
       "            :687    :  2   \n",
       " B96 B98    :  4   C:168   \n",
       " C23 C25 C27:  4   Q: 77   \n",
       " G6         :  4   S:644   \n",
       " C22 C26    :  3           \n",
       " D          :  3           \n",
       " (Other)    :186           "
      ]
     },
     "metadata": {},
     "output_type": "display_data"
    }
   ],
   "source": [
    "# Funções básicas de descrição dos dados\n",
    "#glimpse(data)\n",
    "summary(data)"
   ]
  },
  {
   "cell_type": "code",
   "execution_count": 10,
   "id": "482db656-97f6-4730-a4d0-92b6c709846c",
   "metadata": {},
   "outputs": [
    {
     "name": "stdout",
     "output_type": "stream",
     "text": [
      "Coluna PassengerId quantidade de NAs: 0 \n",
      "Coluna Survived quantidade de NAs: 0 \n",
      "Coluna Pclass quantidade de NAs: 0 \n",
      "Coluna Name quantidade de NAs: 0 \n",
      "Coluna Sex quantidade de NAs: 0 \n",
      "Coluna Age quantidade de NAs: 177 \n",
      "Coluna SibSp quantidade de NAs: 0 \n",
      "Coluna Parch quantidade de NAs: 0 \n",
      "Coluna Ticket quantidade de NAs: 0 \n",
      "Coluna Fare quantidade de NAs: 0 \n",
      "Coluna Cabin quantidade de NAs: 0 \n",
      "Coluna Embarked quantidade de NAs: 0 \n"
     ]
    }
   ],
   "source": [
    "# Função para identificar NAs nas colunas\n",
    "nas <- function(x){\n",
    "  soma = 0\n",
    "  for(i in 1:ncol(x)) {\n",
    "    cat(\"Coluna\",colnames(x[i]),\"quantidade de NAs:\",colSums(is.na(x[i])),\"\\n\")\n",
    "  }\n",
    "}\n",
    "nas(data)"
   ]
  },
  {
   "cell_type": "markdown",
   "id": "0c194acd-8f9c-4de3-b8c0-2fa90ba64bdd",
   "metadata": {},
   "source": [
    "Alguns dados iniciais..."
   ]
  },
  {
   "cell_type": "code",
   "execution_count": 11,
   "id": "d061e632-acc5-4111-af00-d7a68090b921",
   "metadata": {},
   "outputs": [
    {
     "data": {
      "text/html": [
       "<table>\n",
       "<thead><tr><th scope=col>Sex</th><th scope=col>n</th></tr></thead>\n",
       "<tbody>\n",
       "\t<tr><td>female</td><td>314   </td></tr>\n",
       "\t<tr><td>male  </td><td>577   </td></tr>\n",
       "</tbody>\n",
       "</table>\n"
      ],
      "text/latex": [
       "\\begin{tabular}{r|ll}\n",
       " Sex & n\\\\\n",
       "\\hline\n",
       "\t female & 314   \\\\\n",
       "\t male   & 577   \\\\\n",
       "\\end{tabular}\n"
      ],
      "text/markdown": [
       "\n",
       "| Sex | n |\n",
       "|---|---|\n",
       "| female | 314    |\n",
       "| male   | 577    |\n",
       "\n"
      ],
      "text/plain": [
       "  Sex    n  \n",
       "1 female 314\n",
       "2 male   577"
      ]
     },
     "metadata": {},
     "output_type": "display_data"
    }
   ],
   "source": [
    "# Quantidade de homens e mulheres:\n",
    "count(data, Sex)"
   ]
  },
  {
   "cell_type": "code",
   "execution_count": 12,
   "id": "6249f275-cb7f-41f1-823d-74f56919acd8",
   "metadata": {},
   "outputs": [
    {
     "data": {
      "text/html": [
       "<table>\n",
       "<thead><tr><th scope=col>Survived</th><th scope=col>n</th></tr></thead>\n",
       "<tbody>\n",
       "\t<tr><td>0  </td><td>549</td></tr>\n",
       "\t<tr><td>1  </td><td>342</td></tr>\n",
       "</tbody>\n",
       "</table>\n"
      ],
      "text/latex": [
       "\\begin{tabular}{r|ll}\n",
       " Survived & n\\\\\n",
       "\\hline\n",
       "\t 0   & 549\\\\\n",
       "\t 1   & 342\\\\\n",
       "\\end{tabular}\n"
      ],
      "text/markdown": [
       "\n",
       "| Survived | n |\n",
       "|---|---|\n",
       "| 0   | 549 |\n",
       "| 1   | 342 |\n",
       "\n"
      ],
      "text/plain": [
       "  Survived n  \n",
       "1 0        549\n",
       "2 1        342"
      ]
     },
     "metadata": {},
     "output_type": "display_data"
    }
   ],
   "source": [
    "# Quantidade de sobreviventes e mortos:\n",
    "count(data, Survived)"
   ]
  },
  {
   "cell_type": "code",
   "execution_count": 13,
   "id": "0f1bf8df-9a1d-48f2-a5e3-f2650082baca",
   "metadata": {},
   "outputs": [
    {
     "data": {
      "image/png": "[encoded data removed]",
      "text/plain": [
       "plot without title"
      ]
     },
     "metadata": {},
     "output_type": "display_data"
    }
   ],
   "source": [
    "# Idade por gênero\n",
    "\n",
    "# Customizando o tamanho do gráfico\n",
    "options(repr.plot.width = 4, repr.plot.height = 3)\n",
    "\n",
    "# O DataFrame data não é alterado!\n",
    "data %>% \n",
    "    # O Pipe é um operador do pacote magrittr que permite ao usuário agregar uma sequência de operações dentro de variáveis  \n",
    "    na.omit(Age) %>%\n",
    "    # ggplot toma o dataset e especifíca as variáveis de cada eixo\n",
    "    ggplot(aes(x = Sex, y = Age)) + \n",
    "      # geom_... identifica o \"tipo de gráfico\" que se pretende fazer, além de alguns outros atributos\n",
    "      geom_boxplot(aes(color = factor(Sex))) + \n",
    "      theme_classic() +\n",
    "      labs(x = \"Gênero\", y = \"Idade\", title = \"Distribuição da idade por gênero\") "
   ]
  },
  {
   "cell_type": "code",
   "execution_count": 14,
   "id": "6feac8ff-fb39-4cc3-9736-c1cae28fd689",
   "metadata": {},
   "outputs": [
    {
     "data": {
      "image/png": "[encoded data removed]",
      "text/plain": [
       "plot without title"
      ]
     },
     "metadata": {},
     "output_type": "display_data"
    }
   ],
   "source": [
    "# Distribuição do Fare\n",
    "options(repr.plot.width = 4, repr.plot.height = 3)\n",
    "\n",
    "ggplot(data, aes(y=Fare)) + \n",
    "  geom_boxplot(col = 'darkblue', fill = 'lightblue') +\n",
    "  theme_classic() +\n",
    "  labs(x=\"População\", y=\"Preço dos tickets\", title=\"Distribuição dos preços dos tickets\")"
   ]
  },
  {
   "cell_type": "code",
   "execution_count": 15,
   "id": "57175c14-5124-410e-8196-0154dce8d3ad",
   "metadata": {},
   "outputs": [
    {
     "data": {
      "image/png": "[encoded data removed]",
      "text/plain": [
       "plot without title"
      ]
     },
     "metadata": {},
     "output_type": "display_data"
    }
   ],
   "source": [
    "# Gráfico sobreviventes e não-sobreviventes em cada classe do navio:\n",
    "\n",
    "options(repr.plot.width = 5, repr.plot.height = 3)\n",
    "\n",
    "data %>%\n",
    "    # Função mutate() permite criar variáveis a partir de outras variáveis dentro de um dataset\n",
    "    mutate(Obito = ifelse(Survived == 0, 'Não sobreviveu', 'Sobreviveu')) %>%\n",
    "    ggplot(aes(x = Pclass, fill = Obito)) + \n",
    "    theme_classic() +\n",
    "    labs(title = 'Proporção de sobreviventes e não-sobreviventes em cada classe', x = 'Classe', y = 'Quantidade') +\n",
    "    theme(plot.title = element_text(size = 10)) +\n",
    "    geom_bar(position = 'fill') "
   ]
  },
  {
   "cell_type": "code",
   "execution_count": 16,
   "id": "528eab2a-98c6-449d-993c-fb10d44f428c",
   "metadata": {},
   "outputs": [
    {
     "data": {
      "image/png": "[encoded data removed]",
      "text/plain": [
       "plot without title"
      ]
     },
     "metadata": {},
     "output_type": "display_data"
    }
   ],
   "source": [
    "# Preço do ticket por classe\n",
    "ggplot(data, aes(x=Pclass, y=Fare)) + \n",
    "  geom_boxplot(aes(col = factor(Pclass))) + \n",
    "  theme_classic() +\n",
    "  labs(x = \"Classe\", y = \"Preço do ticket\", title = \"Distribuição do preço do ticket por classe\")"
   ]
  },
  {
   "cell_type": "code",
   "execution_count": 17,
   "id": "a2f2a36b-2f74-4ec0-af3c-c336c4bbbb9e",
   "metadata": {},
   "outputs": [
    {
     "data": {
      "image/png": "[encoded data removed]",
      "text/plain": [
       "plot without title"
      ]
     },
     "metadata": {},
     "output_type": "display_data"
    }
   ],
   "source": [
    "# Preço do ticket por idade\n",
    "data %>%\n",
    "    na.omit(Age) %>%\n",
    "    # Função mutate() para criar diferentes classificações para as idades\n",
    "    mutate(idade = ifelse(Age <= 10, 'Criança', ifelse(Age <= 45, 'Adulto', 'Idoso'))) %>%\n",
    "    ggplot(aes(x=idade, y=Fare)) + \n",
    "    geom_boxplot(aes(col = factor(idade))) + \n",
    "    theme_classic() +\n",
    "    labs(x=\"Idade\", y=\"Preço do ticket\", title=\"Distribuição de renda por idade\")"
   ]
  },
  {
   "cell_type": "code",
   "execution_count": 18,
   "id": "de69bcfb-0af0-44e8-ac8e-34799ff2063b",
   "metadata": {},
   "outputs": [
    {
     "data": {
      "image/png": "[encoded data removed]",
      "text/plain": [
       "plot without title"
      ]
     },
     "metadata": {},
     "output_type": "display_data"
    }
   ],
   "source": [
    "# Distribuição de Fare por Embarked:\n",
    "ggplot(data, aes(x=Embarked, y=Fare)) + \n",
    "  geom_boxplot(aes(col = factor(Embarked))) + \n",
    "  theme_classic() +\n",
    "  labs(x=\"Local de embarque\", y=\"Preço do ticket\", title=\"Preço do ticket por local de embarque\")"
   ]
  },
  {
   "cell_type": "code",
   "execution_count": 19,
   "id": "0d73da96-dfca-4339-9ce6-de20eb9bc1e3",
   "metadata": {},
   "outputs": [
    {
     "data": {
      "image/png": "[encoded data removed]",
      "text/plain": [
       "plot without title"
      ]
     },
     "metadata": {},
     "output_type": "display_data"
    }
   ],
   "source": [
    "# Morte por local de embarque:\n",
    "data %>%\n",
    "    mutate(Obito = ifelse(Survived == 0, 'Não sobreviveu', 'Sobreviveu')) %>%\n",
    "    ggplot(aes(x = Embarked)) + \n",
    "    theme_classic() +\n",
    "    geom_bar(aes(fill = Obito))"
   ]
  },
  {
   "cell_type": "code",
   "execution_count": 20,
   "id": "59ebb943-8496-453f-8b5e-dd1a809630a7",
   "metadata": {},
   "outputs": [
    {
     "data": {
      "image/png": "[encoded data removed]",
      "text/plain": [
       "plot without title"
      ]
     },
     "metadata": {},
     "output_type": "display_data"
    }
   ],
   "source": [
    "# Morte por local de embarque:\n",
    "data %>%\n",
    "    mutate(Obito = ifelse(Survived == 0, 'Não sobreviveu', 'Sobreviveu')) %>%\n",
    "    ggplot(aes(x = Embarked, fill = Obito)) + \n",
    "    theme_classic() +\n",
    "    geom_bar(position = 'fill')"
   ]
  },
  {
   "cell_type": "markdown",
   "id": "22472ad1-eaa9-413e-a115-cd0774235b8d",
   "metadata": {},
   "source": [
    "Agora, bora pras análises:"
   ]
  },
  {
   "cell_type": "markdown",
   "id": "6c5f2fdb-c2f1-4ed9-87b7-526c3b6dfc33",
   "metadata": {},
   "source": [
    "### Pergunta 1: Homens morrem mais que mulheres? i.e. Survived ~ Gênero?"
   ]
  },
  {
   "cell_type": "markdown",
   "id": "ad749e0d-70a9-4890-811e-247665f064b1",
   "metadata": {},
   "source": [
    "**H0**: Homens e mulheres têm a mesma chance de morrer -> **Sex e Survived são variáveis independentes!**\n",
    "\n",
    "**HA**: Há diferenças significativas entre a taxa de homens e mulheres que morreram/sobreviveram, o que pode indicar uma relação causal entre as duas variáveis  -> **Homens tendem a não sobreviver mais do que mulheres**.\n",
    "\n",
    "\n",
    "\n",
    "**Metodologia de resposta**:\n",
    "\n",
    "    1) Calcular a diferença da proporção de sobreviventes entre os dois grupos;\n",
    "    2) Permutar X novas distribuições em que as variáveis gênero e sobrevivência sejam independentes;\n",
    "    3) Observar o intervalo de confiança produzido pela permutação e calcular o P-valor;\n",
    "    4) Rejeitar ou não H0"
   ]
  },
  {
   "cell_type": "code",
   "execution_count": 21,
   "id": "c9bf4cca-66af-4cd6-b921-c1ced465e7ca",
   "metadata": {},
   "outputs": [
    {
     "data": {
      "text/html": [
       "<table>\n",
       "<thead><tr><th scope=col>Survived</th><th scope=col>n</th></tr></thead>\n",
       "<tbody>\n",
       "\t<tr><td>0  </td><td>549</td></tr>\n",
       "\t<tr><td>1  </td><td>342</td></tr>\n",
       "</tbody>\n",
       "</table>\n"
      ],
      "text/latex": [
       "\\begin{tabular}{r|ll}\n",
       " Survived & n\\\\\n",
       "\\hline\n",
       "\t 0   & 549\\\\\n",
       "\t 1   & 342\\\\\n",
       "\\end{tabular}\n"
      ],
      "text/markdown": [
       "\n",
       "| Survived | n |\n",
       "|---|---|\n",
       "| 0   | 549 |\n",
       "| 1   | 342 |\n",
       "\n"
      ],
      "text/plain": [
       "  Survived n  \n",
       "1 0        549\n",
       "2 1        342"
      ]
     },
     "metadata": {},
     "output_type": "display_data"
    }
   ],
   "source": [
    "# Total de mortos\n",
    "count(data, Survived)"
   ]
  },
  {
   "cell_type": "code",
   "execution_count": 22,
   "id": "1068dc81-be1b-4400-beb9-eefa98268187",
   "metadata": {},
   "outputs": [
    {
     "data": {
      "text/html": [
       "<table>\n",
       "<thead><tr><th scope=col>Sex</th><th scope=col>Survived</th><th scope=col>n</th></tr></thead>\n",
       "<tbody>\n",
       "\t<tr><td>female</td><td>0     </td><td> 81   </td></tr>\n",
       "\t<tr><td>female</td><td>1     </td><td>233   </td></tr>\n",
       "\t<tr><td>male  </td><td>0     </td><td>468   </td></tr>\n",
       "\t<tr><td>male  </td><td>1     </td><td>109   </td></tr>\n",
       "</tbody>\n",
       "</table>\n"
      ],
      "text/latex": [
       "\\begin{tabular}{r|lll}\n",
       " Sex & Survived & n\\\\\n",
       "\\hline\n",
       "\t female & 0      &  81   \\\\\n",
       "\t female & 1      & 233   \\\\\n",
       "\t male   & 0      & 468   \\\\\n",
       "\t male   & 1      & 109   \\\\\n",
       "\\end{tabular}\n"
      ],
      "text/markdown": [
       "\n",
       "| Sex | Survived | n |\n",
       "|---|---|---|\n",
       "| female | 0      |  81    |\n",
       "| female | 1      | 233    |\n",
       "| male   | 0      | 468    |\n",
       "| male   | 1      | 109    |\n",
       "\n"
      ],
      "text/plain": [
       "  Sex    Survived n  \n",
       "1 female 0         81\n",
       "2 female 1        233\n",
       "3 male   0        468\n",
       "4 male   1        109"
      ]
     },
     "metadata": {},
     "output_type": "display_data"
    }
   ],
   "source": [
    "# Total de mortos por gênero:\n",
    "data %>%\n",
    "    count(Sex, Survived)"
   ]
  },
  {
   "cell_type": "code",
   "execution_count": 23,
   "id": "6c070cfa-a859-4814-a97f-16ca091795d7",
   "metadata": {},
   "outputs": [
    {
     "data": {
      "image/png": "[encoded data removed]",
      "text/plain": [
       "plot without title"
      ]
     },
     "metadata": {},
     "output_type": "display_data"
    }
   ],
   "source": [
    "# Visualização da quantidade de homens e mulheres que morreram:\n",
    "data %>%\n",
    "  mutate(Passageiro = ifelse(Survived == 1, \"Sobreviveu\", \"Não sobreviveu\")) %>%\n",
    "  ggplot(aes(x = Sex)) +\n",
    "  theme_classic() +\n",
    "  geom_bar(aes(fill = Passageiro)) +\n",
    "  labs(x = 'Gênero', title = 'Número de mortos e sobreviventes por gênero')"
   ]
  },
  {
   "cell_type": "code",
   "execution_count": 24,
   "id": "24d14ac3-cbd9-485b-a639-79b7b85ee7b6",
   "metadata": {},
   "outputs": [
    {
     "data": {
      "image/png": "[encoded data removed]",
      "text/plain": [
       "plot without title"
      ]
     },
     "metadata": {},
     "output_type": "display_data"
    }
   ],
   "source": [
    "# Visualização da proporção de homens e mulheres que morreram:\n",
    "data %>%\n",
    "  mutate(Passageiro = ifelse(Survived == 1, \"Sobreviveu\", \"Não sobreviveu\")) %>%\n",
    "  ggplot(aes(x = Sex, fill = Passageiro)) +\n",
    "  theme_classic() +\n",
    "  geom_bar(position = 'fill') +\n",
    "  labs(y = 'Porporção', x = 'Gênero', title = 'Proporção de mortos e sobreviventes por gênero')"
   ]
  },
  {
   "cell_type": "code",
   "execution_count": 25,
   "id": "ea8e1af8-39b5-451d-8870-00cd3629b4ea",
   "metadata": {},
   "outputs": [
    {
     "name": "stdout",
     "output_type": "stream",
     "text": [
      "A diferença foi de 0.5531301 pontos, ou aproximadamente 55.31%"
     ]
    }
   ],
   "source": [
    "# Comparando a diferença percentual entre homens e mulheres que morreram:\n",
    "\n",
    "diff_orig <- data %>%\n",
    "  # Agrupa-se o dataset pela variável gênero\n",
    "  group_by(Sex) %>%\n",
    "  # Função summarize() para calcular 1) a média de mortos por gênero e 2) a diferença entre as médias\n",
    "  summarize(dead_prop = mean(Survived == 0)) %>% \n",
    "  summarize(diff(dead_prop)) %>%\n",
    "  pull()\n",
    "\n",
    "cat('A diferença foi de', diff_orig, 'pontos, ou aproximadamente', paste(round(diff_orig * 100, 2), '%', sep = ''))"
   ]
  },
  {
   "cell_type": "markdown",
   "id": "7bb6df2c-f669-453f-bd70-2e677e7a78ab",
   "metadata": {},
   "source": [
    "Sabendo da diferença de quase 55,4% entre a quantidade de homens e mulheres que não sobreviveram, a questão que se desenvolve é a seguinte: **seria possível observar tamanha diferença em um cenário em que os dois gêneros possuem a mesma probabilidade de sobreviver?**\n",
    "- Para responder a questão, primeiro é necessário **permutar** (shuffle) **os dados** de modo a não haver **nenhuma relação entre gênero e sobrevivência.**\n",
    "- O processo de permutação faz com que as duas variáveis não sejam relacionadas, possibilitando a **identificação da variabilidade natural das diferenças** nas taxas de promoção.\n",
    "- Sabendo da variabilidade natural, é possível aferir o quão grande a diferença deveria ser para que identifiquemos algo incomum na amostra - hipótese alternativa."
   ]
  },
  {
   "cell_type": "code",
   "execution_count": 27,
   "id": "7c07ac14-85fe-413f-b727-19a68dda7371",
   "metadata": {},
   "outputs": [
    {
     "data": {
      "text/html": [
       "<table>\n",
       "<thead><tr><th scope=col>replicate</th><th scope=col>stat</th></tr></thead>\n",
       "<tbody>\n",
       "\t<tr><td> 1          </td><td> 0.037007804</td></tr>\n",
       "\t<tr><td> 2          </td><td> 0.007500911</td></tr>\n",
       "\t<tr><td> 3          </td><td>-0.012170352</td></tr>\n",
       "\t<tr><td> 4          </td><td>-0.012170352</td></tr>\n",
       "\t<tr><td> 5          </td><td>-0.007252536</td></tr>\n",
       "\t<tr><td> 6          </td><td> 0.012418726</td></tr>\n",
       "\t<tr><td> 7          </td><td> 0.012418726</td></tr>\n",
       "\t<tr><td> 8          </td><td>-0.056430692</td></tr>\n",
       "\t<tr><td> 9          </td><td> 0.007500911</td></tr>\n",
       "\t<tr><td>10          </td><td>-0.017088167</td></tr>\n",
       "</tbody>\n",
       "</table>\n"
      ],
      "text/latex": [
       "\\begin{tabular}{r|ll}\n",
       " replicate & stat\\\\\n",
       "\\hline\n",
       "\t  1           &  0.037007804\\\\\n",
       "\t  2           &  0.007500911\\\\\n",
       "\t  3           & -0.012170352\\\\\n",
       "\t  4           & -0.012170352\\\\\n",
       "\t  5           & -0.007252536\\\\\n",
       "\t  6           &  0.012418726\\\\\n",
       "\t  7           &  0.012418726\\\\\n",
       "\t  8           & -0.056430692\\\\\n",
       "\t  9           &  0.007500911\\\\\n",
       "\t 10           & -0.017088167\\\\\n",
       "\\end{tabular}\n"
      ],
      "text/markdown": [
       "\n",
       "| replicate | stat |\n",
       "|---|---|\n",
       "|  1           |  0.037007804 |\n",
       "|  2           |  0.007500911 |\n",
       "|  3           | -0.012170352 |\n",
       "|  4           | -0.012170352 |\n",
       "|  5           | -0.007252536 |\n",
       "|  6           |  0.012418726 |\n",
       "|  7           |  0.012418726 |\n",
       "|  8           | -0.056430692 |\n",
       "|  9           |  0.007500911 |\n",
       "| 10           | -0.017088167 |\n",
       "\n"
      ],
      "text/plain": [
       "   replicate stat        \n",
       "1   1         0.037007804\n",
       "2   2         0.007500911\n",
       "3   3        -0.012170352\n",
       "4   4        -0.012170352\n",
       "5   5        -0.007252536\n",
       "6   6         0.012418726\n",
       "7   7         0.012418726\n",
       "8   8        -0.056430692\n",
       "9   9         0.007500911\n",
       "10 10        -0.017088167"
      ]
     },
     "metadata": {},
     "output_type": "display_data"
    }
   ],
   "source": [
    "data <- data %>%\n",
    "  mutate(Passageiro = ifelse(Survived == 1, \"Sobreviveu\", \"Não sobreviveu\")) \n",
    "  \n",
    "# Permutando os dados para criar distribuições em que as variáveis estudadas sejam independentes:\n",
    "disc_perm <- data %>%\n",
    "  specify(Passageiro ~ Sex, success = 'Sobreviveu') %>%\n",
    "  hypothesize(null = \"independence\") %>%\n",
    "  generate(reps = 1000, type = \"permute\") %>%\n",
    "  calculate(stat = 'diff in props', order = c('male', 'female'))\n",
    "\n",
    "head(disc_perm, 10)"
   ]
  },
  {
   "cell_type": "code",
   "execution_count": 28,
   "id": "e0887a9c-5371-41d7-bf08-1619cb2e9b4f",
   "metadata": {},
   "outputs": [
    {
     "data": {
      "text/html": [
       "<table>\n",
       "<thead><tr><th scope=col>q_05</th><th scope=col>q_95</th></tr></thead>\n",
       "<tbody>\n",
       "\t<tr><td>-0.05643069</td><td>0.05667907 </td></tr>\n",
       "</tbody>\n",
       "</table>\n"
      ],
      "text/latex": [
       "\\begin{tabular}{r|ll}\n",
       " q\\_05 & q\\_95\\\\\n",
       "\\hline\n",
       "\t -0.05643069 & 0.05667907 \\\\\n",
       "\\end{tabular}\n"
      ],
      "text/markdown": [
       "\n",
       "| q_05 | q_95 |\n",
       "|---|---|\n",
       "| -0.05643069 | 0.05667907  |\n",
       "\n"
      ],
      "text/plain": [
       "  q_05        q_95      \n",
       "1 -0.05643069 0.05667907"
      ]
     },
     "metadata": {},
     "output_type": "display_data"
    }
   ],
   "source": [
    "# Observando para os quantis de 5% e 95%\n",
    "# Lembre-se, a REGIÃO CRÍTICA corresponde ao intervalo entre os quantis 5% e 95%\n",
    "disc_perm %>% \n",
    "  summarize(\n",
    "    q_05 = quantile(stat, p = .05),\n",
    "    q_95 = quantile(stat, p = .95),\n",
    "  )"
   ]
  },
  {
   "cell_type": "code",
   "execution_count": 29,
   "id": "950910a5-2323-4f1c-8b99-70a79225a068",
   "metadata": {},
   "outputs": [
    {
     "data": {
      "image/png": "[encoded data removed]",
      "text/plain": [
       "plot without title"
      ]
     },
     "metadata": {},
     "output_type": "display_data"
    }
   ],
   "source": [
    "# Plotando a diferença entre a distribuição dos p-hats das amostras permutadas com a diferença da observação original: \n",
    "# Reminder: P-hat é a proporção da amostra; e P é a proporção da população. \n",
    "\n",
    "ggplot(disc_perm, aes(x = stat)) + \n",
    "  geom_histogram(binwidth = 0.004) +\n",
    "  geom_vline(aes(xintercept = diff_orig), color = \"red\") +\n",
    "  labs(x = 'Parâmetros', title = 'Distribuição dos p-hats e do parâmtro original da população')"
   ]
  },
  {
   "cell_type": "markdown",
   "id": "3e5159cd-b69b-43b9-91b2-5fe141d61ce2",
   "metadata": {},
   "source": [
    "### P-valor:\n",
    "O P-valor é a **probabilidade de observar dados tão ou mais extremos que o que temos dado que a hipótese nula é verdadeira.**\n",
    "- No caso da disferença entre os gêneros, o p-valor é a probabilidade de observar uma diferença maior ou igual a 0.5531 (diff_orig) quando as taxas de sobrevivência não variam de acordo com o gênero.\n",
    "- Nesse caso, é a *proporção das diferenças permutadas que são menores ou iguais à diferença observada*\n",
    "    - Normalmente, assume-se que um **P-valor menor ou igual a 0.05 pode indicar que os dados observados são inconsistentes com a hipótese nula** -> apenas uma a cada 20 \"amostras nulas\" apresentaria um parâmetro similar à diferença observada!"
   ]
  },
  {
   "cell_type": "code",
   "execution_count": 30,
   "id": "92291227-161b-4a59-8e46-7b6a22b5745e",
   "metadata": {},
   "outputs": [
    {
     "name": "stderr",
     "output_type": "stream",
     "text": [
      "Warning message:\n",
      "\"Please be cautious in reporting a p-value of 0. This result is an approximation based on the number of `reps` chosen in the `generate()` step. See `?get_p_value()` for more information.\""
     ]
    },
    {
     "data": {
      "text/html": [
       "<table>\n",
       "<thead><tr><th scope=col>p_value</th></tr></thead>\n",
       "<tbody>\n",
       "\t<tr><td>0</td></tr>\n",
       "</tbody>\n",
       "</table>\n"
      ],
      "text/latex": [
       "\\begin{tabular}{r|l}\n",
       " p\\_value\\\\\n",
       "\\hline\n",
       "\t 0\\\\\n",
       "\\end{tabular}\n"
      ],
      "text/markdown": [
       "\n",
       "| p_value |\n",
       "|---|\n",
       "| 0 |\n",
       "\n"
      ],
      "text/plain": [
       "  p_value\n",
       "1 0      "
      ]
     },
     "metadata": {},
     "output_type": "display_data"
    }
   ],
   "source": [
    "# Calculando o P-valor: \n",
    "disc_perm %>%\n",
    "  get_p_value(diff_orig, direction = 'greater')"
   ]
  },
  {
   "cell_type": "code",
   "execution_count": 31,
   "id": "f2b8d2e5-71a5-46de-be36-a517862fb17a",
   "metadata": {},
   "outputs": [
    {
     "data": {
      "text/plain": [
       "\n",
       "Call:\n",
       "lm(formula = Survived ~ factor(Sex), data = data)\n",
       "\n",
       "Residuals:\n",
       "    Min      1Q  Median      3Q     Max \n",
       "-0.7420 -0.1889 -0.1889  0.2580  0.8111 \n",
       "\n",
       "Coefficients:\n",
       "                Estimate Std. Error t value Pr(>|t|)    \n",
       "(Intercept)      0.74204    0.02307   32.17   <2e-16 ***\n",
       "factor(Sex)male -0.55313    0.02866  -19.30   <2e-16 ***\n",
       "---\n",
       "Signif. codes:  0 '***' 0.001 '**' 0.01 '*' 0.05 '.' 0.1 ' ' 1\n",
       "\n",
       "Residual standard error: 0.4087 on 889 degrees of freedom\n",
       "Multiple R-squared:  0.2952,\tAdjusted R-squared:  0.2944 \n",
       "F-statistic: 372.4 on 1 and 889 DF,  p-value: < 2.2e-16\n"
      ]
     },
     "metadata": {},
     "output_type": "display_data"
    }
   ],
   "source": [
    "# Rodando uma regressão (faz sentido?):\n",
    "summary(lm(Survived ~ factor(Sex), data))"
   ]
  },
  {
   "cell_type": "markdown",
   "id": "c6314acc-49f0-4685-89f8-06afd8882307",
   "metadata": {},
   "source": [
    "#### Conclusão:\n",
    "- Homens morrem mais que mulheres :("
   ]
  },
  {
   "cell_type": "markdown",
   "id": "86766a6e-7366-4a43-a40c-6d5b6c491f1c",
   "metadata": {},
   "source": [
    " "
   ]
  },
  {
   "cell_type": "markdown",
   "id": "87e3674a-21f4-4ec8-afdf-abc7310dcaa1",
   "metadata": {},
   "source": [
    "## Situação 2: Passageiros que pagaram mais têm maior chance de sobreviver? i.e. Survived ~ Fare?\n",
    "\n",
    "**H0**: Os que pagaram mais e os que pagaram menos têm a mesma chance de sobreviver -> **Fare e Survived são variáveis independentes!**\n",
    "\n",
    "**HA**: Há diferenças significativas entre a taxa de pessoas que pagaram mais ou menos que morreram/sobreviveram, o que pode indicar uma relação causal entre as duas variáveis  -> **Quem pagou mais no ticket tem maior chance de sobreviver**."
   ]
  },
  {
   "cell_type": "markdown",
   "id": "e217028e-6709-4c22-98ac-775f0a8d5a17",
   "metadata": {},
   "source": [
    "#### Usando o método do livro do Facure:\n",
    "- Não faz muito sentido fazer inferências a partir da população\n",
    "    - Por isso, vamos selecionar uma amostra aleatória de dados e tentar estimar a verdadeira proporção de sobreviventes teste da hipótese Survived ~ Fare.\n",
    "- Método de resolução:\n",
    "    - Calcular os parâmetros verdadeiros da população;\n",
    "    - Tomar uma amostra aleatória de tamanho N;\n",
    "    - Usar a Equação de Moivre para cada grupo;\n",
    "    - Calcular os intervalos de confiança de 95% para cada estatística;\n",
    "    - Encontrar o P-valor"
   ]
  },
  {
   "cell_type": "code",
   "execution_count": 32,
   "id": "3ff0b40f-ca78-4590-9c8d-73e5c6754e4c",
   "metadata": {},
   "outputs": [
    {
     "data": {
      "text/html": [
       "<table>\n",
       "<thead><tr><th scope=col>PassengerId</th><th scope=col>Survived</th><th scope=col>Pclass</th><th scope=col>Name</th><th scope=col>Sex</th><th scope=col>Age</th><th scope=col>SibSp</th><th scope=col>Parch</th><th scope=col>Ticket</th><th scope=col>Fare</th><th scope=col>Cabin</th><th scope=col>Embarked</th><th scope=col>Passageiro</th><th scope=col>wealth</th></tr></thead>\n",
       "<tbody>\n",
       "\t<tr><td>1                                                  </td><td>0                                                  </td><td>3                                                  </td><td>Braund, Mr. Owen Harris                            </td><td>male                                               </td><td>22                                                 </td><td>1                                                  </td><td>0                                                  </td><td>A/5 21171                                          </td><td> 7.2500                                            </td><td>                                                   </td><td>S                                                  </td><td>Não sobreviveu                                     </td><td>Not wealthy                                        </td></tr>\n",
       "\t<tr><td>2                                                  </td><td>1                                                  </td><td>1                                                  </td><td>Cumings, Mrs. John Bradley (Florence Briggs Thayer)</td><td>female                                             </td><td>38                                                 </td><td>1                                                  </td><td>0                                                  </td><td>PC 17599                                           </td><td>71.2833                                            </td><td>C85                                                </td><td>C                                                  </td><td>Sobreviveu                                         </td><td>Wealthy                                            </td></tr>\n",
       "\t<tr><td>3                                                  </td><td>1                                                  </td><td>3                                                  </td><td>Heikkinen, Miss. Laina                             </td><td>female                                             </td><td>26                                                 </td><td>0                                                  </td><td>0                                                  </td><td>STON/O2. 3101282                                   </td><td> 7.9250                                            </td><td>                                                   </td><td>S                                                  </td><td>Sobreviveu                                         </td><td>Not wealthy                                        </td></tr>\n",
       "\t<tr><td>4                                                  </td><td>1                                                  </td><td>1                                                  </td><td>Futrelle, Mrs. Jacques Heath (Lily May Peel)       </td><td>female                                             </td><td>35                                                 </td><td>1                                                  </td><td>0                                                  </td><td>113803                                             </td><td>53.1000                                            </td><td>C123                                               </td><td>S                                                  </td><td>Sobreviveu                                         </td><td>Wealthy                                            </td></tr>\n",
       "\t<tr><td>5                                                  </td><td>0                                                  </td><td>3                                                  </td><td>Allen, Mr. William Henry                           </td><td>male                                               </td><td>35                                                 </td><td>0                                                  </td><td>0                                                  </td><td>373450                                             </td><td> 8.0500                                            </td><td>                                                   </td><td>S                                                  </td><td>Não sobreviveu                                     </td><td>Not wealthy                                        </td></tr>\n",
       "</tbody>\n",
       "</table>\n"
      ],
      "text/latex": [
       "\\begin{tabular}{r|llllllllllllll}\n",
       " PassengerId & Survived & Pclass & Name & Sex & Age & SibSp & Parch & Ticket & Fare & Cabin & Embarked & Passageiro & wealth\\\\\n",
       "\\hline\n",
       "\t 1                                                   & 0                                                   & 3                                                   & Braund, Mr. Owen Harris                             & male                                                & 22                                                  & 1                                                   & 0                                                   & A/5 21171                                           &  7.2500                                             &                                                     & S                                                   & Não sobreviveu                                      & Not wealthy                                        \\\\\n",
       "\t 2                                                   & 1                                                   & 1                                                   & Cumings, Mrs. John Bradley (Florence Briggs Thayer) & female                                              & 38                                                  & 1                                                   & 0                                                   & PC 17599                                            & 71.2833                                             & C85                                                 & C                                                   & Sobreviveu                                          & Wealthy                                            \\\\\n",
       "\t 3                                                   & 1                                                   & 3                                                   & Heikkinen, Miss. Laina                              & female                                              & 26                                                  & 0                                                   & 0                                                   & STON/O2. 3101282                                    &  7.9250                                             &                                                     & S                                                   & Sobreviveu                                          & Not wealthy                                        \\\\\n",
       "\t 4                                                   & 1                                                   & 1                                                   & Futrelle, Mrs. Jacques Heath (Lily May Peel)        & female                                              & 35                                                  & 1                                                   & 0                                                   & 113803                                              & 53.1000                                             & C123                                                & S                                                   & Sobreviveu                                          & Wealthy                                            \\\\\n",
       "\t 5                                                   & 0                                                   & 3                                                   & Allen, Mr. William Henry                            & male                                                & 35                                                  & 0                                                   & 0                                                   & 373450                                              &  8.0500                                             &                                                     & S                                                   & Não sobreviveu                                      & Not wealthy                                        \\\\\n",
       "\\end{tabular}\n"
      ],
      "text/markdown": [
       "\n",
       "| PassengerId | Survived | Pclass | Name | Sex | Age | SibSp | Parch | Ticket | Fare | Cabin | Embarked | Passageiro | wealth |\n",
       "|---|---|---|---|---|---|---|---|---|---|---|---|---|---|\n",
       "| 1                                                   | 0                                                   | 3                                                   | Braund, Mr. Owen Harris                             | male                                                | 22                                                  | 1                                                   | 0                                                   | A/5 21171                                           |  7.2500                                             |                                                     | S                                                   | Não sobreviveu                                      | Not wealthy                                         |\n",
       "| 2                                                   | 1                                                   | 1                                                   | Cumings, Mrs. John Bradley (Florence Briggs Thayer) | female                                              | 38                                                  | 1                                                   | 0                                                   | PC 17599                                            | 71.2833                                             | C85                                                 | C                                                   | Sobreviveu                                          | Wealthy                                             |\n",
       "| 3                                                   | 1                                                   | 3                                                   | Heikkinen, Miss. Laina                              | female                                              | 26                                                  | 0                                                   | 0                                                   | STON/O2. 3101282                                    |  7.9250                                             |                                                     | S                                                   | Sobreviveu                                          | Not wealthy                                         |\n",
       "| 4                                                   | 1                                                   | 1                                                   | Futrelle, Mrs. Jacques Heath (Lily May Peel)        | female                                              | 35                                                  | 1                                                   | 0                                                   | 113803                                              | 53.1000                                             | C123                                                | S                                                   | Sobreviveu                                          | Wealthy                                             |\n",
       "| 5                                                   | 0                                                   | 3                                                   | Allen, Mr. William Henry                            | male                                                | 35                                                  | 0                                                   | 0                                                   | 373450                                              |  8.0500                                             |                                                     | S                                                   | Não sobreviveu                                      | Not wealthy                                         |\n",
       "\n"
      ],
      "text/plain": [
       "  PassengerId Survived Pclass\n",
       "1 1           0        3     \n",
       "2 2           1        1     \n",
       "3 3           1        3     \n",
       "4 4           1        1     \n",
       "5 5           0        3     \n",
       "  Name                                                Sex    Age SibSp Parch\n",
       "1 Braund, Mr. Owen Harris                             male   22  1     0    \n",
       "2 Cumings, Mrs. John Bradley (Florence Briggs Thayer) female 38  1     0    \n",
       "3 Heikkinen, Miss. Laina                              female 26  0     0    \n",
       "4 Futrelle, Mrs. Jacques Heath (Lily May Peel)        female 35  1     0    \n",
       "5 Allen, Mr. William Henry                            male   35  0     0    \n",
       "  Ticket           Fare    Cabin Embarked Passageiro     wealth     \n",
       "1 A/5 21171         7.2500       S        Não sobreviveu Not wealthy\n",
       "2 PC 17599         71.2833 C85   C        Sobreviveu     Wealthy    \n",
       "3 STON/O2. 3101282  7.9250       S        Sobreviveu     Not wealthy\n",
       "4 113803           53.1000 C123  S        Sobreviveu     Wealthy    \n",
       "5 373450            8.0500       S        Não sobreviveu Not wealthy"
      ]
     },
     "metadata": {},
     "output_type": "display_data"
    }
   ],
   "source": [
    "# Dados - se Fare <= 3o quartil da distribuição: Proletário; else: Burguês safado\n",
    "wealth <- data %>%\n",
    "  mutate(wealth = ifelse(Fare <= quantile(Fare, p = .75), 'Not wealthy', 'Wealthy'))\n",
    "\n",
    "head(wealth, 5)"
   ]
  },
  {
   "cell_type": "code",
   "execution_count": 33,
   "id": "967e0688-cf76-4314-99ac-376e63396b47",
   "metadata": {
    "tags": []
   },
   "outputs": [
    {
     "name": "stdout",
     "output_type": "stream",
     "text": [
      "A média de Fare da população que morreu é de: 22.12 \n",
      "A média de Fare da população que sobreviveu é de: 48.4 \n",
      "A diferença entre os dois grupos é de: -26.28"
     ]
    }
   ],
   "source": [
    "# Primeiro, os parâmetros verdadeiros da POPULAÇÃO, que serão estimados nas próximas células:\n",
    "\n",
    "# Fare médio dos que morreram\n",
    "dead_true_mean <- mean(data$Fare[data$Survived == 0])\n",
    "\n",
    "# Fare médio dos que sobreviveram\n",
    "survivors_true_mean <- mean(data$Fare[data$Survived == 1])\n",
    "\n",
    "# Diferença entre as médias\n",
    "true_diff <- dead_true_mean - survivors_true_mean\n",
    "\n",
    "cat('A média de Fare da população que morreu é de:', round(dead_true_mean, 2), '\\n')\n",
    "cat('A média de Fare da população que sobreviveu é de:', round(survivors_true_mean, 2), '\\n')\n",
    "cat('A diferença entre os dois grupos é de:', round(true_diff, 2))"
   ]
  },
  {
   "cell_type": "code",
   "execution_count": 34,
   "id": "39244b0c-bbbe-4350-bb4d-1af725e37fdb",
   "metadata": {},
   "outputs": [
    {
     "data": {
      "text/html": [
       "<table>\n",
       "<thead><tr><th scope=col>PassengerId</th><th scope=col>Survived</th><th scope=col>Pclass</th><th scope=col>Name</th><th scope=col>Sex</th><th scope=col>Age</th><th scope=col>SibSp</th><th scope=col>Parch</th><th scope=col>Ticket</th><th scope=col>Fare</th><th scope=col>Cabin</th><th scope=col>Embarked</th><th scope=col>Passageiro</th><th scope=col>wealth</th></tr></thead>\n",
       "<tbody>\n",
       "\t<tr><td>470                             </td><td>1                               </td><td>3                               </td><td>Baclini, Miss. Helene Barbara   </td><td>female                          </td><td> 0.75                           </td><td>2                               </td><td>1                               </td><td>2666                            </td><td>19.2583                         </td><td>                                </td><td>C                               </td><td>Sobreviveu                      </td><td>Not wealthy                     </td></tr>\n",
       "\t<tr><td>819                             </td><td>0                               </td><td>3                               </td><td>Holm, Mr. John Fredrik Alexander</td><td>male                            </td><td>43.00                           </td><td>0                               </td><td>0                               </td><td>C 7075                          </td><td> 6.4500                         </td><td>                                </td><td>S                               </td><td>Não sobreviveu                  </td><td>Not wealthy                     </td></tr>\n",
       "\t<tr><td>425                             </td><td>0                               </td><td>3                               </td><td>Rosblom, Mr. Viktor Richard     </td><td>male                            </td><td>18.00                           </td><td>1                               </td><td>1                               </td><td>370129                          </td><td>20.2125                         </td><td>                                </td><td>S                               </td><td>Não sobreviveu                  </td><td>Not wealthy                     </td></tr>\n",
       "\t<tr><td>390                             </td><td>1                               </td><td>2                               </td><td>Lehmann, Miss. Bertha           </td><td>female                          </td><td>17.00                           </td><td>0                               </td><td>0                               </td><td>SC 1748                         </td><td>12.0000                         </td><td>                                </td><td>C                               </td><td>Sobreviveu                      </td><td>Not wealthy                     </td></tr>\n",
       "\t<tr><td> 33                             </td><td>1                               </td><td>3                               </td><td>Glynn, Miss. Mary Agatha        </td><td>female                          </td><td>   NA                           </td><td>0                               </td><td>0                               </td><td>335677                          </td><td> 7.7500                         </td><td>                                </td><td>Q                               </td><td>Sobreviveu                      </td><td>Not wealthy                     </td></tr>\n",
       "</tbody>\n",
       "</table>\n"
      ],
      "text/latex": [
       "\\begin{tabular}{r|llllllllllllll}\n",
       " PassengerId & Survived & Pclass & Name & Sex & Age & SibSp & Parch & Ticket & Fare & Cabin & Embarked & Passageiro & wealth\\\\\n",
       "\\hline\n",
       "\t 470                              & 1                                & 3                                & Baclini, Miss. Helene Barbara    & female                           &  0.75                            & 2                                & 1                                & 2666                             & 19.2583                          &                                  & C                                & Sobreviveu                       & Not wealthy                     \\\\\n",
       "\t 819                              & 0                                & 3                                & Holm, Mr. John Fredrik Alexander & male                             & 43.00                            & 0                                & 0                                & C 7075                           &  6.4500                          &                                  & S                                & Não sobreviveu                   & Not wealthy                     \\\\\n",
       "\t 425                              & 0                                & 3                                & Rosblom, Mr. Viktor Richard      & male                             & 18.00                            & 1                                & 1                                & 370129                           & 20.2125                          &                                  & S                                & Não sobreviveu                   & Not wealthy                     \\\\\n",
       "\t 390                              & 1                                & 2                                & Lehmann, Miss. Bertha            & female                           & 17.00                            & 0                                & 0                                & SC 1748                          & 12.0000                          &                                  & C                                & Sobreviveu                       & Not wealthy                     \\\\\n",
       "\t  33                              & 1                                & 3                                & Glynn, Miss. Mary Agatha         & female                           &    NA                            & 0                                & 0                                & 335677                           &  7.7500                          &                                  & Q                                & Sobreviveu                       & Not wealthy                     \\\\\n",
       "\\end{tabular}\n"
      ],
      "text/markdown": [
       "\n",
       "| PassengerId | Survived | Pclass | Name | Sex | Age | SibSp | Parch | Ticket | Fare | Cabin | Embarked | Passageiro | wealth |\n",
       "|---|---|---|---|---|---|---|---|---|---|---|---|---|---|\n",
       "| 470                              | 1                                | 3                                | Baclini, Miss. Helene Barbara    | female                           |  0.75                            | 2                                | 1                                | 2666                             | 19.2583                          |                                  | C                                | Sobreviveu                       | Not wealthy                      |\n",
       "| 819                              | 0                                | 3                                | Holm, Mr. John Fredrik Alexander | male                             | 43.00                            | 0                                | 0                                | C 7075                           |  6.4500                          |                                  | S                                | Não sobreviveu                   | Not wealthy                      |\n",
       "| 425                              | 0                                | 3                                | Rosblom, Mr. Viktor Richard      | male                             | 18.00                            | 1                                | 1                                | 370129                           | 20.2125                          |                                  | S                                | Não sobreviveu                   | Not wealthy                      |\n",
       "| 390                              | 1                                | 2                                | Lehmann, Miss. Bertha            | female                           | 17.00                            | 0                                | 0                                | SC 1748                          | 12.0000                          |                                  | C                                | Sobreviveu                       | Not wealthy                      |\n",
       "|  33                              | 1                                | 3                                | Glynn, Miss. Mary Agatha         | female                           |    NA                            | 0                                | 0                                | 335677                           |  7.7500                          |                                  | Q                                | Sobreviveu                       | Not wealthy                      |\n",
       "\n"
      ],
      "text/plain": [
       "  PassengerId Survived Pclass Name                             Sex    Age  \n",
       "1 470         1        3      Baclini, Miss. Helene Barbara    female  0.75\n",
       "2 819         0        3      Holm, Mr. John Fredrik Alexander male   43.00\n",
       "3 425         0        3      Rosblom, Mr. Viktor Richard      male   18.00\n",
       "4 390         1        2      Lehmann, Miss. Bertha            female 17.00\n",
       "5  33         1        3      Glynn, Miss. Mary Agatha         female    NA\n",
       "  SibSp Parch Ticket  Fare    Cabin Embarked Passageiro     wealth     \n",
       "1 2     1     2666    19.2583       C        Sobreviveu     Not wealthy\n",
       "2 0     0     C 7075   6.4500       S        Não sobreviveu Not wealthy\n",
       "3 1     1     370129  20.2125       S        Não sobreviveu Not wealthy\n",
       "4 0     0     SC 1748 12.0000       C        Sobreviveu     Not wealthy\n",
       "5 0     0     335677   7.7500       Q        Sobreviveu     Not wealthy"
      ]
     },
     "metadata": {},
     "output_type": "display_data"
    }
   ],
   "source": [
    "# Tomando uma amostra aleatória de 100 indivíduos:\n",
    "wealth_sample <- sample_n(wealth, 100)\n",
    "head(wealth_sample, 5)"
   ]
  },
  {
   "cell_type": "code",
   "execution_count": 35,
   "id": "ba02914f-8e9a-432b-8ce7-b773faac77f5",
   "metadata": {
    "tags": []
   },
   "outputs": [],
   "source": [
    "# Selecionando o Fare de sobreviventes e não-sobreviventes\n",
    "dead_sample <- wealth_sample$Fare[wealth_sample$Survived == 0]\n",
    "survivor_sample <- wealth_sample$Fare[wealth_sample$Survived == 1]"
   ]
  },
  {
   "cell_type": "code",
   "execution_count": 36,
   "id": "89285974-f6e7-4a51-bbc9-0b0c69c39f3c",
   "metadata": {},
   "outputs": [
    {
     "name": "stdout",
     "output_type": "stream",
     "text": [
      "SE de não-sobrevivente 2.267956 \n",
      "SE de sobrevivente 8.57083"
     ]
    }
   ],
   "source": [
    "# Função erro padrão:\n",
    "se <- function(x) {\n",
    "    return(\n",
    "    sd(x) / sqrt(length(x))\n",
    "    )\n",
    "} \n",
    "\n",
    "# Função do erro padrão do Fare de cada grupo\n",
    "cat('SE de não-sobrevivente', se(dead_sample), '\\n')\n",
    "cat('SE de sobrevivente', se(survivor_sample))"
   ]
  },
  {
   "cell_type": "markdown",
   "id": "22d56532-6842-4246-ab6b-e6ea186a0740",
   "metadata": {},
   "source": [
    "<img src=\"WhatsApp Image 2021-09-23 at 21.37.07.jpeg\" style=\"width: 400px;\"/>"
   ]
  },
  {
   "cell_type": "code",
   "execution_count": 44,
   "id": "438e2088-01a2-4872-a97f-ecbfb2a7093a",
   "metadata": {
    "tags": []
   },
   "outputs": [
    {
     "name": "stdout",
     "output_type": "stream",
     "text": [
      "Intervalo de confiança do Fare das vítimas: 15.12907 24.01946 \n",
      "Intervalo de confiança dos sobreviventes: 27.83988 61.43753"
     ]
    }
   ],
   "source": [
    "# Função intervalo de confiança:\n",
    "# [média da distribuição - (Z * erro padrão da distribuição); média da distribuição + (Z * erro padrão da distribuição)]\n",
    "\n",
    "ci <- function(x){\n",
    "    return(c(mean(x) - 1.96 * se(x), mean(x) + 1.96 * se(x)))\n",
    "}\n",
    "\n",
    "cat('Intervalo de confiança do Fare das vítimas:', ci(dead_sample), '\\n') \n",
    "cat('Intervalo de confiança dos sobreviventes:', ci(survivor_sample)) "
   ]
  },
  {
   "cell_type": "code",
   "execution_count": 45,
   "id": "38289c73-e456-4d9f-944a-ae40a7a0b9e4",
   "metadata": {
    "tags": []
   },
   "outputs": [
    {
     "name": "stdout",
     "output_type": "stream",
     "text": [
      "É possível afirmar com 95% de certeza que existe uma diferença entre o Fare dos indivíduos que morreram e que não morreram que esta no intervalo de: \n",
      " -42.44145 -7.687441"
     ]
    }
   ],
   "source": [
    "# Agora, vamos construir um intervalo de confiança para a diferença entre as médias dos dois grupos\n",
    "\n",
    "# diferença entre as médias dos grupos:\n",
    "diff_mu <- mean(dead_sample) - mean(survivor_sample)\n",
    "\n",
    "# diferença entre os ERROS PADRÕES dos grupos:\n",
    "diff_se <- sqrt(var(survivor_sample)/length(survivor_sample) + var(dead_sample)/length(dead_sample))\n",
    "\n",
    "# construindo o intervalo de confiança de 95%:\n",
    "ci_2 <- c(diff_mu - 1.96 * diff_se, diff_mu + 1.96 * diff_se)\n",
    "\n",
    "cat('É possível afirmar com 95% de certeza que existe uma diferença entre o Fare dos indivíduos que morreram e que não morreram que esta no intervalo de: \\n', ci_2)"
   ]
  },
  {
   "cell_type": "code",
   "execution_count": 46,
   "id": "2ef4f89d-ea2e-44f4-be1a-58d2b1a0b88a",
   "metadata": {},
   "outputs": [
    {
     "name": "stdout",
     "output_type": "stream",
     "text": [
      "[1] -2.827087\n"
     ]
    }
   ],
   "source": [
    "# Estatística Z = diferença entre as médias / diferença entre os erros padrões \n",
    "z <- diff_mu / diff_se\n",
    "print(z)"
   ]
  },
  {
   "cell_type": "code",
   "execution_count": 47,
   "id": "a33d650b-daab-4582-aeaf-fd474e39905d",
   "metadata": {},
   "outputs": [
    {
     "data": {
      "text/html": [
       "0.00234867483128126"
      ],
      "text/latex": [
       "0.00234867483128126"
      ],
      "text/markdown": [
       "0.00234867483128126"
      ],
      "text/plain": [
       "[1] 0.002348675"
      ]
     },
     "metadata": {},
     "output_type": "display_data"
    }
   ],
   "source": [
    "# Encontrando o P-valor:\n",
    "pnorm(z)"
   ]
  },
  {
   "cell_type": "markdown",
   "id": "efd503a0-c910-4dfd-9fdd-43f83402e1c4",
   "metadata": {},
   "source": [
    "### Agora, usando o pacote infer"
   ]
  },
  {
   "cell_type": "code",
   "execution_count": 48,
   "id": "e5ec095d-0bc0-4997-a803-c143f92f92a2",
   "metadata": {},
   "outputs": [
    {
     "data": {
      "image/png": "[encoded data removed]",
      "text/plain": [
       "plot without title"
      ]
     },
     "metadata": {},
     "output_type": "display_data"
    }
   ],
   "source": [
    "# Visualização da proporção de ricos e ~não ricos~ que morreram/sobreviveram\n",
    "wealth %>%\n",
    "  ggplot(aes(x = wealth, fill = Passageiro)) + \n",
    "  geom_bar(position = 'fill') +\n",
    "  labs(y = 'Proporção', x = 'Renda', title = 'Proporção de passageiros que sobreviveram por poder aquisitivo')"
   ]
  },
  {
   "cell_type": "code",
   "execution_count": 49,
   "id": "a3e51b84-9b52-4b28-bec5-939946640701",
   "metadata": {},
   "outputs": [
    {
     "name": "stdout",
     "output_type": "stream",
     "text": [
      "A diferença foi de -0.2626954 pontos, ou aproximadamente -26.27%"
     ]
    }
   ],
   "source": [
    "# Comparando a diferença percentual entre ricos e ~não ricos~ que morreram:\n",
    "diff_wealth <- wealth %>%\n",
    "  group_by(wealth) %>%\n",
    "  summarize(dead_prop = mean(Survived == 0)) %>% \n",
    "  summarize(diff(dead_prop)) %>%\n",
    "  pull()\n",
    "cat('A diferença foi de', diff_wealth, 'pontos, ou aproximadamente', paste(round(diff_wealth * 100, 2), '%', sep = ''))"
   ]
  },
  {
   "cell_type": "code",
   "execution_count": 50,
   "id": "8de14b76-c680-4663-99b3-cc9013ee8ec0",
   "metadata": {},
   "outputs": [
    {
     "data": {
      "text/html": [
       "<table>\n",
       "<thead><tr><th scope=col>replicate</th><th scope=col>stat</th></tr></thead>\n",
       "<tbody>\n",
       "\t<tr><td> 1          </td><td>-0.058720155</td></tr>\n",
       "\t<tr><td> 2          </td><td>-0.022724518</td></tr>\n",
       "\t<tr><td> 3          </td><td>-0.022724518</td></tr>\n",
       "\t<tr><td> 4          </td><td>-0.010725973</td></tr>\n",
       "\t<tr><td> 5          </td><td>-0.040722337</td></tr>\n",
       "\t<tr><td> 6          </td><td> 0.019270391</td></tr>\n",
       "\t<tr><td> 7          </td><td> 0.007271846</td></tr>\n",
       "\t<tr><td> 8          </td><td> 0.031268937</td></tr>\n",
       "\t<tr><td> 9          </td><td>-0.070718701</td></tr>\n",
       "\t<tr><td>10          </td><td> 0.019270391</td></tr>\n",
       "</tbody>\n",
       "</table>\n"
      ],
      "text/latex": [
       "\\begin{tabular}{r|ll}\n",
       " replicate & stat\\\\\n",
       "\\hline\n",
       "\t  1           & -0.058720155\\\\\n",
       "\t  2           & -0.022724518\\\\\n",
       "\t  3           & -0.022724518\\\\\n",
       "\t  4           & -0.010725973\\\\\n",
       "\t  5           & -0.040722337\\\\\n",
       "\t  6           &  0.019270391\\\\\n",
       "\t  7           &  0.007271846\\\\\n",
       "\t  8           &  0.031268937\\\\\n",
       "\t  9           & -0.070718701\\\\\n",
       "\t 10           &  0.019270391\\\\\n",
       "\\end{tabular}\n"
      ],
      "text/markdown": [
       "\n",
       "| replicate | stat |\n",
       "|---|---|\n",
       "|  1           | -0.058720155 |\n",
       "|  2           | -0.022724518 |\n",
       "|  3           | -0.022724518 |\n",
       "|  4           | -0.010725973 |\n",
       "|  5           | -0.040722337 |\n",
       "|  6           |  0.019270391 |\n",
       "|  7           |  0.007271846 |\n",
       "|  8           |  0.031268937 |\n",
       "|  9           | -0.070718701 |\n",
       "| 10           |  0.019270391 |\n",
       "\n"
      ],
      "text/plain": [
       "   replicate stat        \n",
       "1   1        -0.058720155\n",
       "2   2        -0.022724518\n",
       "3   3        -0.022724518\n",
       "4   4        -0.010725973\n",
       "5   5        -0.040722337\n",
       "6   6         0.019270391\n",
       "7   7         0.007271846\n",
       "8   8         0.031268937\n",
       "9   9        -0.070718701\n",
       "10 10         0.019270391"
      ]
     },
     "metadata": {},
     "output_type": "display_data"
    }
   ],
   "source": [
    "# disc_perm corresponde ao conjunto de dados repetidos cuja variável promote foi permutada de \n",
    "# modo a não existir nenhuma correlação entre as variáveis!\n",
    "disc_perm_wealth <- wealth %>%\n",
    "  specify(Passageiro ~ wealth, success = 'Sobreviveu') %>%\n",
    "  hypothesize(null = \"independence\") %>%\n",
    "  generate(reps = 1000, type = \"permute\") %>%\n",
    "  calculate(stat = 'diff in props', order = c('Not wealthy', 'Wealthy'))\n",
    "head(disc_perm_wealth, 10)"
   ]
  },
  {
   "cell_type": "code",
   "execution_count": 51,
   "id": "fa59f99f-195b-4ad8-9784-9602900ac765",
   "metadata": {},
   "outputs": [
    {
     "name": "stderr",
     "output_type": "stream",
     "text": [
      "Warning message:\n",
      "\"Please be cautious in reporting a p-value of 0. This result is an approximation based on the number of `reps` chosen in the `generate()` step. See `?get_p_value()` for more information.\""
     ]
    },
    {
     "data": {
      "text/html": [
       "<table>\n",
       "<thead><tr><th scope=col>p_value</th></tr></thead>\n",
       "<tbody>\n",
       "\t<tr><td>0</td></tr>\n",
       "</tbody>\n",
       "</table>\n"
      ],
      "text/latex": [
       "\\begin{tabular}{r|l}\n",
       " p\\_value\\\\\n",
       "\\hline\n",
       "\t 0\\\\\n",
       "\\end{tabular}\n"
      ],
      "text/markdown": [
       "\n",
       "| p_value |\n",
       "|---|\n",
       "| 0 |\n",
       "\n"
      ],
      "text/plain": [
       "  p_value\n",
       "1 0      "
      ]
     },
     "metadata": {},
     "output_type": "display_data"
    },
    {
     "data": {
      "image/png": "[encoded data removed]",
      "text/plain": [
       "plot without title"
      ]
     },
     "metadata": {},
     "output_type": "display_data"
    }
   ],
   "source": [
    "# Calculando o P-valor\n",
    "disc_perm %>%\n",
    "  get_p_value(diff_orig, direction = 'greater')\n",
    "\n",
    "ggplot(disc_perm_wealth, aes(x = stat)) + \n",
    "  geom_histogram(binwidth = 0.004) +\n",
    "  geom_vline(aes(xintercept = diff_wealth), color = \"red\")"
   ]
  },
  {
   "cell_type": "code",
   "execution_count": 52,
   "id": "2ac7ef3d-1979-4f2c-b724-b91e9007c86e",
   "metadata": {},
   "outputs": [
    {
     "data": {
      "text/plain": [
       "\n",
       "Call:\n",
       "lm(formula = Survived ~ Fare, data = wealth)\n",
       "\n",
       "Residuals:\n",
       "    Min      1Q  Median      3Q     Max \n",
       "-0.9653 -0.3391 -0.3222  0.6044  0.6973 \n",
       "\n",
       "Coefficients:\n",
       "             Estimate Std. Error t value Pr(>|t|)    \n",
       "(Intercept) 0.3026994  0.0187849  16.114  < 2e-16 ***\n",
       "Fare        0.0025195  0.0003174   7.939 6.12e-15 ***\n",
       "---\n",
       "Signif. codes:  0 '***' 0.001 '**' 0.01 '*' 0.05 '.' 0.1 ' ' 1\n",
       "\n",
       "Residual standard error: 0.4705 on 889 degrees of freedom\n",
       "Multiple R-squared:  0.06621,\tAdjusted R-squared:  0.06516 \n",
       "F-statistic: 63.03 on 1 and 889 DF,  p-value: 6.12e-15\n"
      ]
     },
     "metadata": {},
     "output_type": "display_data"
    }
   ],
   "source": [
    "# Regressão 1: Survived ~ Fare:\n",
    "summary(lm(Survived ~ Fare, wealth))"
   ]
  },
  {
   "cell_type": "code",
   "execution_count": 53,
   "id": "40fd827f-36c2-4595-bc3f-6184ab90f516",
   "metadata": {},
   "outputs": [
    {
     "data": {
      "text/plain": [
       "\n",
       "Call:\n",
       "lm(formula = Survived ~ wealth, data = wealth)\n",
       "\n",
       "Residuals:\n",
       "    Min      1Q  Median      3Q     Max \n",
       "-0.5811 -0.3184 -0.3184  0.4189  0.6816 \n",
       "\n",
       "Coefficients:\n",
       "              Estimate Std. Error t value Pr(>|t|)    \n",
       "(Intercept)    0.31839    0.01830  17.396  < 2e-16 ***\n",
       "wealthWealthy  0.26270    0.03667   7.164 1.64e-12 ***\n",
       "---\n",
       "Signif. codes:  0 '***' 0.001 '**' 0.01 '*' 0.05 '.' 0.1 ' ' 1\n",
       "\n",
       "Residual standard error: 0.4734 on 889 degrees of freedom\n",
       "Multiple R-squared:  0.05459,\tAdjusted R-squared:  0.05352 \n",
       "F-statistic: 51.33 on 1 and 889 DF,  p-value: 1.639e-12\n"
      ]
     },
     "metadata": {},
     "output_type": "display_data"
    }
   ],
   "source": [
    "# Regressão 2: Survived ~ Classe:\n",
    "summary(lm(Survived ~ wealth, wealth))"
   ]
  },
  {
   "cell_type": "markdown",
   "id": "a5f9d1d9-3348-4d5d-9325-c3adcc035ab4",
   "metadata": {},
   "source": [
    "#### Conclusão:\n",
    "- As variáveis Fare e Survived estão correlacionadas"
   ]
  },
  {
   "cell_type": "markdown",
   "id": "519027b6-13ab-44f9-a3bb-48f6f4c92e67",
   "metadata": {},
   "source": [
    "# Situação 3: Pronome de tratamento influencia na sobrevivência?"
   ]
  },
  {
   "cell_type": "code",
   "execution_count": 54,
   "id": "53c71fd7-8b8a-443d-b6bd-844f5f1e662b",
   "metadata": {},
   "outputs": [
    {
     "data": {
      "text/plain": [
       "        \n",
       "         Capt Col Don  Dr Jonkheer Lady Major Master Miss Mlle Mme  Mr Mrs  Ms\n",
       "  female    0   0   0   1        0    1     0      0  182    2   1   0 125   1\n",
       "  male      1   2   1   6        1    0     2     40    0    0   0 517   0   0\n",
       "        \n",
       "         Rev Sir the Countess\n",
       "  female   0   0            1\n",
       "  male     6   1            0"
      ]
     },
     "metadata": {},
     "output_type": "display_data"
    }
   ],
   "source": [
    "# Dados\n",
    "social <- wealth %>% \n",
    "  mutate(title = gsub(\"(.*, )|(\\\\..*)\",\"\", Name))\n",
    "\n",
    "# Títulos\n",
    "table(social$Sex, social$title)"
   ]
  },
  {
   "cell_type": "code",
   "execution_count": 55,
   "id": "5ffc420b-05d9-4da3-9d67-7b798b46fea3",
   "metadata": {},
   "outputs": [
    {
     "data": {
      "text/html": [
       "<table>\n",
       "<thead><tr><th scope=col>Sex</th><th scope=col>classificacao_title</th><th scope=col>n</th></tr></thead>\n",
       "<tbody>\n",
       "\t<tr><td>female</td><td>Common</td><td>307   </td></tr>\n",
       "\t<tr><td>female</td><td>Rare  </td><td>  7   </td></tr>\n",
       "\t<tr><td>male  </td><td>Common</td><td>517   </td></tr>\n",
       "\t<tr><td>male  </td><td>Rare  </td><td> 60   </td></tr>\n",
       "</tbody>\n",
       "</table>\n"
      ],
      "text/latex": [
       "\\begin{tabular}{r|lll}\n",
       " Sex & classificacao\\_title & n\\\\\n",
       "\\hline\n",
       "\t female & Common & 307   \\\\\n",
       "\t female & Rare   &   7   \\\\\n",
       "\t male   & Common & 517   \\\\\n",
       "\t male   & Rare   &  60   \\\\\n",
       "\\end{tabular}\n"
      ],
      "text/markdown": [
       "\n",
       "| Sex | classificacao_title | n |\n",
       "|---|---|---|\n",
       "| female | Common | 307    |\n",
       "| female | Rare   |   7    |\n",
       "| male   | Common | 517    |\n",
       "| male   | Rare   |  60    |\n",
       "\n"
      ],
      "text/plain": [
       "  Sex    classificacao_title n  \n",
       "1 female Common              307\n",
       "2 female Rare                  7\n",
       "3 male   Common              517\n",
       "4 male   Rare                 60"
      ]
     },
     "metadata": {},
     "output_type": "display_data"
    }
   ],
   "source": [
    "social <- social %>%\n",
    "    mutate(classificacao_title = ifelse(title == 'Mr'| title == 'Mrs'| title == 'Miss', 'Common', 'Rare'))\n",
    "\n",
    "social %>%\n",
    "  count(Sex, classificacao_title)"
   ]
  },
  {
   "cell_type": "code",
   "execution_count": 56,
   "id": "b59ef3a4-0644-4468-b6b6-f412a928312e",
   "metadata": {},
   "outputs": [
    {
     "data": {
      "image/png": "[encoded data removed]",
      "text/plain": [
       "plot without title"
      ]
     },
     "metadata": {},
     "output_type": "display_data"
    }
   ],
   "source": [
    "# Contagem de mortos por classificação:\n",
    "social %>%\n",
    "  ggplot(aes(x = classificacao_title)) +\n",
    "  geom_bar(aes(fill = Passageiro))"
   ]
  },
  {
   "cell_type": "code",
   "execution_count": 57,
   "id": "161b0710-6c33-43e8-925a-c550286fe76a",
   "metadata": {
    "tags": []
   },
   "outputs": [
    {
     "data": {
      "image/png": "[encoded data removed]",
      "text/plain": [
       "plot without title"
      ]
     },
     "metadata": {},
     "output_type": "display_data"
    }
   ],
   "source": [
    "# Visualização da proporção de pessoas que morreram por classificação:\n",
    "social %>%\n",
    "  mutate(Passageiro = ifelse(Survived == 0, \"Sobreviveu\", \"Não sobreviveu\")) %>%\n",
    "  ggplot(aes(x = classificacao_title, fill = Passageiro)) + \n",
    "  geom_bar(position = 'fill')"
   ]
  },
  {
   "cell_type": "code",
   "execution_count": 58,
   "id": "36bad336-fb28-481e-8868-458eea9c7183",
   "metadata": {},
   "outputs": [
    {
     "data": {
      "text/html": [
       "-0.149815244167512"
      ],
      "text/latex": [
       "-0.149815244167512"
      ],
      "text/markdown": [
       "-0.149815244167512"
      ],
      "text/plain": [
       "[1] -0.1498152"
      ]
     },
     "metadata": {},
     "output_type": "display_data"
    }
   ],
   "source": [
    "# Diferença percentual entre os dois grupos:\n",
    "diff_social <- social %>%\n",
    "  group_by(classificacao_title) %>%\n",
    "  summarize(dead_prop = mean(Survived == 0)) %>% \n",
    "  summarize(diff(dead_prop)) %>%\n",
    "  pull()\n",
    "diff_social"
   ]
  },
  {
   "cell_type": "code",
   "execution_count": 59,
   "id": "1d41d587-820b-4382-b3f1-f0c1f6923300",
   "metadata": {},
   "outputs": [
    {
     "data": {
      "text/html": [
       "<table>\n",
       "<thead><tr><th scope=col>replicate</th><th scope=col>stat</th></tr></thead>\n",
       "<tbody>\n",
       "\t<tr><td>1           </td><td> 0.059991306</td></tr>\n",
       "\t<tr><td>2           </td><td>-0.004564556</td></tr>\n",
       "\t<tr><td>3           </td><td>-0.069120417</td></tr>\n",
       "\t<tr><td>4           </td><td> 0.076130271</td></tr>\n",
       "\t<tr><td>5           </td><td>-0.020703521</td></tr>\n",
       "\t<tr><td>6           </td><td> 0.043852340</td></tr>\n",
       "</tbody>\n",
       "</table>\n"
      ],
      "text/latex": [
       "\\begin{tabular}{r|ll}\n",
       " replicate & stat\\\\\n",
       "\\hline\n",
       "\t 1            &  0.059991306\\\\\n",
       "\t 2            & -0.004564556\\\\\n",
       "\t 3            & -0.069120417\\\\\n",
       "\t 4            &  0.076130271\\\\\n",
       "\t 5            & -0.020703521\\\\\n",
       "\t 6            &  0.043852340\\\\\n",
       "\\end{tabular}\n"
      ],
      "text/markdown": [
       "\n",
       "| replicate | stat |\n",
       "|---|---|\n",
       "| 1            |  0.059991306 |\n",
       "| 2            | -0.004564556 |\n",
       "| 3            | -0.069120417 |\n",
       "| 4            |  0.076130271 |\n",
       "| 5            | -0.020703521 |\n",
       "| 6            |  0.043852340 |\n",
       "\n"
      ],
      "text/plain": [
       "  replicate stat        \n",
       "1 1          0.059991306\n",
       "2 2         -0.004564556\n",
       "3 3         -0.069120417\n",
       "4 4          0.076130271\n",
       "5 5         -0.020703521\n",
       "6 6          0.043852340"
      ]
     },
     "metadata": {},
     "output_type": "display_data"
    }
   ],
   "source": [
    "disc_perm_social <- social %>%\n",
    "  specify(Passageiro ~ classificacao_title, success = 'Sobreviveu') %>%\n",
    "  hypothesize(null = \"independence\") %>%\n",
    "  generate(reps = 1000, type = \"permute\") %>%\n",
    "  calculate(stat = 'diff in props', order = c('Common', 'Rare'))\n",
    "head(disc_perm_social)"
   ]
  },
  {
   "cell_type": "code",
   "execution_count": 60,
   "id": "e6fa2617-5f1b-4c02-baef-c2270178f9a6",
   "metadata": {},
   "outputs": [
    {
     "data": {
      "text/html": [
       "<table>\n",
       "<thead><tr><th scope=col>q_05</th><th scope=col>q_95</th></tr></thead>\n",
       "<tbody>\n",
       "\t<tr><td>-0.1013983</td><td>0.09226924</td></tr>\n",
       "</tbody>\n",
       "</table>\n"
      ],
      "text/latex": [
       "\\begin{tabular}{r|ll}\n",
       " q\\_05 & q\\_95\\\\\n",
       "\\hline\n",
       "\t -0.1013983 & 0.09226924\\\\\n",
       "\\end{tabular}\n"
      ],
      "text/markdown": [
       "\n",
       "| q_05 | q_95 |\n",
       "|---|---|\n",
       "| -0.1013983 | 0.09226924 |\n",
       "\n"
      ],
      "text/plain": [
       "  q_05       q_95      \n",
       "1 -0.1013983 0.09226924"
      ]
     },
     "metadata": {},
     "output_type": "display_data"
    }
   ],
   "source": [
    "disc_perm_social %>% \n",
    "  summarize(\n",
    "    q_05 = quantile(stat, p = .05),\n",
    "    q_95 = quantile(stat, p = .95),\n",
    "  )"
   ]
  },
  {
   "cell_type": "code",
   "execution_count": 61,
   "id": "b43ef87f-22b4-4825-99db-a250e4aead24",
   "metadata": {},
   "outputs": [
    {
     "data": {
      "image/png": "[encoded data removed]",
      "text/plain": [
       "plot without title"
      ]
     },
     "metadata": {},
     "output_type": "display_data"
    }
   ],
   "source": [
    "# Plotando a diferença entre a distribuição dos p-hats das amostras permutadas com a diferença da observação original: \n",
    "ggplot(disc_perm_social, aes(x = stat)) + \n",
    "  geom_histogram(binwidth = 0.004) +\n",
    "  geom_vline(aes(xintercept = diff_social), color = \"red\")"
   ]
  },
  {
   "cell_type": "code",
   "execution_count": 62,
   "id": "fa7d01c5-5e89-44ac-be55-ba39da470ce1",
   "metadata": {},
   "outputs": [
    {
     "data": {
      "image/png": "[encoded data removed]",
      "text/plain": [
       "plot without title"
      ]
     },
     "metadata": {},
     "output_type": "display_data"
    }
   ],
   "source": [
    "ggplot(disc_perm_social, aes(x = stat)) + \n",
    "  geom_density() +\n",
    "  geom_vline(aes(xintercept = diff_social), color = \"red\")"
   ]
  },
  {
   "cell_type": "code",
   "execution_count": 63,
   "id": "650d6cec-a529-4320-907a-392a5fd0685b",
   "metadata": {},
   "outputs": [
    {
     "name": "stderr",
     "output_type": "stream",
     "text": [
      "Warning message:\n",
      "\"`visualize()` should no longer be used to plot a p-value. Arguments `obs_stat`, `obs_stat_color`, `pvalue_fill`, and `direction` are deprecated. Use `shade_p_value()` instead.\""
     ]
    },
    {
     "data": {
      "text/html": [
       "<table>\n",
       "<thead><tr><th scope=col>p_value</th></tr></thead>\n",
       "<tbody>\n",
       "\t<tr><td>0.005</td></tr>\n",
       "</tbody>\n",
       "</table>\n"
      ],
      "text/latex": [
       "\\begin{tabular}{r|l}\n",
       " p\\_value\\\\\n",
       "\\hline\n",
       "\t 0.005\\\\\n",
       "\\end{tabular}\n"
      ],
      "text/markdown": [
       "\n",
       "| p_value |\n",
       "|---|\n",
       "| 0.005 |\n",
       "\n"
      ],
      "text/plain": [
       "  p_value\n",
       "1 0.005  "
      ]
     },
     "metadata": {},
     "output_type": "display_data"
    },
    {
     "data": {
      "image/png": "[encoded data removed]",
      "text/plain": [
       "plot without title"
      ]
     },
     "metadata": {},
     "output_type": "display_data"
    }
   ],
   "source": [
    "disc_perm_social %>%\n",
    "  visualize(obs_stat = diff_social, direction = \"less\")\n",
    "\n",
    "disc_perm_social %>%\n",
    "  get_p_value(diff_social, direction = 'less')"
   ]
  },
  {
   "cell_type": "code",
   "execution_count": 64,
   "id": "14ad2618-a72d-42cf-8be7-e56f9a0b9517",
   "metadata": {},
   "outputs": [
    {
     "data": {
      "text/plain": [
       "\n",
       "Call:\n",
       "lm(formula = Survived ~ factor(classificacao_title), data = social)\n",
       "\n",
       "Residuals:\n",
       "    Min      1Q  Median      3Q     Max \n",
       "-0.5224 -0.3726 -0.3726  0.6274  0.6274 \n",
       "\n",
       "Coefficients:\n",
       "                                Estimate Std. Error t value Pr(>|t|)    \n",
       "(Intercept)                      0.37257    0.01690   22.04   <2e-16 ***\n",
       "factor(classificacao_title)Rare  0.14982    0.06165    2.43   0.0153 *  \n",
       "---\n",
       "Signif. codes:  0 '***' 0.001 '**' 0.01 '*' 0.05 '.' 0.1 ' ' 1\n",
       "\n",
       "Residual standard error: 0.4853 on 889 degrees of freedom\n",
       "Multiple R-squared:  0.0066,\tAdjusted R-squared:  0.005482 \n",
       "F-statistic: 5.906 on 1 and 889 DF,  p-value: 0.01529\n"
      ]
     },
     "metadata": {},
     "output_type": "display_data"
    }
   ],
   "source": [
    "# Regressãozinha:\n",
    "summary(lm(Survived ~ factor(classificacao_title), social))"
   ]
  },
  {
   "cell_type": "markdown",
   "id": "7c066cb8-e219-4306-9148-632c54cfd81d",
   "metadata": {},
   "source": [
    "## Regressões:"
   ]
  },
  {
   "cell_type": "code",
   "execution_count": 65,
   "id": "26f38010-228c-4242-bc64-d1b3eb3baed9",
   "metadata": {},
   "outputs": [
    {
     "data": {
      "text/plain": [
       "\n",
       "Call:\n",
       "lm(formula = Survived ~ Sex, data = data)\n",
       "\n",
       "Residuals:\n",
       "    Min      1Q  Median      3Q     Max \n",
       "-0.7420 -0.1889 -0.1889  0.2580  0.8111 \n",
       "\n",
       "Coefficients:\n",
       "            Estimate Std. Error t value Pr(>|t|)    \n",
       "(Intercept)  0.74204    0.02307   32.17   <2e-16 ***\n",
       "Sexmale     -0.55313    0.02866  -19.30   <2e-16 ***\n",
       "---\n",
       "Signif. codes:  0 '***' 0.001 '**' 0.01 '*' 0.05 '.' 0.1 ' ' 1\n",
       "\n",
       "Residual standard error: 0.4087 on 889 degrees of freedom\n",
       "Multiple R-squared:  0.2952,\tAdjusted R-squared:  0.2944 \n",
       "F-statistic: 372.4 on 1 and 889 DF,  p-value: < 2.2e-16\n"
      ]
     },
     "metadata": {},
     "output_type": "display_data"
    }
   ],
   "source": [
    "# Regressao 1 -> Survived ~ Gênero\n",
    "summary(lm(Survived ~ Sex, data))"
   ]
  },
  {
   "cell_type": "code",
   "execution_count": 66,
   "id": "dd459dda-87e8-4042-ab14-2146d38e9f94",
   "metadata": {},
   "outputs": [
    {
     "data": {
      "text/plain": [
       "\n",
       "Call:\n",
       "lm(formula = Survived ~ Age, data = data)\n",
       "\n",
       "Residuals:\n",
       "    Min      1Q  Median      3Q     Max \n",
       "-0.4811 -0.4158 -0.3662  0.5789  0.7252 \n",
       "\n",
       "Coefficients:\n",
       "             Estimate Std. Error t value Pr(>|t|)    \n",
       "(Intercept)  0.483753   0.041788  11.576   <2e-16 ***\n",
       "Age         -0.002613   0.001264  -2.067   0.0391 *  \n",
       "---\n",
       "Signif. codes:  0 '***' 0.001 '**' 0.01 '*' 0.05 '.' 0.1 ' ' 1\n",
       "\n",
       "Residual standard error: 0.4903 on 712 degrees of freedom\n",
       "  (177 observations deleted due to missingness)\n",
       "Multiple R-squared:  0.005963,\tAdjusted R-squared:  0.004567 \n",
       "F-statistic: 4.271 on 1 and 712 DF,  p-value: 0.03912\n"
      ]
     },
     "metadata": {},
     "output_type": "display_data"
    }
   ],
   "source": [
    "# Regressão 2 -> Survived ~ Age\n",
    "summary(lm(Survived ~ Age, data))"
   ]
  },
  {
   "cell_type": "code",
   "execution_count": 67,
   "id": "70982b4a-1f5b-4e26-865d-4eec2ceae21e",
   "metadata": {},
   "outputs": [
    {
     "data": {
      "text/plain": [
       "\n",
       "Call:\n",
       "lm(formula = Survived ~ Fare, data = data)\n",
       "\n",
       "Residuals:\n",
       "    Min      1Q  Median      3Q     Max \n",
       "-0.9653 -0.3391 -0.3222  0.6044  0.6973 \n",
       "\n",
       "Coefficients:\n",
       "             Estimate Std. Error t value Pr(>|t|)    \n",
       "(Intercept) 0.3026994  0.0187849  16.114  < 2e-16 ***\n",
       "Fare        0.0025195  0.0003174   7.939 6.12e-15 ***\n",
       "---\n",
       "Signif. codes:  0 '***' 0.001 '**' 0.01 '*' 0.05 '.' 0.1 ' ' 1\n",
       "\n",
       "Residual standard error: 0.4705 on 889 degrees of freedom\n",
       "Multiple R-squared:  0.06621,\tAdjusted R-squared:  0.06516 \n",
       "F-statistic: 63.03 on 1 and 889 DF,  p-value: 6.12e-15\n"
      ]
     },
     "metadata": {},
     "output_type": "display_data"
    }
   ],
   "source": [
    "# Regressão 3 -> Survived ~ Fare\n",
    "summary(lm(Survived ~ Fare, data))"
   ]
  },
  {
   "cell_type": "code",
   "execution_count": 68,
   "id": "900be3f4-402f-4325-ac59-ace89c460396",
   "metadata": {},
   "outputs": [
    {
     "data": {
      "text/plain": [
       "\n",
       "Call:\n",
       "lm(formula = Survived ~ factor(Pclass), data = data)\n",
       "\n",
       "Residuals:\n",
       "    Min      1Q  Median      3Q     Max \n",
       "-0.6296 -0.2424 -0.2424  0.3704  0.7576 \n",
       "\n",
       "Coefficients:\n",
       "                Estimate Std. Error t value Pr(>|t|)    \n",
       "(Intercept)      0.62963    0.03117  20.198  < 2e-16 ***\n",
       "factor(Pclass)2 -0.15680    0.04596  -3.412 0.000675 ***\n",
       "factor(Pclass)3 -0.38727    0.03741 -10.353  < 2e-16 ***\n",
       "---\n",
       "Signif. codes:  0 '***' 0.001 '**' 0.01 '*' 0.05 '.' 0.1 ' ' 1\n",
       "\n",
       "Residual standard error: 0.4582 on 888 degrees of freedom\n",
       "Multiple R-squared:  0.1155,\tAdjusted R-squared:  0.1135 \n",
       "F-statistic: 57.96 on 2 and 888 DF,  p-value: < 2.2e-16\n"
      ]
     },
     "metadata": {},
     "output_type": "display_data"
    }
   ],
   "source": [
    "# Regressão 4 -> Survived ~ Pclass\n",
    "summary(lm(Survived ~ factor(Pclass), data))"
   ]
  },
  {
   "cell_type": "code",
   "execution_count": 69,
   "id": "0d86a487-4b49-4abc-8dde-cb326db085c0",
   "metadata": {},
   "outputs": [
    {
     "data": {
      "text/plain": [
       "\n",
       "Call:\n",
       "lm(formula = Survived ~ classificacao_title, data = social)\n",
       "\n",
       "Residuals:\n",
       "    Min      1Q  Median      3Q     Max \n",
       "-0.5224 -0.3726 -0.3726  0.6274  0.6274 \n",
       "\n",
       "Coefficients:\n",
       "                        Estimate Std. Error t value Pr(>|t|)    \n",
       "(Intercept)              0.37257    0.01690   22.04   <2e-16 ***\n",
       "classificacao_titleRare  0.14982    0.06165    2.43   0.0153 *  \n",
       "---\n",
       "Signif. codes:  0 '***' 0.001 '**' 0.01 '*' 0.05 '.' 0.1 ' ' 1\n",
       "\n",
       "Residual standard error: 0.4853 on 889 degrees of freedom\n",
       "Multiple R-squared:  0.0066,\tAdjusted R-squared:  0.005482 \n",
       "F-statistic: 5.906 on 1 and 889 DF,  p-value: 0.01529\n"
      ]
     },
     "metadata": {},
     "output_type": "display_data"
    }
   ],
   "source": [
    "# Regressão 5 -> Survived ~ Título\n",
    "summary(lm(Survived ~ classificacao_title, social))"
   ]
  },
  {
   "cell_type": "code",
   "execution_count": 70,
   "id": "fbad6a1b-4f65-4393-9dc4-51085dc1ceb0",
   "metadata": {},
   "outputs": [
    {
     "data": {
      "text/plain": [
       "\n",
       "Call:\n",
       "lm(formula = Fare ~ Age, data = data)\n",
       "\n",
       "Residuals:\n",
       "   Min     1Q Median     3Q    Max \n",
       "-42.42 -24.49 -17.60   2.33 475.78 \n",
       "\n",
       "Coefficients:\n",
       "            Estimate Std. Error t value Pr(>|t|)    \n",
       "(Intercept)  24.3009     4.4922   5.410 8.64e-08 ***\n",
       "Age           0.3500     0.1359   2.575   0.0102 *  \n",
       "---\n",
       "Signif. codes:  0 '***' 0.001 '**' 0.01 '*' 0.05 '.' 0.1 ' ' 1\n",
       "\n",
       "Residual standard error: 52.71 on 712 degrees of freedom\n",
       "  (177 observations deleted due to missingness)\n",
       "Multiple R-squared:  0.009229,\tAdjusted R-squared:  0.007837 \n",
       "F-statistic: 6.632 on 1 and 712 DF,  p-value: 0.01022\n"
      ]
     },
     "metadata": {},
     "output_type": "display_data"
    }
   ],
   "source": [
    "# Regressão 6 -> Fare ~ Age\n",
    "summary(lm(Fare ~ Age, data))"
   ]
  },
  {
   "cell_type": "code",
   "execution_count": 72,
   "id": "5cc6d647-a93d-41f3-a0eb-99550cdad075",
   "metadata": {},
   "outputs": [
    {
     "data": {
      "text/plain": [
       "\n",
       "Call:\n",
       "lm(formula = Age ~ Sex, data = data)\n",
       "\n",
       "Residuals:\n",
       "    Min      1Q  Median      3Q     Max \n",
       "-30.307  -9.727  -1.727   8.273  49.273 \n",
       "\n",
       "Coefficients:\n",
       "            Estimate Std. Error t value Pr(>|t|)    \n",
       "(Intercept)  27.9157     0.8959  31.160   <2e-16 ***\n",
       "Sexmale       2.8109     1.1247   2.499   0.0127 *  \n",
       "---\n",
       "Signif. codes:  0 '***' 0.001 '**' 0.01 '*' 0.05 '.' 0.1 ' ' 1\n",
       "\n",
       "Residual standard error: 14.47 on 712 degrees of freedom\n",
       "  (177 observations deleted due to missingness)\n",
       "Multiple R-squared:  0.008696,\tAdjusted R-squared:  0.007304 \n",
       "F-statistic: 6.246 on 1 and 712 DF,  p-value: 0.01267\n"
      ]
     },
     "metadata": {},
     "output_type": "display_data"
    }
   ],
   "source": [
    "# Regressão 7: Idade ~ gênero \n",
    "summary(lm(Age ~ Sex, data))"
   ]
  },
  {
   "cell_type": "code",
   "execution_count": 77,
   "id": "f60d6251-c486-4c8c-97d4-9b43db23bcd0",
   "metadata": {},
   "outputs": [
    {
     "ename": "ERROR",
     "evalue": "Error in eval(predvars, data, env): objeto 'classificacao_title' não encontrado\n",
     "output_type": "error",
     "traceback": [
      "Error in eval(predvars, data, env): objeto 'classificacao_title' não encontrado\nTraceback:\n",
      "1. social %>% na.omit(classificacao_title) %>% na.omit(Fare) %>% \n .     summary(lm(classificacao_title ~ Fare))",
      "2. summary(., lm(classificacao_title ~ Fare))",
      "3. summary.data.frame(., lm(classificacao_title ~ Fare))",
      "4. lapply(X = as.list(object), FUN = summary, maxsum = maxsum, digits = 12L, \n .     ...)",
      "5. FUN(X[[i]], ...)",
      "6. summary.factor(X[[i]], ...)",
      "7. lm(classificacao_title ~ Fare)",
      "8. eval(mf, parent.frame())",
      "9. eval(mf, parent.frame())",
      "10. stats::model.frame(formula = classificacao_title ~ Fare, drop.unused.levels = TRUE)",
      "11. model.frame.default(formula = classificacao_title ~ Fare, drop.unused.levels = TRUE)",
      "12. eval(predvars, data, env)",
      "13. eval(predvars, data, env)"
     ]
    }
   ],
   "source": [
    "# Título ~ Fare\n",
    "social %>%\n",
    "    na.omit(classificacao_title) %>%\n",
    "    na.omit(Fare) %>%\n",
    "    summary(lm(classificacao_title ~ Fare))"
   ]
  },
  {
   "cell_type": "code",
   "execution_count": 85,
   "id": "e6e77957-de03-48d4-8bb7-a4d738d0990f",
   "metadata": {},
   "outputs": [
    {
     "data": {
      "text/plain": [
       "\n",
       "Call:\n",
       "lm(formula = Survived ~ Fare + Age + factor(Sex) + factor(Pclass), \n",
       "    data = social)\n",
       "\n",
       "Residuals:\n",
       "     Min       1Q   Median       3Q      Max \n",
       "-1.11662 -0.25088 -0.06428  0.23120  1.00635 \n",
       "\n",
       "Coefficients:\n",
       "                  Estimate Std. Error t value Pr(>|t|)    \n",
       "(Intercept)      1.118e+00  6.372e-02  17.550  < 2e-16 ***\n",
       "Fare             6.052e-05  3.480e-04   0.174    0.862    \n",
       "Age             -5.433e-03  1.096e-03  -4.958 8.92e-07 ***\n",
       "factor(Sex)male -4.788e-01  3.095e-02 -15.471  < 2e-16 ***\n",
       "factor(Pclass)2 -2.035e-01  4.830e-02  -4.213 2.84e-05 ***\n",
       "factor(Pclass)3 -4.018e-01  4.714e-02  -8.525  < 2e-16 ***\n",
       "---\n",
       "Signif. codes:  0 '***' 0.001 '**' 0.01 '*' 0.05 '.' 0.1 ' ' 1\n",
       "\n",
       "Residual standard error: 0.3851 on 708 degrees of freedom\n",
       "  (177 observations deleted due to missingness)\n",
       "Multiple R-squared:  0.3902,\tAdjusted R-squared:  0.3859 \n",
       "F-statistic: 90.61 on 5 and 708 DF,  p-value: < 2.2e-16\n"
      ]
     },
     "metadata": {},
     "output_type": "display_data"
    }
   ],
   "source": [
    "# Vários controles:\n",
    "summary(lm(Survived ~ Fare + Age + factor(Sex) + factor(Pclass), social))"
   ]
  },
  {
   "cell_type": "markdown",
   "id": "198e46f5-3371-4349-b65d-91b28dc0033c",
   "metadata": {},
   "source": [
    "### Extra: Bootstrapping"
   ]
  },
  {
   "cell_type": "markdown",
   "id": "7349bdca-bde1-4960-b2ae-3317c6d5e62c",
   "metadata": {},
   "source": [
    "Vamos estimar quantas pessoas morreram a partir da reamostragem de uma amostra da população:"
   ]
  },
  {
   "cell_type": "markdown",
   "id": "bef48862-80f4-4758-9037-c4d2f39eeb26",
   "metadata": {},
   "source": [
    "<img src=\"ch4_2_v4.018.png\" style=\"width: 600px;\"/>"
   ]
  },
  {
   "cell_type": "code",
   "execution_count": 86,
   "id": "f9b006f6-3481-4dac-b534-4c17a48b618b",
   "metadata": {},
   "outputs": [
    {
     "data": {
      "text/html": [
       "0.384"
      ],
      "text/latex": [
       "0.384"
      ],
      "text/markdown": [
       "0.384"
      ],
      "text/plain": [
       "[1] 0.384"
      ]
     },
     "metadata": {},
     "output_type": "display_data"
    }
   ],
   "source": [
    "# Proporção verdadeira de mortos da população:\n",
    "round(mean(data$Survived), 3)"
   ]
  },
  {
   "cell_type": "code",
   "execution_count": 87,
   "id": "e947088f-c78f-4de5-ba55-a39966fe9245",
   "metadata": {},
   "outputs": [],
   "source": [
    "# Tomando uma amostra de tamanho 400 do dataset\n",
    "bootstrap_sample <- sample_n(data, 400)"
   ]
  },
  {
   "cell_type": "code",
   "execution_count": 88,
   "id": "9cb170c9-914d-4489-8e7d-9cb97a2c9e07",
   "metadata": {},
   "outputs": [
    {
     "data": {
      "text/html": [
       "<table>\n",
       "<thead><tr><th scope=col>Passageiro</th><th scope=col>n</th></tr></thead>\n",
       "<tbody>\n",
       "\t<tr><td>Não sobreviveu</td><td>262           </td></tr>\n",
       "\t<tr><td>Sobreviveu    </td><td>138           </td></tr>\n",
       "</tbody>\n",
       "</table>\n"
      ],
      "text/latex": [
       "\\begin{tabular}{r|ll}\n",
       " Passageiro & n\\\\\n",
       "\\hline\n",
       "\t Não sobreviveu & 262           \\\\\n",
       "\t Sobreviveu     & 138           \\\\\n",
       "\\end{tabular}\n"
      ],
      "text/markdown": [
       "\n",
       "| Passageiro | n |\n",
       "|---|---|\n",
       "| Não sobreviveu | 262            |\n",
       "| Sobreviveu     | 138            |\n",
       "\n"
      ],
      "text/plain": [
       "  Passageiro     n  \n",
       "1 Não sobreviveu 262\n",
       "2 Sobreviveu     138"
      ]
     },
     "metadata": {},
     "output_type": "display_data"
    }
   ],
   "source": [
    "bootstrap_sample %>%\n",
    "    count(Passageiro)"
   ]
  },
  {
   "cell_type": "code",
   "execution_count": 89,
   "id": "7d47aa06-570e-45b6-9fd4-30ea78f133cd",
   "metadata": {},
   "outputs": [
    {
     "data": {
      "text/html": [
       "<table>\n",
       "<thead><tr><th scope=col>replicate</th><th scope=col>stat</th></tr></thead>\n",
       "<tbody>\n",
       "\t<tr><td>1     </td><td>0.3150</td></tr>\n",
       "\t<tr><td>2     </td><td>0.3725</td></tr>\n",
       "\t<tr><td>3     </td><td>0.3875</td></tr>\n",
       "\t<tr><td>4     </td><td>0.3700</td></tr>\n",
       "\t<tr><td>5     </td><td>0.3500</td></tr>\n",
       "\t<tr><td>6     </td><td>0.2950</td></tr>\n",
       "</tbody>\n",
       "</table>\n"
      ],
      "text/latex": [
       "\\begin{tabular}{r|ll}\n",
       " replicate & stat\\\\\n",
       "\\hline\n",
       "\t 1      & 0.3150\\\\\n",
       "\t 2      & 0.3725\\\\\n",
       "\t 3      & 0.3875\\\\\n",
       "\t 4      & 0.3700\\\\\n",
       "\t 5      & 0.3500\\\\\n",
       "\t 6      & 0.2950\\\\\n",
       "\\end{tabular}\n"
      ],
      "text/markdown": [
       "\n",
       "| replicate | stat |\n",
       "|---|---|\n",
       "| 1      | 0.3150 |\n",
       "| 2      | 0.3725 |\n",
       "| 3      | 0.3875 |\n",
       "| 4      | 0.3700 |\n",
       "| 5      | 0.3500 |\n",
       "| 6      | 0.2950 |\n",
       "\n"
      ],
      "text/plain": [
       "  replicate stat  \n",
       "1 1         0.3150\n",
       "2 2         0.3725\n",
       "3 3         0.3875\n",
       "4 4         0.3700\n",
       "5 5         0.3500\n",
       "6 6         0.2950"
      ]
     },
     "metadata": {},
     "output_type": "display_data"
    }
   ],
   "source": [
    "# Fazendo o bootstrapping e extraindo o p-hat* das reamostragens: \n",
    "bootstrap_sample_props <- bootstrap_sample %>%\n",
    "  specify(response = Passageiro, success = 'Sobreviveu') %>%\n",
    "# Note que o valor de reps é igual ao valor de observações da amostra selecionada! \n",
    "  generate(reps = 400, type = 'bootstrap') %>% \n",
    "  calculate(stat = 'prop')\n",
    "\n",
    "head(bootstrap_sample_props)"
   ]
  },
  {
   "cell_type": "code",
   "execution_count": 90,
   "id": "6d756279-712c-45d8-8227-b8a4652610e7",
   "metadata": {},
   "outputs": [
    {
     "data": {
      "text/html": [
       "<table>\n",
       "<thead><tr><th scope=col>variability</th></tr></thead>\n",
       "<tbody>\n",
       "\t<tr><td>0.02355192</td></tr>\n",
       "</tbody>\n",
       "</table>\n"
      ],
      "text/latex": [
       "\\begin{tabular}{r|l}\n",
       " variability\\\\\n",
       "\\hline\n",
       "\t 0.02355192\\\\\n",
       "\\end{tabular}\n"
      ],
      "text/markdown": [
       "\n",
       "| variability |\n",
       "|---|\n",
       "| 0.02355192 |\n",
       "\n"
      ],
      "text/plain": [
       "  variability\n",
       "1 0.02355192 "
      ]
     },
     "metadata": {},
     "output_type": "display_data"
    }
   ],
   "source": [
    "# Calculando a variabilidade da estatística das ***amostras do bootstrap*** -> ERRO PADRÃO:\n",
    "bootstrap_sample_props %>% \n",
    "  summarize(variability = sd(stat))"
   ]
  },
  {
   "cell_type": "code",
   "execution_count": 91,
   "id": "a9e6eaae-6f84-453f-97b8-51d55854203a",
   "metadata": {},
   "outputs": [
    {
     "data": {
      "image/png": "[encoded data removed]",
      "text/plain": [
       "plot without title"
      ]
     },
     "metadata": {},
     "output_type": "display_data"
    }
   ],
   "source": [
    "# Plotando os intervalos de confiança para cada reamostragem:\n",
    "sample_n(bootstrap_sample_props, 20) %>%\n",
    "    mutate(CI_s = stat + 1.96 * sd(stat)) %>%\n",
    "    mutate(CI_i = stat - 1.96 * sd(stat)) %>%\n",
    "    ggplot(aes(x = replicate, y = stat)) +\n",
    "        geom_point(size = 4) +\n",
    "        geom_errorbar(aes(ymax = CI_s, ymin = CI_i)) +\n",
    "        theme_classic() +\n",
    "        labs(title = 'Distribuição de intervalos de confiança das reamostragens')"
   ]
  },
  {
   "cell_type": "code",
   "execution_count": 92,
   "id": "daa64ea0-5f76-4121-8ee2-3815975894bc",
   "metadata": {},
   "outputs": [
    {
     "data": {
      "text/html": [
       "0.345"
      ],
      "text/latex": [
       "0.345"
      ],
      "text/markdown": [
       "0.345"
      ],
      "text/plain": [
       "[1] 0.345"
      ]
     },
     "metadata": {},
     "output_type": "display_data"
    }
   ],
   "source": [
    "# Calculando o p-hat da ***amostra original***:\n",
    "p_hat <- bootstrap_sample %>%\n",
    "  summarize(stat = mean(Passageiro == 'Sobreviveu')) %>%\n",
    "  pull()\n",
    "\n",
    "p_hat"
   ]
  },
  {
   "cell_type": "code",
   "execution_count": 93,
   "id": "aad2de52-18db-4689-a49d-deaf576d085d",
   "metadata": {},
   "outputs": [
    {
     "data": {
      "text/html": [
       "<table>\n",
       "<thead><tr><th scope=col>lower</th><th scope=col>upper</th></tr></thead>\n",
       "<tbody>\n",
       "\t<tr><td>0.2988382</td><td>0.3911618</td></tr>\n",
       "</tbody>\n",
       "</table>\n"
      ],
      "text/latex": [
       "\\begin{tabular}{r|ll}\n",
       " lower & upper\\\\\n",
       "\\hline\n",
       "\t 0.2988382 & 0.3911618\\\\\n",
       "\\end{tabular}\n"
      ],
      "text/markdown": [
       "\n",
       "| lower | upper |\n",
       "|---|---|\n",
       "| 0.2988382 | 0.3911618 |\n",
       "\n"
      ],
      "text/plain": [
       "  lower     upper    \n",
       "1 0.2988382 0.3911618"
      ]
     },
     "metadata": {},
     "output_type": "display_data"
    }
   ],
   "source": [
    "# Pela Regra Empírica (intervalo t) - aprox. 95% das reamostragens vão produzir p-hat* dentro de um intervalo de 2\n",
    "# erros padrão do p-hat da amostra original:\n",
    "bootstrap_sample_props %>%\n",
    "  summarize(\n",
    "    lower = p_hat - 1.96 * sd(stat),\n",
    "    upper = p_hat + 1.96 * sd(stat)\n",
    "  )"
   ]
  },
  {
   "cell_type": "code",
   "execution_count": 94,
   "id": "dfae4fc6-994f-4e62-999c-31fce917f9f1",
   "metadata": {},
   "outputs": [
    {
     "data": {
      "text/html": [
       "<table>\n",
       "<thead><tr><th scope=col>lower_ci</th><th scope=col>upper_ci</th></tr></thead>\n",
       "<tbody>\n",
       "\t<tr><td>0.2999375</td><td>0.385    </td></tr>\n",
       "</tbody>\n",
       "</table>\n"
      ],
      "text/latex": [
       "\\begin{tabular}{r|ll}\n",
       " lower\\_ci & upper\\_ci\\\\\n",
       "\\hline\n",
       "\t 0.2999375 & 0.385    \\\\\n",
       "\\end{tabular}\n"
      ],
      "text/markdown": [
       "\n",
       "| lower_ci | upper_ci |\n",
       "|---|---|\n",
       "| 0.2999375 | 0.385     |\n",
       "\n"
      ],
      "text/plain": [
       "  lower_ci  upper_ci\n",
       "1 0.2999375 0.385   "
      ]
     },
     "metadata": {},
     "output_type": "display_data"
    }
   ],
   "source": [
    "# Pelo cálculo dentro do quantil estabelecido:\n",
    "percentile_ci <- bootstrap_sample_props %>% \n",
    "  get_confidence_interval(level = 0.95)\n",
    "\n",
    "percentile_ci"
   ]
  },
  {
   "cell_type": "code",
   "execution_count": 95,
   "id": "ef29aa67-9f80-49f0-b097-0e1ff9a46e6e",
   "metadata": {},
   "outputs": [
    {
     "name": "stderr",
     "output_type": "stream",
     "text": [
      "Warning message:\n",
      "\"`visualize()` should no longer be used to plot a confidence interval. Arguments `endpoints`, `endpoints_color`, and `ci_fill` are deprecated. Use `shade_confidence_interval()` instead.\""
     ]
    },
    {
     "data": {
      "image/png": "[encoded data removed]",
      "text/plain": [
       "plot without title"
      ]
     },
     "metadata": {},
     "output_type": "display_data"
    }
   ],
   "source": [
    "bootstrap_sample_props %>% \n",
    "  visualize(endpoints = percentile_ci, direction = 'between')"
   ]
  }
 ],
 "metadata": {
  "kernelspec": {
   "display_name": "R",
   "language": "R",
   "name": "ir"
  },
  "language_info": {
   "codemirror_mode": "r",
   "file_extension": ".r",
   "mimetype": "text/x-r-source",
   "name": "R",
   "pygments_lexer": "r",
   "version": "3.6.1"
  }
 },
 "nbformat": 4,
 "nbformat_minor": 5
}
